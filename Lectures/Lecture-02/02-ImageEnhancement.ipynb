{
 "cells": [
  {
   "cell_type": "code",
   "execution_count": null,
   "metadata": {},
   "outputs": [],
   "source": [
    "%matplotlib inline\n",
    "import matplotlib.pyplot as plt\n",
    "import numpy as np\n",
    "import skimage as ski\n",
    "from skimage.morphology import disk\n",
    "import scipy.ndimage as ndimage"
   ]
  },
  {
   "cell_type": "markdown",
   "metadata": {
    "slideshow": {
     "slide_type": "slide"
    }
   },
   "source": [
    "# ETHZ: 227-0966-00L\n",
    "\n",
    "# Quantitative Big Imaging\n",
    "\n",
    "\n",
    "\n",
    "## Image Enhancement\n",
    "##  February 27th, 2020\n",
    "\n",
    "### Anders Kaestner"
   ]
  },
  {
   "cell_type": "markdown",
   "metadata": {
    "slideshow": {
     "slide_type": "slide"
    }
   },
   "source": [
    "# Measurements are rarely perfect\n",
    "<figure><img src=\"ext-figures/lecture03/imperfect_imaging_system.svg\" style=\"height:300px\" align=\"middle\"></figure>\n",
    "\n",
    "## Factors affecting the image quality\n",
    "* Resolution (Imaging system transfer functions)\n",
    "* Noise\n",
    "* Contrast\n",
    "* Inhomogeneous contrast\n",
    "* Artifacts"
   ]
  },
  {
   "cell_type": "markdown",
   "metadata": {
    "slideshow": {
     "slide_type": "notes"
    }
   },
   "source": [
    "No measurement system is perfect and therefore, you will also not get perfect images of the sample you measured. In the figure you can see the slice as it would be in a perfect world to the left and what you actually would measure with an imaging system. Some are of higher quality than others but there are still a collection of factors that have an impact on the image quality.\n",
    "* __Resolution__ Thanks to the optical system there will be some unsharpness caused by scintillator, lenses, and camera. this appears as blurring or the acquired images.\n",
    "* __Noise__ There are different sources of noise when an image is acquired. Most of them are Poisson/Binomial distributed point processes, but thanks to the light spread in the scintillator there can also be some spatially correlated noise.\n",
    "* __Contrast__ Sometimes there is a very low intensity difference between different regions of the sample. This is in particularly problematic when the signal to noise ratio is low.\n",
    "* __Inhomogeneous contrast__ The interaction between radiation and matter may introduce effects that appear as an inhomogeneous contrast. Typical such effects are beam hardening and scattering.\n",
    "* __Artifacts__ The artifacts are features in the image that are not present in the sample. Often this is caused by detector errors or interference of radiation background or seconday radiation events.  \n"
   ]
  },
  {
   "cell_type": "markdown",
   "metadata": {
    "slideshow": {
     "slide_type": "slide"
    }
   },
   "source": [
    "# A typical processing chain\n",
    "\n",
    "<figure><img src=\"ext-figures/lecture03/image_proc_chain.svg\" style=\"height:300px\" align=\"middle\"></figure>\n",
    "Today's lecture will focus on the enhancement"
   ]
  },
  {
   "cell_type": "markdown",
   "metadata": {
    "slideshow": {
     "slide_type": "notes"
    }
   },
   "source": [
    "Traditionally, the processing of image data can be divided into a series of sub tasks that provide the final resul. \n",
    "* __Acquisition__ The data must obviously be acquired and stored. There are cases when simulated data is used. Then, the acquisition is replaced by the process to simulate the data.\n",
    "* __Enhancement__ The raw data is usually not ready to be processed in the form is comes from the acquisition. It usually has noise and artifacts as we saw on the previous slide. The enhancement step suppresses unwanted information in the data.\n",
    "* __Segmentation__ The segmenation identifies different regions based on different features such as intensity distribution and shape.\n",
    "* __Post processing__ After segmentation, there may be falsely identified regions. These are removed in a post processing step. \n",
    "* __Evaluation__ The last step of the process is to make conclusions based on the image data. It could be modelling material distrbutions, measuring shapes etc."
   ]
  },
  {
   "cell_type": "markdown",
   "metadata": {
    "slideshow": {
     "slide_type": "slide"
    }
   },
   "source": [
    "# Noise and artifacts\n",
    "## The unwanted information"
   ]
  },
  {
   "cell_type": "markdown",
   "metadata": {
    "slideshow": {
     "slide_type": "slide"
    }
   },
   "source": [
    "# Noise types\n",
    "* Spatially uncorrelated noise\n",
    "* Event noise\n",
    "* Stuctured noise\n",
    "\n",
    "### Noise examples"
   ]
  },
  {
   "cell_type": "code",
   "execution_count": null,
   "metadata": {
    "hide_input": true,
    "slideshow": {
     "slide_type": "-"
    }
   },
   "outputs": [],
   "source": [
    "plt.figure(figsize=[15,6]);\n",
    "plt.subplot(1,3,1);plt.imshow(np.random.normal(0,1,[100,100])); plt.title('Gaussian');plt.axis('off');\n",
    "plt.subplot(1,3,2);plt.imshow(0.90<np.random.uniform(0,1,size=[100,100]),cmap='gray'); plt.title(\"Salt and pepper\"),plt.axis('off');\n",
    "plt.subplot(1,3,3);plt.imshow(ski.filters.gaussian(np.random.normal(0,1,size=[100,100]),sigma=1),cmap='gray'); plt.title(\"Structured\"),plt.axis('off');\n",
    "plt.tight_layout()"
   ]
  },
  {
   "cell_type": "markdown",
   "metadata": {
    "slideshow": {
     "slide_type": "slide"
    }
   },
   "source": [
    "# Gaussian noise\n",
    "* Additive\n",
    "* Easy to model \n",
    "* Law of large numbers\n",
    "\n",
    "### Distribution function\n",
    "$n(x)=\\frac{1}{\\sqrt{2\\pi\\sigma}}\\exp{-\\left(\\frac{x-\\mu}{2\\sigma}\\right)^2}$"
   ]
  },
  {
   "cell_type": "code",
   "execution_count": null,
   "metadata": {},
   "outputs": [],
   "source": [
    "from scipy.stats import norm\n",
    "rv = norm(loc = -1., scale = 1.0);rv1 = norm(loc = 0., scale = 2.0); rv2 = norm(loc = 2., scale = 3.0)\n",
    "x = np.arange(-10, 10, .1)\n",
    "\n",
    "#plot the pdfs of these normal distributions \n",
    "plt.plot(x, rv.pdf(x),label='$\\mu$=-1, $\\sigma$=1')\n",
    "plt.plot(x, rv1.pdf(x),label='$\\mu$=0, $\\sigma$=2') \n",
    "plt.plot(x, rv2.pdf(x),label='$\\mu$=2, $\\sigma$=3')\n",
    "plt.legend()"
   ]
  },
  {
   "cell_type": "markdown",
   "metadata": {
    "slideshow": {
     "slide_type": "subslide"
    }
   },
   "source": [
    "# Poisson noise\n",
    "* Multiplicative\n",
    "* Physically correct for event counting\n",
    "\n",
    "### Distribition function \n",
    "$p(x)=\\frac{\\lambda^{k}}{k!} e^{-\\lambda\\,x}$"
   ]
  },
  {
   "cell_type": "code",
   "execution_count": null,
   "metadata": {},
   "outputs": [],
   "source": [
    "from scipy.stats import poisson\n",
    "mu=3\n",
    "fig, ax = plt.subplots(1, 1)\n",
    "x = np.arange(poisson.ppf(0.01, mu),              poisson.ppf(0.999, mu))\n",
    "ax.plot(x, poisson.pmf(x, mu), 'bo', ms=8, label='poisson pmf')\n",
    "ax.vlines(x, 0, poisson.pmf(x, mu), colors='b', lw=5, alpha=0.5)"
   ]
  },
  {
   "cell_type": "markdown",
   "metadata": {
    "hide_input": false,
    "slideshow": {
     "slide_type": "slide"
    }
   },
   "source": [
    "# Compare Gaussian and Possion noise\n",
    "### Samples of two distributions"
   ]
  },
  {
   "cell_type": "code",
   "execution_count": null,
   "metadata": {
    "hide_input": true,
    "scrolled": false
   },
   "outputs": [],
   "source": [
    "plt.figure(figsize=[15,8])\n",
    "x=np.linspace(0,2*np.pi,100); \n",
    "y=10*np.sin(x)+11; ng=np.random.normal(0,1,size=len(x)); npoi = np.random.poisson(y);\n",
    "plt.subplot(2,2,1); plt.plot(x,y+ng);plt.plot(x,y); plt.axis('off');plt.title('Gaussian'); plt.subplot(2,2,3);plt.plot(x,ng);plt.axis('off');\n",
    "plt.subplot(2,2,2); plt.plot(x,npoi);plt.plot(x,y); plt.axis('off');plt.title('Poisson'); plt.subplot(2,2,4);plt.plot(x,npoi-y);plt.axis('off');"
   ]
  },
  {
   "cell_type": "markdown",
   "metadata": {
    "slideshow": {
     "slide_type": "slide"
    }
   },
   "source": [
    "# Noise models - Salt'n'pepper noise\n",
    "* A type of outlier noise\n",
    "* Noise frequency described as probability of outlier\n",
    "* Can be additive, multiplicative, and independent replacement\n",
    "\n",
    "### Example model\n",
    "$sp(x)=\\left\\{\\begin{array}{ll}\n",
    "-1 & x\\leq\\lambda_1\\\\ \n",
    "0 & \\lambda_1< x \\leq \\lambda_2\\\\\n",
    "1 & \\lambda_2<x\n",
    "\\end{array}\\right.\\qquad \\begin{array}{l}x\\in\\mathcal{U}(0,1)\\\\\\lambda_1<\\lambda_2\\\\\n",
    "\\lambda_1+\\lambda_2 = \\mbox{noise fraction}\n",
    "\\end{array}$"
   ]
  },
  {
   "cell_type": "markdown",
   "metadata": {
    "slideshow": {
     "slide_type": "slide"
    }
   },
   "source": [
    "# Salt'n'pepper examples"
   ]
  },
  {
   "cell_type": "code",
   "execution_count": null,
   "metadata": {
    "hide_input": true,
    "slideshow": {
     "slide_type": "-"
    }
   },
   "outputs": [],
   "source": [
    "def snp(dims,Pblack,Pwhite) : # Noise model function\n",
    "    uni=np.random.uniform(0,1,dims)\n",
    "    img=(Pwhite<uni).astype(float)-(uni<Pblack).astype(float)\n",
    "    return img"
   ]
  },
  {
   "cell_type": "code",
   "execution_count": null,
   "metadata": {
    "hide_input": true
   },
   "outputs": [],
   "source": [
    "img10_90=snp([100,100],0.1,0.9); img5_95=snp([100,100],0.05,0.95);img1_99=snp([100,100],0.01,0.99)\n",
    "plt.figure(figsize=[15,5])\n",
    "plt.subplot(1,3,1); plt.imshow(img1_99,cmap='gray'); plt.title('$\\lambda_1$=1% and $\\lambda_2$=99%',fontsize=16); plt.axis('off');\n",
    "plt.subplot(1,3,2); plt.imshow(img5_95,cmap='gray'); plt.title('$\\lambda_1$=5% and $\\lambda_2$=95%',fontsize=16); plt.axis('off');\n",
    "plt.subplot(1,3,3); plt.imshow(img10_90,cmap='gray'); plt.title('$\\lambda_1$=10% and $\\lambda_2$=90%',fontsize=16); plt.axis('off');"
   ]
  },
  {
   "cell_type": "markdown",
   "metadata": {
    "slideshow": {
     "slide_type": "slide"
    }
   },
   "source": [
    "## Signal to noise ratio\n",
    "\n",
    "The Signal to noise ratio measures the noise strengh in a signal\n",
    "\n",
    "### Definition\n",
    "\n",
    "$SNR=\\frac{mean(f)}{stddev(f)}$"
   ]
  },
  {
   "cell_type": "markdown",
   "metadata": {
    "slideshow": {
     "slide_type": "slide"
    }
   },
   "source": [
    "## Signal to noise ratio for Poisson noise\n",
    "- For a Poisson distribution the SNR is :\n",
    "\n",
    "<font size=\"3\">$SNR \\sim \\sqrt{N}$</font>\n",
    "\n",
    "- $N$ is the number of particles $\\sim$ exposure time"
   ]
  },
  {
   "cell_type": "code",
   "execution_count": null,
   "metadata": {
    "hide_input": true
   },
   "outputs": [],
   "source": [
    "exptime=np.array([50,100,200,500,1000,2000,5000,10000])\n",
    "snr = np.array([ 8.45949767, 11.40011621, 16.38118766, 21.12056507, 31.09116641,40.65323123, 55.60833117, 68.21108979]);\n",
    "marker_style = dict(color='cornflowerblue', linestyle='-', marker='o',markersize=10, markerfacecoloralt='gray');\n",
    "plt.figure(figsize=(15,5)) \n",
    "plt.subplot(1,3,2);plt.plot(exptime/1000,snr, **marker_style);plt.xlabel('Exposure time [s]');plt.ylabel('SNR [1]')\n",
    "img50ms=plt.imread('ext-figures/lecture03/tower_50ms.png'); img10000ms=plt.imread('ext-figures/lecture03/tower_10000ms.png');\n",
    "plt.subplot(1,3,1);plt.imshow(img50ms); plt.subplot(1,3,3); plt.imshow(img10000ms);"
   ]
  },
  {
   "cell_type": "markdown",
   "metadata": {
    "slideshow": {
     "slide_type": "slide"
    }
   },
   "source": [
    "## Useful python functions\n",
    "\n",
    "### Random number generators [numpy.random]\n",
    "Generate an $m \\times n$ random fields with different distributions:\n",
    "* __Gauss__ ```np.random.normal(mu,sigma, size=[rows,cols])```\n",
    "* __Uniform__ ```np.random.uniform(low,high,size=[rows,cols])```\n",
    "* __Poisson__ ```np.random.poisson(lambda, size=[rows,cols])\n",
    "\t\n",
    "### Statistics\n",
    "\n",
    "* ```np.mean(f)```, ```np.var(f)```, ```np.std(f)``` Computes the mean, variance, and standard deviation of an image $f$.\n",
    "* ```np.min(f)```,```np.max(f)``` Finds minimum and maximum values in $f$.\n",
    "* ```np.median(f)```, ```np.rank()``` Selects different values from the sorted data.\n"
   ]
  },
  {
   "cell_type": "markdown",
   "metadata": {
    "slideshow": {
     "slide_type": "slide"
    }
   },
   "source": [
    "# Basic filtering"
   ]
  },
  {
   "cell_type": "markdown",
   "metadata": {
    "slideshow": {
     "slide_type": "slide"
    }
   },
   "source": [
    "## What is a filter?\n",
    "\n",
    "### General definition\n",
    "A filter is a processing unit that\n",
    "* Enhances the wanted information \n",
    "* Suppresses the unwanted information\n",
    "\n",
    "<div class=\"alert alert-block alert-warning\">\n",
    "Ideally without altering relevant features beyond recognition .\n",
    "</div>\n",
    "\n"
   ]
  },
  {
   "cell_type": "markdown",
   "metadata": {
    "slideshow": {
     "slide_type": "slide"
    }
   },
   "source": [
    "# Filter characteristics\n",
    "\n",
    "Filters are characterized by the type of information they suppress"
   ]
  },
  {
   "cell_type": "markdown",
   "metadata": {
    "slideshow": {
     "slide_type": "subslide"
    }
   },
   "source": [
    "## Low-pass filters\n",
    "* Slow changes are enhanced \n",
    "* Rapid changes are suppressed \n",
    "<figure><img src=\"ext-figures/lecture03/lp_principle.svg\" style=\"height:300px\" align=\"middle\"></figure>"
   ]
  },
  {
   "cell_type": "markdown",
   "metadata": {
    "slideshow": {
     "slide_type": "subslide"
    }
   },
   "source": [
    "## High-pass filters\n",
    "* Rapid changes are enhanced \n",
    "* Slow changes are suppressed\n",
    "<figure><img src=\"ext-figures/lecture03/hp_principle.svg\" style=\"height:300px\" align=\"middle\"></figure>"
   ]
  },
  {
   "cell_type": "markdown",
   "metadata": {
    "slideshow": {
     "slide_type": "slide"
    }
   },
   "source": [
    "# Basic filters"
   ]
  },
  {
   "cell_type": "markdown",
   "metadata": {
    "slideshow": {
     "slide_type": "subslide"
    }
   },
   "source": [
    "## Linear filters\n",
    "Computed using the convolution operation\n",
    "\n",
    "$$g(x)=h*f(x)=\\int_{\\Omega}f(x-\\tau) h(\\tau) d\\tau$$\n",
    "where\n",
    "\n",
    "* __$f$__ is the image \n",
    "* __$h$__ is the convolution kernel of the filter\n",
    "\n",
    "<figure><img src=\"ext-figures/lecture03/filter_box.svg\" style=\"height:150px\" align=\"middle\"></figure>"
   ]
  },
  {
   "cell_type": "markdown",
   "metadata": {
    "slideshow": {
     "slide_type": "subslide"
    }
   },
   "source": [
    "## Low-pass filter kernels\n",
    "<table>\n",
    "<tr style=\"bgcolor:#FFFFFF\"><td>Mean or Box filter</td><td>Gauss filter</td></tr>\n",
    "    \n",
    "<tr><td>\n",
    "   All weights have the same value.\n",
    "</td><td>\n",
    "    \n",
    "$$G=\\exp{-\\frac{x^2+y^2}{2\\,\\sigma^2}}$$\n",
    "\n",
    "</td></tr>\n",
    "    \n",
    "<tr><td>\n",
    "    \n",
    "Example:\n",
    "$$B=\\frac{1}{25}\\cdot\\begin{array}{|c|c|c|c|c|}\n",
    "\\hline\n",
    "1 & 1 & 1 & 1& 1\\\\\n",
    "\\hline\n",
    "1 & 1 & 1 & 1& 1\\\\\n",
    "\\hline\n",
    "1 & 1 & 1 & 1& 1\\\\\n",
    "\\hline\n",
    "1 & 1 & 1 & 1& 1\\\\\n",
    "\\hline\n",
    "1 & 1 & 1 & 1& 1\\\\\n",
    "\\hline\n",
    "\\end{array}\n",
    "$$   \n",
    "    \n",
    "</td>\n",
    "<td>\n",
    "\n",
    "Example:\n",
    "<figure><img src=\"ext-figures/lecture03/gauss_bell.svg\" style=\"height:300px\" align=\"middle\"></figure>       \n",
    "</td></tr>    \n",
    "</table>\n",
    "\n",
    "\n",
    "<div class=\"alert alert-block alert-success\">\n",
    "<center>Low-pass filters suppress noise</center>\n",
    "</div>"
   ]
  },
  {
   "cell_type": "markdown",
   "metadata": {
    "slideshow": {
     "slide_type": "subslide"
    }
   },
   "source": [
    "## Different SNR using a Gauss filter"
   ]
  },
  {
   "cell_type": "code",
   "execution_count": null,
   "metadata": {
    "hidde_input": true,
    "hide_input": true,
    "slideshow": {
     "slide_type": "-"
    }
   },
   "outputs": [],
   "source": [
    "img = plt.imread('ext-figures/lecture03/input_orig.png'); \n",
    "noise = np.random.normal(0,1,size=img.shape); snr10=img+0.1*noise; snr5=img+0.2*noise; snr2=img+0.5*noise;plt.figure(figsize=[15,12])\n",
    "plt.subplot(3,4,1); plt.imshow(img); plt.axis('off');plt.title('No noise'); plt.subplot(3,4,2); plt.imshow(snr10); plt.title('SNR=10'); plt.axis('off');plt.subplot(3,4,3); plt.imshow(snr5); plt.title('SNR=5'); plt.axis('off');plt.subplot(3,4,4); plt.imshow(snr2); plt.title('SNR=2'); plt.axis('off');\n",
    "plt.subplot(3,4,5); plt.imshow(ski.filters.gaussian(img,sigma=1)); plt.title('Gaussian $\\sigma$=1'); plt.axis('off');plt.subplot(3,4,6); plt.imshow(ski.filters.gaussian(snr10,sigma=1));  plt.axis('off');plt.subplot(3,4,7); plt.imshow(ski.filters.gaussian(snr5,sigma=1));  plt.axis('off');plt.subplot(3,4,8); plt.imshow(ski.filters.gaussian(snr2,sigma=1)); plt.axis('off');\n",
    "plt.subplot(3,4,9); plt.imshow(ski.filters.gaussian(img,sigma=3)); plt.title('Gaussian $\\sigma$=3'); plt.axis('off');plt.subplot(3,4,10); plt.imshow(ski.filters.gaussian(snr10,sigma=3));  plt.axis('off');plt.subplot(3,4,11); plt.imshow(ski.filters.gaussian(snr5,sigma=3));  plt.axis('off');plt.subplot(3,4,12); plt.imshow(ski.filters.gaussian(snr2,sigma=3)); plt.axis('off');"
   ]
  },
  {
   "cell_type": "markdown",
   "metadata": {
    "slideshow": {
     "slide_type": "subslide"
    }
   },
   "source": [
    "## How is the convolution computed\n",
    "\n",
    "<figure><img src=\"ext-figures/lecture03/principle_mean_filter.svg\" style=\"height:400px\" align=\"middle\"></figure>\n",
    "\n",
    "<div class=\"alert alert-block alert-success\">\n",
    "For a non-uniform kernel each term is weighted by its kernel weight.\n",
    "</div>"
   ]
  },
  {
   "cell_type": "markdown",
   "metadata": {
    "slideshow": {
     "slide_type": "subslide"
    }
   },
   "source": [
    "## Euclidean separability\n",
    "The asociative and commutative laws apply to convoution\n",
    "\n",
    "$$(a * b)*c=a*(b*c) \\quad \\mbox{ and } \\quad a * b = b * a $$\n",
    "\n",
    "A convolution kernel is called _separable_ if it can be split in two or more parts:\n",
    "<font size=\"3\">\n",
    "$$\\begin{array}{|c|c|c|}\n",
    "\\hline\n",
    "\\cdot & \\cdot & \\cdot\\\\\n",
    "\\hline\n",
    "\\cdot & \\cdot & \\cdot\\\\\n",
    "\\hline\n",
    "\\cdot & \\cdot& \\cdot\\\\\n",
    "\\hline\n",
    "\\end{array}=\n",
    "\\begin{array}{|c|}\n",
    "\\hline\n",
    "\\cdot \\\\\n",
    "\\hline\n",
    "\\cdot \\\\\n",
    "\\hline\n",
    "\\cdot \\\\\n",
    "\\hline\n",
    "\\end{array}\n",
    "*\n",
    "\\begin{array}{|c|c|c|}\n",
    "\\hline\n",
    "\\cdot & \\cdot & \\cdot\\\\\n",
    "\\hline\n",
    "\\end{array}$$\n",
    "</font>    \n",
    "\n",
    "$$\\exp{-\\frac{x^2+y^2}{2\\,\\sigma^2}}=\\exp{-\\frac{x^2}{2\\,\\sigma^2}}*\\exp{-\\frac{y^2}{2\\,\\sigma^2}}$$\n",
    "\n",
    "#### Gain\n",
    "Separability reduces the number of computations $\\rightarrow$ faster processing\n",
    "- 3$\\times$3 $\\rightarrow$ 9 mult and 8 add $\\Leftrightarrow$ 6 mult and 4 add\n",
    "- 3$\\times$3$\\times$3 $\\rightarrow$ 27 mult and 26 add $\\Leftrightarrow$ 9 mult and 6 add\n"
   ]
  },
  {
   "cell_type": "markdown",
   "metadata": {
    "slideshow": {
     "slide_type": "subslide"
    }
   },
   "source": [
    "## The median filter\n",
    "<figure><img src=\"ext-figures/lecture03/principle_median_filter.svg\" style=\"height:400px\" align=\"middle\"></figure>"
   ]
  },
  {
   "cell_type": "markdown",
   "metadata": {
    "slideshow": {
     "slide_type": "subslide"
    }
   },
   "source": [
    "## Comparing filters for different noise types"
   ]
  },
  {
   "cell_type": "code",
   "execution_count": null,
   "metadata": {
    "hide_input": true
   },
   "outputs": [],
   "source": [
    "img = plt.imread('ext-figures/lecture03/grasshopper.png'); noise=img+np.random.normal(0,0.1,size=img.shape); spots=img+0.2*snp(img.shape,0,0.8); noise=(noise-noise.min())/(noise.max()-noise.min());spots=(spots-spots.min())/(spots.max()-spots.min());\n",
    "plt.figure(figsize=[15,10]);\n",
    "plt.subplot(2,3,1); plt.imshow(spots); plt.title('Spots'); plt.axis('off');\n",
    "plt.subplot(2,3,2); plt.imshow(ski.filters.gaussian(spots,sigma=1)); plt.title('Gauss filter'); plt.axis('off');\n",
    "plt.subplot(2,3,3); plt.imshow(ski.filters.median(spots,disk(3))); plt.title('Median'); plt.axis('off');\n",
    "\n",
    "plt.subplot(2,3,4); plt.imshow(noise); plt.title('Gaussian noise'); plt.axis('off');\n",
    "plt.subplot(2,3,5); plt.imshow(ski.filters.gaussian(noise,sigma=1)); plt.title('Gauss filter'); plt.axis('off');\n",
    "plt.subplot(2,3,6); plt.imshow(ski.filters.median(noise,disk(3))); plt.title('Median'); plt.axis('off');"
   ]
  },
  {
   "cell_type": "markdown",
   "metadata": {
    "slideshow": {
     "slide_type": "slide"
    }
   },
   "source": [
    "## Filter example: Spot cleaning\n",
    "\n",
    "\n",
    "\n",
    "<table>\n",
    "<tr><th width=\"45%\">Problem</th><th width=\"20%\">Example</th><th width=\"35%\">Possible solutions</th></tr>\n",
    "<tr><td>\n",
    "        \n",
    "- Many neutron images are corrupted by spots that confuse following processing steps. \n",
    "- The amount, size, and intensity varies with many factors.   \n",
    "\n",
    "</td>\n",
    "<td>\n",
    "<figure><img src=\"ext-figures/lecture03/spotty_knot_closeup.png\" style=\"height:300px\" align=\"middle\"></figure>   \n",
    "</td>\n",
    "<td>\n",
    "    \n",
    "- Low pass filter\n",
    "- Median filter\n",
    "- Detect spots and replace by estimate\n",
    "\n",
    "</td></tr>\n",
    "</table>"
   ]
  },
  {
   "cell_type": "markdown",
   "metadata": {
    "cell_style": "center",
    "slideshow": {
     "slide_type": "subslide"
    }
   },
   "source": [
    "## Spot cleaning algorithm\n",
    "\n",
    "<figure><img src=\"ext-figures/lecture03/spotclean_algorithm.svg\" style=\"height:400px\" align=\"middle\"></figure>\n",
    "\n",
    "#### Parameters\n",
    "\n",
    "- $N$ Width of median filter.\n",
    "- $k$ Threshold level for outlier detection.\n"
   ]
  },
  {
   "cell_type": "markdown",
   "metadata": {
    "slideshow": {
     "slide_type": "subslide"
    }
   },
   "source": [
    "## Spot cleaning - Compare performance\n",
    "<figure><img src=\"ext-figures/lecture03/spotclean_compare.svg\"  style=\"height:500px\" align=\"middle\"></figure>\n",
    "\n",
    "### The ImageJ ways\n",
    "\n",
    "- __Despeckle__ Median ... please avoid this one!!!\n",
    "- __Remove outliers__ Similar to cleaning described algorithm"
   ]
  },
  {
   "cell_type": "markdown",
   "metadata": {
    "slideshow": {
     "slide_type": "slide"
    }
   },
   "source": [
    "## High-pass filters\n",
    "High-pass filters enhance rapid changes $\\rightarrow$ ideal for edge detection\n",
    "\n",
    "### Typical high-pass filters:\n",
    "\n",
    "#### Gradients\n",
    "$$\\frac{\\partial}{\\partial\\,x}=\\frac{1}{2}\\cdot\\begin{array}{|c|c|}\n",
    "\\hline\n",
    "-1 & 1\\\\\n",
    "\\hline\n",
    "\\end{array}\\qquad\n",
    "\\frac{\\partial}{\\partial\\,x}=\\frac{1}{32}\\cdot\\begin{array}{|c|c|c|}\n",
    "\\hline\n",
    "-3 & 0 & 3\\\\\n",
    "\\hline\n",
    "-10 & 0 & 10\\\\\n",
    "\\hline\n",
    "-3 & 0 & 3\\\\\n",
    "\\hline\n",
    "\\end{array}\n",
    "$$\n",
    "#### Laplacian\n",
    "$$\n",
    "\\bigtriangleup=\\frac{1}{2}\\cdot\\begin{array}{|c|c|c|}\n",
    "\\hline\n",
    "1 & 2 & 1\\\\\n",
    "\\hline\n",
    "2 & -12 & 2\\\\\n",
    "\\hline\n",
    "1 & 2 & 1\\\\\n",
    "\\hline\n",
    "\\end{array}\n",
    "$$\n",
    "#### Sobel\n",
    "$$\n",
    "G=|\\nabla f|=\\sqrt{\\left(\\frac{\\partial}{\\partial\\,x}f\\right)^2 + \\left(\\frac{\\partial}{\\partial\\,y}f\\right)^2}\n",
    "$$\n"
   ]
  },
  {
   "cell_type": "markdown",
   "metadata": {
    "slideshow": {
     "slide_type": "slide"
    }
   },
   "source": [
    "## Gradient example"
   ]
  },
  {
   "cell_type": "markdown",
   "metadata": {
    "cell_style": "split",
    "slideshow": {
     "slide_type": "-"
    }
   },
   "source": [
    "#### Vertical edges\n",
    "$\\frac{\\partial}{\\partial x}=\\frac{1}{32}\\cdot\\begin{array}{|c|c|c|}\n",
    "\\hline\n",
    "-3 & 0 & 3\\\\\n",
    "\\hline\n",
    "-10 & 0 & 10\\\\\n",
    "\\hline\n",
    "-3 & 0 & 3\\\\\n",
    "\\hline\n",
    "\\end{array}$  "
   ]
  },
  {
   "cell_type": "markdown",
   "metadata": {
    "cell_style": "split",
    "slideshow": {
     "slide_type": "-"
    }
   },
   "source": [
    "#### Horizontal egdges\n",
    "$\\frac{\\partial}{\\partial\\,y}=\\frac{1}{32}\\cdot\\begin{array}{|c|c|c|}\n",
    "\\hline\n",
    "-3 & -10 & -3\\\\\n",
    "\\hline\n",
    "0 & 0 & 0\\\\\n",
    "\\hline\n",
    "3 & 10 & 3\\\\\n",
    "\\hline\n",
    "\\end{array}$\n",
    "\n",
    "[Jaehne, 2005](https://doi.org/10.1007/3-540-27563-0)"
   ]
  },
  {
   "cell_type": "code",
   "execution_count": null,
   "metadata": {
    "hide_input": true,
    "slideshow": {
     "slide_type": "-"
    }
   },
   "outputs": [],
   "source": [
    "img=plt.imread('ext-figures/lecture03/orig.png')\n",
    "k = np.array([[-3,-10,-3],[0,0,0],[3,10,3]]);\n",
    "plt.figure(figsize=[15,8])\n",
    "plt.subplot(1,3,1); plt.imshow(img);plt.title('Original');\n",
    "plt.subplot(1,3,2); plt.imshow(ndimage.convolve(img,np.transpose(k)));plt.title('$\\partial / \\partial x$');\n",
    "plt.subplot(1,3,3); plt.imshow(ndimage.convolve(img,k));plt.title('$\\partial / \\partial y$');"
   ]
  },
  {
   "cell_type": "markdown",
   "metadata": {
    "slideshow": {
     "slide_type": "slide"
    }
   },
   "source": [
    "## Edge detection examples"
   ]
  },
  {
   "cell_type": "code",
   "execution_count": null,
   "metadata": {
    "hide_input": true
   },
   "outputs": [],
   "source": [
    "img=plt.imread('ext-figures/lecture03/orig.png');\n",
    "plt.figure(figsize=[15,6])\n",
    "plt.subplot(1,2,1);plt.imshow(ski.filters.laplace(img),clim=[-0.08,0.08]); plt.title('Laplacian'); plt.colorbar();\n",
    "plt.subplot(1,2,2);plt.imshow(ski.filters.sobel(img)); plt.title('Sobel');  plt.colorbar();"
   ]
  },
  {
   "cell_type": "markdown",
   "metadata": {
    "slideshow": {
     "slide_type": "slide"
    }
   },
   "source": [
    "## Relevance of filters to machine learning\n",
    "<center><img src=\"ext-figures/lecture03/convolutional_neural_network.png\"  style=\"height:500px\" align=\"middle\"></center>\n",
    "\t\n",
    "[NVIDIA Developer zone](https://developer.nvidia.com/discover/convolutional-neural-network)\n"
   ]
  },
  {
   "cell_type": "markdown",
   "metadata": {
    "slideshow": {
     "slide_type": "slide"
    }
   },
   "source": [
    "# Frequency space filters\n",
    "## Applications of the Fourier transform"
   ]
  },
  {
   "cell_type": "markdown",
   "metadata": {
    "slideshow": {
     "slide_type": "slide"
    }
   },
   "source": [
    "## The Fourier transform\n",
    "#### Transform\n",
    "$$G(\\xi_1,\\xi_2)=\\mathcal{F}\\{g\\}=\\int_{-\\infty}^{\\infty}\\int_{-\\infty}^{\\infty} g(x,y)\n",
    "\\exp{-i(\\xi_1\\,x+\\xi_2\\,y)}\\,dx\\,dy$$\n",
    "#### Inverse\n",
    "$$ g(x,y)=\\mathcal{F}^{-1}\\{G\\}=\\frac{1}{(2\\,\\pi)^2}\\int_{-\\infty}^{\\infty}\\int_{-\\infty}^{\\infty} G(\\omega)\n",
    "\\exp{i(\\xi_1\\,x+\\xi_2\\,y)}\\,d\\xi_1 \\,d\\xi_2$$\n",
    "\n",
    "### FFT (Fast Fourier Transform)\n",
    "In practice - you never see the transform equations. \n",
    "The Fast Fourier Transform algorithm is available in numerical libraries and tools.\n",
    "\n",
    "[Jaehne, 2005](https://doi.org/10.1007/3-540-27563-0)"
   ]
  },
  {
   "cell_type": "markdown",
   "metadata": {
    "slideshow": {
     "slide_type": "slide"
    }
   },
   "source": [
    "## Some mathematical features of the FT\n",
    "#### Additition\n",
    "$\\mathcal{F}\\{a+b\\} = \\mathcal{F}\\{a\\}+\\mathcal{F}\\{b\\}$"
   ]
  },
  {
   "cell_type": "code",
   "execution_count": null,
   "metadata": {
    "hide_input": true,
    "slideshow": {
     "slide_type": "-"
    }
   },
   "outputs": [],
   "source": [
    "x = np.linspace(0,50,100); s0=np.sin(0.5*x); s1=np.sin(2*x);\n",
    "plt.figure(figsize=[15,5])\n",
    "plt.subplot(2,3,1);plt.plot(x,s0); plt.axis('off');plt.title('$s_0$');plt.subplot(2,3,4);plt.plot(np.abs(np.fft.fftshift(np.fft.fft(s0))));plt.axis('off');\n",
    "plt.subplot(2,3,2);plt.plot(x,s1); plt.axis('off');plt.title('$s_1$');plt.subplot(2,3,5);plt.plot(np.abs(np.fft.fftshift(np.fft.fft(s1))));plt.axis('off');\n",
    "plt.subplot(2,3,3);plt.plot(x,s0+s1); plt.axis('off');plt.title('$s_0+s_1$');plt.subplot(2,3,6);plt.plot(np.abs(np.fft.fftshift(np.fft.fft(s0+s1))));plt.axis('off');"
   ]
  },
  {
   "cell_type": "markdown",
   "metadata": {
    "slideshow": {
     "slide_type": "slide"
    }
   },
   "source": [
    "#### Convolution\n",
    "$\\mathcal{F}\\{a * b\\} = \\mathcal{F}\\{a\\} \\cdot \\mathcal{F}\\{b\\} $\n",
    "$\\mathcal{F}\\{a \\cdot b\\} = \\mathcal{F}\\{a\\} * \\mathcal{F}\\{b\\} $"
   ]
  },
  {
   "cell_type": "markdown",
   "metadata": {
    "slideshow": {
     "slide_type": "slide"
    }
   },
   "source": [
    "## Additive noise in Fourier space\n",
    "#### Real space"
   ]
  },
  {
   "cell_type": "code",
   "execution_count": null,
   "metadata": {
    "hide_input": true,
    "scrolled": true
   },
   "outputs": [],
   "source": [
    "img=plt.imread('ext-figures/lecture03/bp_ex_original.png'); noise=np.random.normal(0,0.2,size=img.shape); nimg=img+noise;\n",
    "plt.figure(figsize=[15,3])\n",
    "plt.subplot(1,3,1); plt.imshow(img);plt.title('Image');\n",
    "plt.subplot(1,3,2); plt.imshow(noise);plt.title('Noise');\n",
    "plt.subplot(1,3,3); plt.imshow(nimg);plt.title('Image + noise');"
   ]
  },
  {
   "cell_type": "markdown",
   "metadata": {},
   "source": [
    "#### Fourier space"
   ]
  },
  {
   "cell_type": "code",
   "execution_count": null,
   "metadata": {
    "hide_input": true,
    "slideshow": {
     "slide_type": "-"
    }
   },
   "outputs": [],
   "source": [
    "plt.figure(figsize=[15,3])\n",
    "plt.subplot(1,3,1); plt.imshow(np.log(np.abs(np.fft.fftshift(np.fft.fft2(img)))));plt.title('Image');\n",
    "plt.subplot(1,3,2); plt.imshow(np.log(np.abs(np.fft.fftshift(np.fft.fft2(noise)))));plt.title('Noise');\n",
    "plt.subplot(1,3,3); plt.imshow(np.log(np.abs(np.fft.fftshift(np.fft.fft2(nimg)))));plt.title('Image + noise');"
   ]
  },
  {
   "cell_type": "markdown",
   "metadata": {
    "slideshow": {
     "slide_type": "-"
    }
   },
   "source": [
    "### Problem\n",
    "How can we suppress noise without destroying relevant image features?"
   ]
  },
  {
   "cell_type": "markdown",
   "metadata": {
    "slideshow": {
     "slide_type": "slide"
    }
   },
   "source": [
    "## Spatial frequencies and orientation"
   ]
  },
  {
   "cell_type": "code",
   "execution_count": null,
   "metadata": {
    "hide_input": true,
    "slideshow": {
     "slide_type": "-"
    }
   },
   "outputs": [],
   "source": [
    "def ripple(size=128,angle=0,w0=0.1) :\n",
    "    w=w0*np.linspace(0,1,size);\n",
    "    [x,y]=np.meshgrid(w,w);\n",
    "    img=np.sin((np.sin(angle)*x)+(np.cos(angle)*y));\n",
    "    return img\n",
    "N=64;\n",
    "d0=ripple(N,angle=1/180*np.pi,w0=100);\n",
    "d30=ripple(N,angle=30/180*np.pi,w0=100);\n",
    "d60=ripple(N,angle=60/180*np.pi,w0=100);\n",
    "d90=ripple(N,angle=89/180*np.pi,w0=100);\n",
    "plt.figure(figsize=[15,8])\n",
    "plt.subplot(2,4,1); plt.imshow(d0); plt.title('$0^{\\circ}$'); plt.axis('off');\n",
    "plt.subplot(2,4,2); plt.imshow(d30); plt.title('$30^{\\circ}$'); plt.axis('off');\n",
    "plt.subplot(2,4,3); plt.imshow(d60); plt.title('$60^{\\circ}$'); plt.axis('off');\n",
    "plt.subplot(2,4,4); plt.imshow(d90); plt.title('$90^{\\circ}$'); plt.axis('off');\n",
    "\n",
    "plt.subplot(2,4,5); plt.imshow((np.abs(np.fft.fftshift(np.fft.fft2(d0)))));   plt.axis('off');\n",
    "plt.subplot(2,4,6); plt.imshow((np.abs(np.fft.fftshift(np.fft.fft2(d30)))));  plt.axis('off');\n",
    "plt.subplot(2,4,7); plt.imshow((np.abs(np.fft.fftshift(np.fft.fft2(d60)))));  plt.axis('off');\n",
    "plt.subplot(2,4,8); plt.imshow((np.abs(np.fft.fftshift(np.fft.fft2(d90)))));  plt.axis('off');"
   ]
  },
  {
   "cell_type": "markdown",
   "metadata": {
    "cell_style": "center",
    "slideshow": {
     "slide_type": "slide"
    }
   },
   "source": [
    "## Example - Stripe removal in Fourier space"
   ]
  },
  {
   "cell_type": "markdown",
   "metadata": {
    "cell_style": "split",
    "slideshow": {
     "slide_type": "-"
    }
   },
   "source": [
    "- Transform the image to Fourier space\n",
    "$$\\mathcal{F_{2D}}\\left\\{a\\right\\} \\Rightarrow A$$\n",
    "\n",
    "- Multiply spectrum image by band pass filter\n",
    "$$A_{filtered}=A \\cdot H$$\n",
    "\n",
    "- Compute the inverse transform to obtain the filtered image in real space\n",
    "$$\\mathcal{{F_{2D}}^{-1}}\\left\\{A_{filtered}\\right\\} \\Rightarrow a_{filtered}$$"
   ]
  },
  {
   "cell_type": "code",
   "execution_count": null,
   "metadata": {
    "cell_style": "split",
    "hide_input": true,
    "slideshow": {
     "slide_type": "-"
    }
   },
   "outputs": [],
   "source": [
    "plt.figure(figsize=[8,10])\n",
    "plt.subplot(4,1,1);plt.imshow(plt.imread('ext-figures/lecture03/raw_img.png')); plt.title('$a$'); plt.axis('off');\n",
    "plt.subplot(4,1,2);plt.imshow(plt.imread('ext-figures/lecture03/raw_spec.png')); plt.title('$\\mathcal{F}(a)$'); plt.axis('off');\n",
    "plt.subplot(4,1,3);plt.imshow(plt.imread('ext-figures/lecture03/filt_spec.png')); plt.title('Kernel $H$'); plt.axis('off');\n",
    "plt.subplot(4,1,4);plt.imshow(plt.imread('ext-figures/lecture03/filt_img.png')); plt.title('$a_{filtered}$'); plt.axis('off');"
   ]
  },
  {
   "cell_type": "markdown",
   "metadata": {
    "cell_style": "center",
    "slideshow": {
     "slide_type": "slide"
    }
   },
   "source": [
    "## The effect of the stripe filter\n",
    "\n",
    "<table><tr><td> Reconstructed CT slice before filter</td><td>Reconstructed CT slice after stripe filter</td></tr>\n",
    "    <tr>\n",
    "        <td><img src=\"ext-figures/lecture03/slice_with_stripes.png\"  style=\"height:400px\" align=\"middle\"></td>\n",
    "        <td><img src=\"ext-figures/lecture03/slice_stripe_filtered.png\"  style=\"height:400px\" align=\"middle\"></td>\n",
    "    <tr></table>"
   ]
  },
  {
   "cell_type": "markdown",
   "metadata": {
    "slideshow": {
     "slide_type": "-"
    }
   },
   "source": [
    "Intensity variations are suppressed using the stripe filter on all projections."
   ]
  },
  {
   "cell_type": "markdown",
   "metadata": {
    "slideshow": {
     "slide_type": "notes"
    }
   },
   "source": [
    "## Technical details on Fourier space filters\n",
    "#### When should you use convolution in Fourier space?\n",
    "-  Simplicity\n",
    "-  Kernel size\n",
    "-  Speed at repeated convolutions\n",
    "\n",
    "#### Zero padding\n",
    "The FFT is only working with data of size in $2^N$. If your data has a different length, you have to pad (fill with constant value) up the next $2^N$."
   ]
  },
  {
   "cell_type": "markdown",
   "metadata": {
    "slideshow": {
     "slide_type": "slide"
    }
   },
   "source": [
    "## Python functions\n",
    "\t\n",
    "#### Filters in the spatial domain\n",
    "e.g. from ```scipy import ndimage```\n",
    "- ```ndimage.filters.convolve(f,h)``` Linear filter using kernel $h$ on image $f$.\n",
    "- ```ndimage.filters.median_filter(f,\\[n,m\\])```  Median filter using an $n \\times m$ filter neighborhood\n",
    "\n",
    "#### Fourier transform\n",
    "- ```np.fft.fft2(f)``` Computes the 2D Fast Fourier Transform of image $f$\n",
    "- ```np.fft.ifft2(F)``` Computes the inverse Fast Fourier Transform $F$.\n",
    "- ```np.fft.fftshift()``` Rearranges the data to center the $\\omega$=0. Works for 1D and 2D.\n",
    "\n",
    "#### Complex numbers\n",
    "- ```np.abs(f), np.angle(f)``` Computes amplitude and argument of a complex number.\n",
    "- ```np.real(f), np.imag(f)``` Gives the real and imaginary parts of a complex number."
   ]
  },
  {
   "cell_type": "markdown",
   "metadata": {
    "slideshow": {
     "slide_type": "slide"
    }
   },
   "source": [
    "# Scale spaces"
   ]
  },
  {
   "cell_type": "markdown",
   "metadata": {
    "slideshow": {
     "slide_type": "slide"
    }
   },
   "source": [
    "## Why scale spaces?"
   ]
  },
  {
   "cell_type": "markdown",
   "metadata": {
    "cell_style": "split",
    "slideshow": {
     "slide_type": "-"
    }
   },
   "source": [
    "### Motivation\n",
    "Basic filters have problems to handle low SNR and textured noise.\n",
    "\n",
    "Something new is required...\n",
    "### The solution\n",
    "Filtering on different scales can take noise suppression one step further."
   ]
  },
  {
   "cell_type": "markdown",
   "metadata": {
    "cell_style": "split"
   },
   "source": [
    "<center><img src=\"ext-figures/lecture03/image_pyramid.svg\"  style=\"height:400px\" align=\"middle\"></center>\n",
    "<font size=\"1\">By <a href=\"//commons.wikimedia.org/wiki/User:Cmglee\" title=\"User:Cmglee\">Cmglee</a> - <span class=\"int-own-work\" lang=\"en\">Own work</span>, <a href=\"https://creativecommons.org/licenses/by-sa/3.0\" title=\"Creative Commons Attribution-Share Alike 3.0\">CC BY-SA 3.0</a>, <a href=\"https://commons.wikimedia.org/w/index.php?curid=42549151\">Link</a></font>"
   ]
  },
  {
   "cell_type": "markdown",
   "metadata": {
    "cell_style": "center",
    "slideshow": {
     "slide_type": "slide"
    }
   },
   "source": [
    "## Wavelets - the basic idea\n",
    "- The wavelet transform produces scales by decomposing a signal into two signals at a coarser scale containing \\emph{trend} and \\emph{details}.\\\\\n",
    "- The next scale is computed using the trend of the previous transform\n",
    "$$WT\\{s\\}\\rightarrow\\{a_1,d_1\\}, WT\\{a_1\\}\\rightarrow\\{a_2,d_2\\}, \\ldots, WT\\{a_{N-1}\\}\\rightarrow\\{a_N,d_N\\} $$\n",
    "- The inverse transform brings $s$ back using $\\{a_N,d_1, \\ldots,d_N\\}$.\n",
    "- Many wavelet bases exists, the choice depends on the application.\n",
    "\n",
    "#### Applications of wavelets  \n",
    "- Noise reduction \n",
    "- Analysis \n",
    "- Segmentation\n",
    "- Compression\n",
    "    \n",
    "[Walker 2008](https://doi.org/10.1201/9781584887461) [Mallat 2009](https://doi.org/10.1016/B978-0-12-374370-1.X0001-8)"
   ]
  },
  {
   "cell_type": "markdown",
   "metadata": {
    "slideshow": {
     "slide_type": "slide"
    }
   },
   "source": [
    "## Wavelet transform of a 1D signal\n",
    "\n",
    "<center><img src=\"ext-figures/lecture03/wavelet1d_noaxis.svg\" style=\"height:400px\"></center>\n",
    "\n",
    "Using __symlet-4__"
   ]
  },
  {
   "cell_type": "markdown",
   "metadata": {
    "slideshow": {
     "slide_type": "slide"
    }
   },
   "source": [
    "## Wavelet transform of an image\n",
    "<center><img src=\"ext-figures/lecture03/wt2d_schematic.svg\" style=\"height:400px\"></center>"
   ]
  },
  {
   "cell_type": "markdown",
   "metadata": {
    "cell_style": "center",
    "slideshow": {
     "slide_type": "-"
    }
   },
   "source": [
    "## Wavelet transform of an image - example\n",
    "\n",
    "<table><tr><th>Original</th><th>Wavelet transformed</th></tr>\n",
    "<tr>\n",
    "    <td><img src=\"ext-figures/lecture03/testpattern_1024.png\" style=\"height:400px\"></td>\n",
    "    <td><img src=\"ext-figures/lecture03/wt_testimage_gray.png\" style=\"height:400px\"></td>\n",
    "    </tr>\n",
    "    </table>"
   ]
  },
  {
   "cell_type": "markdown",
   "metadata": {
    "slideshow": {
     "slide_type": "slide"
    }
   },
   "source": [
    "## Wavelet noise reduction\n",
    "The noise is found in the detail part of the WT\n",
    "-  Make a WT of the signal to a level that corresponds to the scale of the unwanted information.\n",
    "- Threshold the detail part $d_{\\gamma}=|d|<\\gamma \\,?\\, 0 : d$.\n",
    "- Inverse WT back to normal scale $\\rightarrow$ image is filtered.\n",
    "\n",
    "<center><img src=\"ext-figures/lecture03/wavelet1d_filter.svg\" style=\"height:400px\"></center>"
   ]
  },
  {
   "cell_type": "markdown",
   "metadata": {
    "slideshow": {
     "slide_type": "slide"
    }
   },
   "source": [
    "## Wavelet noise reduction - Image example\n",
    "#### Example Filtered using two levels of Symlet-2 wavelet\n",
    "__Data:__ Neutron CT of a lead scroll\n",
    "<center><img src=\"ext-figures/lecture03/wavelet2d_filtered.svg\" style=\"height:400px\"></center>"
   ]
  },
  {
   "cell_type": "markdown",
   "metadata": {
    "slideshow": {
     "slide_type": "skip"
    }
   },
   "source": [
    "## Python functions\n",
    "### dwt2/idtw2\n",
    "Makes one level of the wavelet transform or its inverse using wavelet base specified by 'wn'. \n",
    "\n",
    "### wavedec2\n",
    "Performs N levels of wavelet decomposition using a specified wavelet base.\n",
    "### wbmpen\n",
    "Estimating threshold parameters for wavelet denoising.\n",
    "### wdencmp\n",
    "Wavelet denoising and compression using information from *wavedec2* and *wbmpen.\n"
   ]
  },
  {
   "cell_type": "markdown",
   "metadata": {
    "slideshow": {
     "slide_type": "slide"
    }
   },
   "source": [
    "# Parameterized scale spaces\n",
    "\n",
    "## PDE based scale space filters\n",
    "<table><tr>\n",
    "    <td><img src=\"ext-figures/lecture03/slice_original.svg\"  style=\"height:300px\"></td>\n",
    "    <td><img src=\"ext-figures/lecture03/slice_diffusion.svg\" style=\"height:300px\"></td>\n",
    "    <td><img src=\"ext-figures/lecture03/slice_iss.svg\"       style=\"height:300px\"></td>\n",
    "</tr></table>\n",
    "\n",
    "These filters may work for applications where Linear and Rank filters fail.\n",
    "\n",
    "[Aubert 2002](https://doi.org/10.1007/978-0-387-44588-5)."
   ]
  },
  {
   "cell_type": "markdown",
   "metadata": {
    "slideshow": {
     "slide_type": "slide"
    }
   },
   "source": [
    "## The starting point\n",
    "The heat transport equation\n",
    "$$\\frac{\\partial T}{\\partial t}=\\kappa\\,\\nabla^2 T$$\n",
    "\n",
    "- __$T$__ Image to filter (intensity $\\equiv$ temperature)\n",
    "- __$\\kappa$__ Thermal conduction capacity\n",
    "<table>\n",
    "    <tr><td>Original</td><td>Iterations</td></tr>\n",
    "    <tr>\n",
    "          <td><img src=\"ext-figures/lecture03/lindif_iter.png\" style=\"height:200px\"></td>\n",
    "          <td><video src=\"ext-figures/lecture03/lindif_iter.mp4\" type=\"video/mp4\" controls autoplay loop height=\"200px\"></td>\n",
    "    </tr>\n",
    "    </table>\n",
    "\n",
    "<div class=\"alert alert-block alert-warning\">\n",
    "<center>The steady state solution is a homogeneous image...</center>\n",
    "</div>\n",
    "\n"
   ]
  },
  {
   "cell_type": "markdown",
   "metadata": {
    "slideshow": {
     "slide_type": "slide"
    }
   },
   "source": [
    "## Controlling the diffusivity"
   ]
  },
  {
   "cell_type": "code",
   "execution_count": null,
   "metadata": {
    "hide_input": true,
    "slideshow": {
     "slide_type": "-"
    }
   },
   "outputs": [],
   "source": [
    "def g(x,lambd,n) :\n",
    "    g=1/(1+(x/lambd)**n)\n",
    "    return g"
   ]
  },
  {
   "cell_type": "markdown",
   "metadata": {
    "cell_style": "split",
    "slideshow": {
     "slide_type": "-"
    }
   },
   "source": [
    "We want to control the diffusion process...\n",
    "\n",
    "- _Near edges_ The Diffusivity $\\rightarrow$ 0\n",
    "- _Flat regions_ The Diffusivity $\\rightarrow$ 1\n",
    "\n",
    "The contrast function $G$ is our control function\n",
    "$$G(x)=\\frac{1}{1+\\left(\\frac{x}{\\lambda}\\right)^n}$$\n",
    "\n",
    "- _$\\lambda$_ Threshold level\n",
    "- _$n$_ Steepness of the threshold function"
   ]
  },
  {
   "cell_type": "code",
   "execution_count": null,
   "metadata": {
    "cell_style": "split"
   },
   "outputs": [],
   "source": [
    "x=np.linspace(0,1,100);\n",
    "\n",
    "plt.plot(x,g(x,lambd=0.5,n=12));\n",
    "plt.xlabel('Image intensity (x)'); plt.ylabel('G(x)');plt.tight_layout()"
   ]
  },
  {
   "cell_type": "markdown",
   "metadata": {
    "slideshow": {
     "slide_type": "slide"
    }
   },
   "source": [
    "## Gradient controlled diffusivity\n",
    "\n",
    "<font size=4>\n",
    "$$\\frac{\\partial u}{\\partial t}=G(|\\nabla u|)\\,\\nabla^2 u$$\n",
    "</font>\n",
    "<table><tr>\n",
    "      <td><img src=\"ext-figures/lecture03/aggregates.png\"  style=\"height:300px\"></td>\n",
    "  <td><img src=\"ext-figures/lecture03/diffusivity.png\"  style=\"height:300px\"></td>\n",
    "    </tr>\n",
    "    <tr>\n",
    "<td>Image</td><td>Diffusivity map</td>\n",
    "</tr></table>\n",
    "\n",
    "- _$u$_ Image to be filtered\n",
    "- _$G(\\cdot)$_ Non-linear function to control the diffusivity\n",
    "- _$\\tau$_ Time increment\n",
    "- _$N$_ Number of iterations\n",
    "<div class=\"alert alert-block alert-danger\">\n",
    "<center>This filter is noise sensitive!</center>\n",
    "</div>\n",
    "\n"
   ]
  },
  {
   "cell_type": "markdown",
   "metadata": {
    "slideshow": {
     "slide_type": "slide"
    }
   },
   "source": [
    "## The non-linear diffusion filter\n",
    "A more robust filter is obtained with\n",
    "<font size=4>\n",
    "$$\\frac{\\partial u}{\\partial t}=G(|\\nabla_{\\sigma} u|)\\,\\nabla^2 u$$\n",
    "</font>\n",
    "- _$u$_ Image to be filtered\n",
    "- _$G(\\cdot)$_ Non-linear function to control the contrast\n",
    "- _$\\tau$_ Time increment per numerical iteration\n",
    "- _$N$_ Number of iterations\n",
    "- _$\\nabla_{\\sigma}$_ Gradient smoothed by a Gaussian filter, width $\\sigma$\n",
    "\n"
   ]
  },
  {
   "cell_type": "markdown",
   "metadata": {
    "slideshow": {
     "slide_type": "slide"
    }
   },
   "source": [
    "## Diffusion filter example\n",
    "Neutron CT slice from a real-time experiment observing the coalescence of cold mixed bitumen.\n",
    "\n",
    "<table>    \n",
    "    <tr>\n",
    "        <td>Original</td><td>Iterations of non-linear diffusion</td>\n",
    "    </tr>\n",
    "    <tr>\n",
    "        <td><img src=\"ext-figures/lecture03/bitumen.png\" style=\"height:300px\"></td>\n",
    "        <td><video src=\"ext-figures/lecture03/nldif_iter.mp4\" type=\"video/mp4\" controls autoplay loop height=\"300px\"></td>    \n",
    "    </tr>\n",
    "</table>\n"
   ]
  },
  {
   "cell_type": "markdown",
   "metadata": {
    "slideshow": {
     "slide_type": "slide"
    }
   },
   "source": [
    "## Filtering as a regularization problem\n",
    "### The continued development\n",
    "\n",
    "- __90's__ During the late 90's the diffusion filter was described in terms of a regularization problem.\n",
    "- __00's__ Work toward regularization of total variation minimization.\n",
    "\n",
    "#### TV-L1\n",
    "$$u=\\underset{u\\in BV(\\Omega)}{\\operatorname{argmin}}\\left\\{\\underbrace{|u|_{BV}}_{noise}+ \\underbrace{\\mbox{$\\frac{\\lambda}{2}$}\\|f-u\\|_{1}}_{fidelity}\\right\\}$$\n",
    "#### Rudin-Osher-Fatemi model (ROF)\n",
    "$$u=\\underset{u\\in BV(\\Omega)}{\\operatorname{argmin}}\\left\\{\\underbrace{|u|_{BV}}_{noise}+ \\underbrace{\\mbox{$\\frac{\\lambda}{2}$}\\|f-u\\|^2_{2}}_{fidelity}\\right\\}$$\n",
    "\n",
    "with $|u|_{BV}=\\int_{\\Omega}|\\nabla u|^2$\n"
   ]
  },
  {
   "cell_type": "markdown",
   "metadata": {
    "slideshow": {
     "slide_type": "slide"
    }
   },
   "source": [
    "## The inverse scale space filter\n",
    "#### The idea \n",
    "We want smooth regions with sharp edges\\ldots\n",
    "\n",
    "- Turn the processing order of scale space filter upside down\n",
    "- Start with an empty image\n",
    "-  Add large structures successively until an image with relevant features appears\n",
    "\n",
    "#### The ISS filter - Some properties\n",
    "- is an edge preserving filter for noise reduction.\n",
    "- is defined by a partial differential equation.\n",
    "- has a well defined termination point.\n",
    "\n",
    "[Burger et al. 2006](https://dx.doi.org/10.4310/CMS.2006.v4.n1.a7)"
   ]
  },
  {
   "cell_type": "markdown",
   "metadata": {
    "slideshow": {
     "slide_type": "slide"
    }
   },
   "source": [
    "## The ROF filter equation\n",
    "The image $f$ is filtered by solving\n",
    "\n",
    "$$\\begin{eqnarray}\n",
    "\\frac{\\partial u}{\\partial t}&=& \\mathrm{div}\\left(\\frac{\\nabla u}{|\\nabla u|}\\right)+\\lambda\\,(f-u+v)\\nonumber\\\\\n",
    "\\frac{\\partial v}{\\partial t}&=& \\alpha\\, (f-u)\n",
    "\\end{eqnarray}$$\n",
    "\n",
    "#### Variables:\n",
    "- _$f$_ Input image\n",
    "- _$u$_ Filtered image\n",
    "- _$v$_ Regularization term (feedback of previous iteration)\n",
    "\n",
    "#### Filter parameters\n",
    "- _$\\lambda$_ Related to the scale of the features to suppress.\n",
    "- _$\\alpha$_ Quality refinement\n",
    "- _$N$_ Number of iterations\n",
    "- _$\\tau$_ Time increment\n"
   ]
  },
  {
   "cell_type": "markdown",
   "metadata": {
    "slideshow": {
     "slide_type": "slide"
    }
   },
   "source": [
    "## Filter iterations\n",
    "Neutron CT of dried lung filtered using 3D ISS filter\n",
    "\n",
    "<table>    \n",
    "    <tr><td>Original</td><td>Filter iterations</td></tr>\n",
    "    <tr>\n",
    "    <td><img src=\"ext-figures/lecture03/lung_iterations_first.png\" style=\"height:300px\"></td>   \n",
    "    <td><video src=\"ext-figures/lecture03/filter_iterations.mp4\" type=\"video/mp4\" controls autoplay loop height=\"300px\"></td>\n",
    "    </tr>\n",
    "</table>\n"
   ]
  },
  {
   "cell_type": "markdown",
   "metadata": {
    "slideshow": {
     "slide_type": "skip"
    }
   },
   "source": [
    "## How to choose $\\lambda$ and $\\alpha$\n",
    "The requirements varies between different data sets.\n",
    "\n",
    "#### Initial conditions:\n",
    "- Signal to noise ratio\n",
    "- Image features (fine grained or wide spread)\n",
    "\n",
    "#### Experiment:\n",
    "- Scan $\\lambda$ and $\\alpha$\n",
    "- Stop at $T=n\\, \\tau= \\sigma$ use different $\\tau$\n",
    "- When does different effects occur, related to $\\sigma$?"
   ]
  },
  {
   "cell_type": "markdown",
   "metadata": {
    "slideshow": {
     "slide_type": "slide"
    }
   },
   "source": [
    "## Solutions at different times\n",
    "<table><tr><td>1</td><td>30</td><td>60</td><td>100</td><td>200</td><td>500</td><td>999</td></tr>\n",
    "    <tr>\n",
    "        <td><img src=\"ext-figures/lecture03/iss-iteration_0001.png\" style=\"height:150px\"></td>\n",
    "        <td><img src=\"ext-figures/lecture03/iss-iteration_0030.png\" style=\"height:150px\"></td>\n",
    "        <td><img src=\"ext-figures/lecture03/iss-iteration_0060.png\" style=\"height:150px\"></td>\n",
    "        <td><img src=\"ext-figures/lecture03/iss-iteration_0100.png\" style=\"height:150px\"></td>\n",
    "        <td><img src=\"ext-figures/lecture03/iss-iteration_0200.png\" style=\"height:150px\"></td>\n",
    "        <td><img src=\"ext-figures/lecture03/iss-iteration_0500.png\" style=\"height:150px\"></td>\n",
    "        <td><img src=\"ext-figures/lecture03/iss-iteration_0999.png\" style=\"height:150px\"></td>\n",
    "    </tr>\n",
    "</table>\n",
    "<img src=\"ext-figures/lecture03/iss-errorplot.svg\" style=\"height:400px\">\n",
    "\n",
    "\n",
    "\n"
   ]
  },
  {
   "cell_type": "markdown",
   "metadata": {
    "slideshow": {
     "slide_type": "skip"
    }
   },
   "source": [
    "## Solution time\n",
    "The solution time ($T=N\\cdot\\tau$) is essential to the result\n",
    "- _$\\tau$ large_ The solution is reached fast\n",
    "- _$\\tau$ small_ The numerical accuracy is better"
   ]
  },
  {
   "cell_type": "markdown",
   "metadata": {
    "slideshow": {
     "slide_type": "skip"
    }
   },
   "source": [
    "## The choice of initial image\n",
    "<img src=\"ext-figures/lecture03/iss-errorplots_initialimage.svg\" style=\"height:400px\">\n",
    "\n",
    "At some $T$ the solution with $u_0=f$ and $u_0=0$ converge."
   ]
  },
  {
   "cell_type": "markdown",
   "metadata": {
    "slideshow": {
     "slide_type": "slide"
    }
   },
   "source": [
    "# Non-local means"
   ]
  },
  {
   "cell_type": "markdown",
   "metadata": {
    "slideshow": {
     "slide_type": "slide"
    }
   },
   "source": [
    "## Non-local smoothing\n",
    "### The idea\n",
    "Smoothing normally consider information from the neighborhood like\n",
    "\n",
    "- Local averages (convolution)\n",
    "- Gradients and Curvatures (PDE filters)\n",
    "\n",
    "Non-local smoothing average similiar intensities in a global sense.\n",
    "- Every filtered pixel is a weighted average of all pixels.\n",
    "- Weights computed using difference between pixel intensities.\n",
    "\n",
    "[Buades et al. 2005](http://dx.doi.org/10.1137/040616024)\n"
   ]
  },
  {
   "cell_type": "markdown",
   "metadata": {
    "slideshow": {
     "slide_type": "slide"
    }
   },
   "source": [
    "## Filter definition\n",
    "The non-local means filter is defined as\n",
    "$$u(p)=\\frac{1}{C(p)}\\sum_{q\\in\\Omega}v(q)\\,f(p,q)$$\n",
    "where\n",
    "- _$v$ and $u$_ input and result images.\n",
    "- _$C(p)$_ is the sum of all pixel weights as \n",
    "\n",
    "    $C(p)=\\sum_{q\\in\\Omega}f(p,q)$\n",
    "    \n",
    "    \n",
    "- _$f(p,q)$_ is the weighting function\n",
    "\n",
    "    $f(p,q)=e^{-\\frac{|B(q)-B(p)|^2}{h^2}}$\n",
    "    \n",
    "    \n",
    "- _B(x)_ is a neighborhood operator e.g. local average around $x$"
   ]
  },
  {
   "cell_type": "markdown",
   "metadata": {
    "slideshow": {
     "slide_type": "slide"
    }
   },
   "source": [
    "## Non-local means 2D - Example\n",
    "\n",
    "<img src=\"ext-figures/lecture03/nonlocal_example.png\" style=\"height:400px\">\n",
    "\n",
    "#### Observations\n",
    "\n",
    "- Good smoothing effect.\n",
    "- Strong thin lines are preserved.\n",
    "-  Some patchiness related to filter parameter $t$, *i.e.* the size of $\\Omega_i$.\n"
   ]
  },
  {
   "cell_type": "markdown",
   "metadata": {
    "slideshow": {
     "slide_type": "slide"
    }
   },
   "source": [
    "## Performance complications\n",
    "### Problem\n",
    "The orignal filter compares all pixels with all pixels\\ldots\\\\\n",
    "- Complexity $\\mathcal{O}(N^2)$ \n",
    "- Not feasible for large images, and particular 3D images!\n",
    "\n",
    "### Solution\n",
    "It has been shown that not all pixels have to be compared to achieve a good filter effect.\n",
    "i.e. $\\Omega$ in the filter equations can be replaced by $\\Omega_i<<\\Omega$ "
   ]
  },
  {
   "cell_type": "markdown",
   "metadata": {
    "slideshow": {
     "slide_type": "slide"
    }
   },
   "source": [
    "# Verification\n",
    "## How good is my filter?"
   ]
  },
  {
   "cell_type": "markdown",
   "metadata": {
    "slideshow": {
     "slide_type": "slide"
    }
   },
   "source": [
    "## Verify the correctness of the method\n",
    "#### \"Data massage\"\n",
    "Filtering manipulates the data, avoid too strong modifications otherwise you may invent new image features!!!\n",
    "\n",
    "<center><img src=\"ext-figures/lecture03/mugs.png\" style=\"height:250px\"></center>\n",
    "\n",
    "#### Verify the validity your method\n",
    "- Visual inspection\n",
    "- Difference images\n",
    "- Use degraded phantom images in a \"smoke test\""
   ]
  },
  {
   "cell_type": "markdown",
   "metadata": {
    "slideshow": {
     "slide_type": "slide"
    }
   },
   "source": [
    "## Verification using difference images\n",
    "Compute pixel-wise difference between image $f$ and $g$\n",
    "<img src=\"ext-figures/lecture03/verification_differences.svg\" style=\"height:600px\">\n",
    "\n",
    "Difference images provide first diagnosis about processing performance "
   ]
  },
  {
   "cell_type": "markdown",
   "metadata": {
    "slideshow": {
     "slide_type": "slide"
    }
   },
   "source": [
    "## Performance testing - The smoke test\n",
    "\n",
    "- Testing term from electronic hardware testing - drive the system until something fails due to overheating...\n",
    "- In general: scan the parameter space for different SNR until the method fails to identify strength and weakness of the system.\n",
    "\n",
    "### Test strategy\n",
    "1. Create a phantom image with relevant features.\n",
    "2. Add noise for different SNR to the phantom.\n",
    "3. Apply the processing method with different parameters.\n",
    "4. Measure the difference between processed and phantom.\n",
    "5. Repeat steps 2-4 $N$ times for better test statistics.\n",
    "6. Plot the results and identify the range of SNR and parameters that produce acceptable results."
   ]
  },
  {
   "cell_type": "markdown",
   "metadata": {
    "slideshow": {
     "slide_type": "slide"
    }
   },
   "source": [
    "## Data for evaluation -  Phantom data\n",
    "General purpose can be controlled\n",
    "- Data with known features.\n",
    "- Parameters can be changed.\n",
    "    - Shape\n",
    "    - Sharpness\n",
    "    - Contrast\n",
    "    - Noise (distribution and strength)\n",
    "<table><tr>\n",
    "<td><img src=\"ext-figures/lecture03/shepplogan.png\" style=\"height:250px\"</td>\n",
    "<td><img src=\"ext-figures/lecture03/synthetic_root4.png\" style=\"height:250px\"</td>\n",
    "    </tr></table>"
   ]
  },
  {
   "cell_type": "markdown",
   "metadata": {
    "slideshow": {
     "slide_type": "slide"
    }
   },
   "source": [
    "## Data for evaluation - Labelled data\n",
    "Often 'real' data\n",
    "- Labeled by experts\n",
    "- Used for training and validation\n",
    "     - Training of model\n",
    "     - Validation \n",
    "     - Test\n",
    "\n",
    "<center><img src=\"ext-figures/lecture03/mnist.png\" style=\"height:300px\"></center>"
   ]
  },
  {
   "cell_type": "markdown",
   "metadata": {
    "slideshow": {
     "slide_type": "slide"
    }
   },
   "source": [
    "## Evaluation metrics for images\n",
    "An evaluation procedure need a metric to compare the performance\n",
    "#### Mean squared error\n",
    "<font size=5>\n",
    "$$MSE(f,g)=\\sum_{p\\in \\Omega}(f(p)-g(p))^2$$\n",
    "</font>\n",
    "\n",
    "#### Structural similarity index\n",
    "<font size=5>\n",
    "$$SSIM(f,g)=\\frac{(2\\mu_f\\,\\mu_g+C_1)(2\\sigma_{fg}+C_2)}{(\\mu_f^2+\\mu_g^2+C_1)(\\sigma_f^2+\\sigma_g^2+C_2)}$$\n",
    "    </font>\n",
    "    \n",
    "- _$\\mu_f$, $\\mu_g$_ Local mean of $f$ and $g$.\n",
    "- _$\\sigma_{fg}$_ Local correlation between $f$ and $g$.\n",
    "- _$\\sigma_f$, $\\sigma_g$_ Local standard deviation of $f$ and $g$.\n",
    "- _$C_1$, $C_2$_ Constants based on the image dynamics (small numbers).\n",
    "\n",
    "\n",
    "<font size=5>\n",
    "$$MSSIM(f,g)=E[SSIM(f,g)]$$\n",
    "</font>\n",
    "\n",
    "[Wang 2009](https://doi.org/10.1109/MSP.2008.930649)"
   ]
  },
  {
   "cell_type": "markdown",
   "metadata": {
    "slideshow": {
     "slide_type": "slide"
    }
   },
   "source": [
    "## Test run example\n",
    "#### Phantom structures\n",
    "<table><tr>\n",
    "<td><img src=\"ext-figures/lecture03/synthetic_root1.png\" style=\"height:200px\"></td>\n",
    "<td><img src=\"ext-figures/lecture03/synthetic_root2.png\" style=\"height:200px\"></td>\n",
    "    <td><img src=\"ext-figures/lecture03/synthetic_root4.png\" style=\"height:200px\"></td>\n",
    "    <td><img src=\"ext-figures/lecture03/synthetic_root8.png\" style=\"height:200px\"></td>\n",
    "</tr></table>\n",
    "\n",
    "#### Change SNR and contrast\n",
    "<table><tr>\n",
    "<td><img src=\"ext-figures/lecture03/noise01.png\" style=\"height:200px\"></td>\n",
    "<td><img src=\"ext-figures/lecture03/noise02.png\" style=\"height:200px\"></td>\n",
    "    <td><img src=\"ext-figures/lecture03/noise05.png\" style=\"height:200px\"></td>\n",
    "    <td><img src=\"ext-figures/lecture03/noise10.png\" style=\"height:200px\"></td>\n",
    "</tr></table>"
   ]
  },
  {
   "cell_type": "markdown",
   "metadata": {
    "slideshow": {
     "slide_type": "slide"
    }
   },
   "source": [
    "#### Process\n",
    "\n",
    "<div class=\"alert alert-block alert-success\">\n",
    "Apply processing sequence.\n",
    "</div>\n",
    "\n",
    "#### Plot results\n",
    "<table><tr>\n",
    "<td><img src=\"ext-figures/lecture03/radius1.png\" style=\"height:200px\"></td>\n",
    "<td><img src=\"ext-figures/lecture03/radius2.png\" style=\"height:200px\"></td>\n",
    "    <td><img src=\"ext-figures/lecture03/radius4.png\" style=\"height:200px\"></td>\n",
    "    <td><img src=\"ext-figures/lecture03/radius8.png\" style=\"height:200px\"></td>\n",
    "</tr></table>\n",
    "\n",
    "[Kaestner et al. 2006](https://doi.org/10.1016/j.geoderma.2006.04.009)"
   ]
  },
  {
   "cell_type": "markdown",
   "metadata": {
    "slideshow": {
     "slide_type": "slide"
    }
   },
   "source": [
    "# Overview"
   ]
  },
  {
   "cell_type": "markdown",
   "metadata": {
    "slideshow": {
     "slide_type": "slide"
    }
   },
   "source": [
    "## Many filters\n",
    "<img src=\"ext-figures/lecture03/filter_overview_gray.svg\" style=\"height:600px\">"
   ]
  },
  {
   "cell_type": "markdown",
   "metadata": {
    "slideshow": {
     "slide_type": "slide"
    }
   },
   "source": [
    "## Details of filter performance\n",
    "\n",
    "<img src=\"ext-figures/lecture03/filter_overview_close_gray.svg\" style=\"height:600px\">\n"
   ]
  },
  {
   "cell_type": "markdown",
   "metadata": {
    "slideshow": {
     "slide_type": "slide"
    }
   },
   "source": [
    "## Take-home message\n",
    "We have looked at different ways to suppress noise and artifacts:\n",
    "\n",
    "- Convolution \n",
    "- Median filters\n",
    "- Wavelet denoising\n",
    "- PDE filters\n",
    "\n",
    "Which one you select depends on \n",
    "- Purpose of the data\n",
    "- Quality requirements \n",
    "- Available time\n",
    "<div class=\"alert alert-block alert-success\">\n",
    "<b>Remember</b>: A good measurement is better than an enhanced bad measurement, but bad data can mostly be rescued if needed.\n",
    "</div>\n",
    "\n"
   ]
  },
  {
   "cell_type": "code",
   "execution_count": null,
   "metadata": {},
   "outputs": [],
   "source": []
  }
 ],
 "metadata": {
  "celltoolbar": "Slideshow",
  "hide_input": false,
  "kernelspec": {
   "display_name": "Python 3",
   "language": "python",
   "name": "python3"
  },
  "language_info": {
   "codemirror_mode": {
    "name": "ipython",
    "version": 3
   },
   "file_extension": ".py",
   "mimetype": "text/x-python",
   "name": "python",
   "nbconvert_exporter": "python",
   "pygments_lexer": "ipython3",
   "version": "3.7.4"
  },
  "livereveal": {
   "autolaunch": true,
   "enable_chalkboard": true,
   "footer": "February 27, 2020 - ETH 227-0966-00L: Quantitative Big Imaging/Image enhancement",
   "header": "<table width='100%' style='margin: 0px;'><tr><td align='left'><img src='../common/figures/eth_logo_kurz_pos.svg' style='height:30px;'></td><td align='right'><img src='../common/figures/PSI-Logo.svg' style='height:50px;'></td></tr></table>",
   "scroll": true
  }
 },
 "nbformat": 4,
 "nbformat_minor": 2
}
