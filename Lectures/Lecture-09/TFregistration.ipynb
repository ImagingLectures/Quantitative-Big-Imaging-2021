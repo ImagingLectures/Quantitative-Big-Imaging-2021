{
 "cells": [
  {
   "cell_type": "code",
   "execution_count": 7,
   "metadata": {
    "ExecuteTime": {
     "end_time": "2021-04-21T13:13:30.731271Z",
     "start_time": "2021-04-21T13:13:30.714752Z"
    }
   },
   "outputs": [
    {
     "ename": "AttributeError",
     "evalue": "module 'tensorflow' has no attribute 'placeholder'",
     "output_type": "error",
     "traceback": [
      "\u001b[0;31m---------------------------------------------------------------------------\u001b[0m",
      "\u001b[0;31mAttributeError\u001b[0m                            Traceback (most recent call last)",
      "\u001b[0;32m<ipython-input-7-e763a1ddd333>\u001b[0m in \u001b[0;36m<module>\u001b[0;34m\u001b[0m\n\u001b[1;32m      6\u001b[0m \u001b[0;31m#    init = tf.Variable()\u001b[0m\u001b[0;34m\u001b[0m\u001b[0;34m\u001b[0m\u001b[0;34m\u001b[0m\u001b[0m\n\u001b[1;32m      7\u001b[0m     \u001b[0;31m# tf Graph Input\u001b[0m\u001b[0;34m\u001b[0m\u001b[0;34m\u001b[0m\u001b[0;34m\u001b[0m\u001b[0m\n\u001b[0;32m----> 8\u001b[0;31m     fixed_img = tf.placeholder(\"float\", shape=(\n\u001b[0m\u001b[1;32m      9\u001b[0m         1, None, None, 1), name='FixedImage')\n\u001b[1;32m     10\u001b[0m     moving_img = tf.placeholder(\"float\", shape=(\n",
      "\u001b[0;31mAttributeError\u001b[0m: module 'tensorflow' has no attribute 'placeholder'"
     ]
    }
   ],
   "source": [
    "#import tensorflow as tf\n",
    "import tensorflow as tf\n",
    "\n",
    "g = tf.Graph()\n",
    "with g.as_default():\n",
    "#    init = tf.Variable()\n",
    "    # tf Graph Input\n",
    "    fixed_img = tf.placeholder(\"float\", shape=(\n",
    "        1, None, None, 1), name='FixedImage')\n",
    "    moving_img = tf.placeholder(\"float\", shape=(\n",
    "        1, None, None, 1), name='MovingImage')\n",
    "    # Initialize the variables (i.e. assign their default value)\n",
    "\n",
    "    with tf.name_scope('transform_parameters'):  # Set transform parameters\n",
    "        x_offset = tf.Variable(0.0, name=\"x_offset\")\n",
    "        y_offset = tf.Variable(0.0, name=\"y_offset\")\n",
    "        # we keep scale and rotation fixed\n",
    "        scale = tf.placeholder(\"float\", shape=tuple(), name=\"scale\")\n",
    "        rotation = tf.placeholder(\"float\", shape=tuple(), name=\"rotation\")\n",
    "\n",
    "    with tf.name_scope('transformer_and_interpolator'):\n",
    "        trans_tensor= tf.keras.preprocessing.image.apply_affine_transform(\n",
    "        moving_img,\n",
    "        theta=rotation,\n",
    "        tx=x_offset,\n",
    "        ty=y_offset)\n",
    "        \n",
    "    with tf.name_scope('metric'): \n",
    "        mse = tf.reduce_mean(\n",
    "            tf.square(fixed_img-trans_tensor), name='MeanSquareError')\n",
    "        optimizer = tf.train.GradientDescentOptimizer(1e-5).minimize(mse)"
   ]
  },
  {
   "cell_type": "code",
   "execution_count": null,
   "metadata": {},
   "outputs": [],
   "source": [
    "flat_mat = tf.tile([tf.cos(rotation), -tf.sin(rotation), x_offset,\n",
    "                            tf.sin(rotation), tf.cos(rotation), y_offset], (1,))\n",
    "        flat_mat = tf.reshape(flat_mat, (1, 6))\n",
    "        trans_tensor = affine_transform(moving_img, flat_mat)"
   ]
  },
  {
   "cell_type": "code",
   "execution_count": null,
   "metadata": {},
   "outputs": [],
   "source": [
    "import numpy as np\n",
    "from IPython.display import clear_output, Image, display, HTML\n",
    "\n",
    "def strip_consts(graph_def, max_const_size=32):\n",
    "    \"\"\"Strip large constant values from graph_def.\"\"\"\n",
    "    strip_def = tf.GraphDef()\n",
    "    for n0 in graph_def.node:\n",
    "        n = strip_def.node.add()\n",
    "        n.MergeFrom(n0)\n",
    "        if n.op == 'Const':\n",
    "            tensor = n.attr['value'].tensor\n",
    "            size = len(tensor.tensor_content)\n",
    "            if size > max_const_size:\n",
    "                tensor.tensor_content = \"<stripped %d bytes>\" % size\n",
    "    return strip_def\n",
    "\n",
    "\n",
    "def show_graph(graph_def, max_const_size=32):\n",
    "    \"\"\"Visualize TensorFlow graph.\"\"\"\n",
    "    if hasattr(graph_def, 'as_graph_def'):\n",
    "        graph_def = graph_def.as_graph_def()\n",
    "    strip_def = strip_consts(graph_def, max_const_size=max_const_size)\n",
    "    code = \"\"\"\n",
    "        <script src=\"//cdnjs.cloudflare.com/ajax/libs/polymer/0.3.3/platform.js\"></script>\n",
    "        <script>\n",
    "          function load() {{\n",
    "            document.getElementById(\"{id}\").pbtxt = {data};\n",
    "          }}\n",
    "        </script>\n",
    "        <link rel=\"import\" href=\"https://tensorboard.appspot.com/tf-graph-basic.build.html\" onload=load()>\n",
    "        <div style=\"height:600px\">\n",
    "          <tf-graph-basic id=\"{id}\"></tf-graph-basic>\n",
    "        </div>\n",
    "    \"\"\".format(data=repr(str(strip_def)), id='graph'+str(np.random.rand()))\n",
    "\n",
    "    iframe = \"\"\"\n",
    "        <iframe seamless style=\"width:1200px;height:620px;border:0\" srcdoc=\"{}\"></iframe>\n",
    "    \"\"\".format(code.replace('\"', '&quot;'))\n",
    "    display(HTML(iframe))\n",
    "\n",
    "\n",
    "show_graph(g)"
   ]
  }
 ],
 "metadata": {
  "hide_input": false,
  "kernelspec": {
   "display_name": "Python 3",
   "language": "python",
   "name": "python3"
  },
  "language_info": {
   "codemirror_mode": {
    "name": "ipython",
    "version": 3
   },
   "file_extension": ".py",
   "mimetype": "text/x-python",
   "name": "python",
   "nbconvert_exporter": "python",
   "pygments_lexer": "ipython3",
   "version": "3.8.5"
  }
 },
 "nbformat": 4,
 "nbformat_minor": 4
}
