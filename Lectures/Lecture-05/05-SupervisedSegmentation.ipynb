{
 "cells": [
  {
   "cell_type": "markdown",
   "metadata": {
    "slideshow": {
     "slide_type": "slide"
    }
   },
   "source": [
    "# ETHZ: 227-0966-00L\n",
    "# Quantitative Big Imaging\n",
    "\n",
    "# March 19, 2019\n",
    "\n",
    "## Supervised Segmentation Approaches\n",
    "### Anders Kaestner"
   ]
  },
  {
   "cell_type": "markdown",
   "metadata": {
    "slideshow": {
     "slide_type": "slide"
    }
   },
   "source": [
    "# Reading Material\n",
    "\n",
    "- [Introduction to Machine Learning: ETH Course](https://las.inf.ethz.ch/teaching/introml-s18)\n",
    "- [Decision Forests for Computer Vision and Medical Image Analysis](https://www.amazon.com/Decision-Computer-Analysis-Advances-Recognition/dp/1447149289/ref=sr_1_1?s=books&ie=UTF8&qid=1521704598&sr=1-1&refinements=p_27%3AAntonio+Criminisi&dpID=41fMCWUOh%252BL&preST=_SY291_BO1,204,203,200_QL40_&dpSrc=srch)\n",
    "- [U-Net: Convolutional Networks for Biomedical Image Segmentation](https://arxiv.org/abs/1505.04597)\n",
    "- [U-Net Website](https://lmb.informatik.uni-freiburg.de/people/ronneber/u-net/)"
   ]
  },
  {
   "cell_type": "markdown",
   "metadata": {
    "slideshow": {
     "slide_type": "slide"
    }
   },
   "source": [
    "# Overview\n",
    "1. Methods\n",
    "1. Pipelines\n",
    "2. Classification\n",
    "3. Regression\n",
    "4. Segmentation"
   ]
  },
  {
   "cell_type": "code",
   "execution_count": null,
   "metadata": {
    "slideshow": {
     "slide_type": "skip"
    }
   },
   "outputs": [],
   "source": [
    "import seaborn as sns\n",
    "import matplotlib.pyplot as plt\n",
    "plt.rcParams[\"figure.figsize\"] = (8, 8)\n",
    "plt.rcParams[\"figure.dpi\"] = 150\n",
    "plt.rcParams[\"font.size\"] = 14\n",
    "plt.rcParams['font.family'] = ['sans-serif']\n",
    "plt.rcParams['font.sans-serif'] = ['DejaVu Sans']\n",
    "plt.style.use('ggplot')\n",
    "sns.set_style(\"whitegrid\", {'axes.grid': False})"
   ]
  },
  {
   "cell_type": "markdown",
   "metadata": {
    "slideshow": {
     "slide_type": "slide"
    }
   },
   "source": [
    "# Basic Methods Overview\n",
    "There are a number of supervised methods we can use for \n",
    " - classification, \n",
    " - regression \n",
    " - and both. \n",
    " \n",
    "## Workflow of supervised methods \n",
    "### Training\n",
    "- The training phase is when the parameters of the model are *learned* \n",
    "- Used training data with ground truth.\n",
    "\n",
    "### Predicting\n",
    "- Provides responses on inputs using the trained model.\n",
    "- Uses new unseen data.\n"
   ]
  },
  {
   "cell_type": "markdown",
   "metadata": {
    "slideshow": {
     "slide_type": "notes"
    }
   },
   "source": [
    "# Basic Methods Overview\n",
    "There are a number of methods we can use for classification, regression and both. For the simplification of the material we will not make a massive distinction between classification and regression but there are many situations where this is not appropriate. Here we cover a few basic methods, since these are important to understand as a starting point for solving difficult problems. The list is not complete and importantly Support Vector Machines are completely missing which can be a very useful tool in supervised analysis.\n",
    "A core idea to supervised models is they have a training phase and a predicting phase. \n",
    "## Training\n",
    "\n",
    "The training phase is when the parameters of the model are *learned* and involve putting inputs into the model and updating the parameters so they better match the outputs. This is a sort-of curve fitting (with linear regression it is exactly curve fitting).\n",
    "\n",
    "## Predicting\n",
    "\n",
    "The predicting phase is once the parameters have been set applying the model to new datasets. At this point the parameters are no longer adjusted or updated and the model is frozen. Generally it is not possible to tweak a model any more using new data but some approaches (most notably neural networks) are able to handle this. "
   ]
  },
  {
   "cell_type": "markdown",
   "metadata": {
    "slideshow": {
     "slide_type": "subslide"
    }
   },
   "source": [
    "# Lets create some data...\n",
    "Here we create some bivariate data 'blobs' with Gaussian distribution"
   ]
  },
  {
   "cell_type": "code",
   "execution_count": null,
   "metadata": {
    "format": "column",
    "slideshow": {
     "slide_type": "subslide"
    }
   },
   "outputs": [],
   "source": [
    "import pandas as pd\n",
    "import numpy as np\n",
    "import matplotlib.pyplot as plt\n",
    "from sklearn.datasets import make_blobs\n",
    "%matplotlib inline\n",
    "\n",
    "blob_data, blob_labels = make_blobs(n_samples=100,\n",
    "                                    random_state=2018)\n",
    "test_pts = pd.DataFrame(blob_data, columns=['x', 'y'])\n",
    "test_pts['group_id'] = blob_labels\n",
    "plt.scatter(test_pts.x, test_pts.y,\n",
    "            c=test_pts.group_id,\n",
    "            cmap='viridis')\n",
    "test_pts.sample(5)"
   ]
  },
  {
   "cell_type": "markdown",
   "metadata": {
    "slideshow": {
     "slide_type": "slide"
    }
   },
   "source": [
    "## Nearest Neighbor (or K Nearest Neighbors)\n",
    "The technique is as basic as it sounds, it basically finds the nearest point to what you have put in. "
   ]
  },
  {
   "cell_type": "code",
   "execution_count": null,
   "metadata": {
    "slideshow": {
     "slide_type": "fragment"
    }
   },
   "outputs": [],
   "source": [
    "plt.figure(figsize=[6,6])\n",
    "plt.scatter(test_pts.x, test_pts.y,\n",
    "            c=test_pts.group_id,\n",
    "            cmap='viridis')\n",
    "plt.plot(2,-2,'X',color='cornflowerblue',markersize=10,label='Point A')\n",
    "plt.plot(7.7,-6.1,'o',color='darkorange',markersize=10,label='Point B')\n",
    "plt.plot(8.5,-4,'P',color='deeppink',markersize=10,label='Point C')\n",
    "plt.legend()"
   ]
  },
  {
   "cell_type": "markdown",
   "metadata": {
    "slideshow": {
     "slide_type": "subslide"
    }
   },
   "source": [
    "## Text example\n",
    "### Training data\n",
    "| Value | 1   | 2   | 3   | 4   |\n",
    "|-------|-----|-----|-----|-----|\n",
    "| Class | I   | am  | a   | dog |\n",
    "\n",
    "### Start the training"
   ]
  },
  {
   "cell_type": "code",
   "execution_count": null,
   "metadata": {
    "slideshow": {
     "slide_type": "-"
    }
   },
   "outputs": [],
   "source": [
    "from sklearn.neighbors import KNeighborsClassifier\n",
    "import numpy as np\n",
    "k_class = KNeighborsClassifier(1)\n",
    "k_class.fit(X=np.reshape([0, 1, 2, 3], (-1, 1)),\n",
    "            y=['I', 'am', 'a', 'dog'])"
   ]
  },
  {
   "cell_type": "markdown",
   "metadata": {
    "slideshow": {
     "slide_type": "subslide"
    }
   },
   "source": [
    "## Nearest neighbor predictions\n",
    "### Basic test\n",
    "Same values as training"
   ]
  },
  {
   "cell_type": "code",
   "execution_count": null,
   "metadata": {
    "format": "column",
    "slideshow": {
     "slide_type": "-"
    }
   },
   "outputs": [],
   "source": [
    "print(k_class.predict(np.reshape([0, 1, 2, 3],\n",
    "                                 (-1, 1))))"
   ]
  },
  {
   "cell_type": "markdown",
   "metadata": {
    "slideshow": {
     "slide_type": "-"
    }
   },
   "source": [
    "### Testing with different values"
   ]
  },
  {
   "cell_type": "code",
   "execution_count": null,
   "metadata": {
    "format": "column",
    "slideshow": {
     "slide_type": "-"
    }
   },
   "outputs": [],
   "source": [
    "print(\"Input 1.5 :\",k_class.predict(np.reshape([1.5], (1, 1))))\n",
    "print(\"Input 100 :\",k_class.predict(np.reshape([100], (1, 1))))"
   ]
  },
  {
   "cell_type": "markdown",
   "metadata": {
    "slideshow": {
     "slide_type": "subslide"
    }
   },
   "source": [
    "## Let's come back to the blob data"
   ]
  },
  {
   "cell_type": "code",
   "execution_count": null,
   "metadata": {
    "format": "column",
    "slideshow": {
     "slide_type": "-"
    }
   },
   "outputs": [],
   "source": [
    "import pandas as pd\n",
    "import numpy as np\n",
    "import matplotlib.pyplot as plt\n",
    "from sklearn.datasets import make_blobs\n",
    "%matplotlib inline\n",
    "\n",
    "blob_data, blob_labels = make_blobs(n_samples=100,\n",
    "                                    cluster_std=2.0,\n",
    "                                    random_state=2018)\n",
    "test_pts = pd.DataFrame(blob_data, columns=['x', 'y'])\n",
    "test_pts['group_id'] = blob_labels\n",
    "plt.scatter(test_pts.x, test_pts.y, c=test_pts.group_id, cmap='viridis')\n",
    "test_pts.sample(5)"
   ]
  },
  {
   "cell_type": "markdown",
   "metadata": {
    "slideshow": {
     "slide_type": "subslide"
    }
   },
   "source": [
    "## Training the model using one neighbor\n"
   ]
  },
  {
   "cell_type": "code",
   "execution_count": null,
   "metadata": {
    "format": "column",
    "slideshow": {
     "slide_type": "-"
    }
   },
   "outputs": [],
   "source": [
    "k_class = KNeighborsClassifier(1)\n",
    "k_class.fit(test_pts[['x', 'y']], test_pts['group_id']) "
   ]
  },
  {
   "cell_type": "markdown",
   "metadata": {
    "slideshow": {
     "slide_type": "subslide"
    }
   },
   "source": [
    "### Resulting prediction map for a single neighbor"
   ]
  },
  {
   "cell_type": "code",
   "execution_count": null,
   "metadata": {
    "format": "tab",
    "slideshow": {
     "slide_type": "-"
    }
   },
   "outputs": [],
   "source": [
    "xx, yy = np.meshgrid(np.linspace(test_pts.x.min(), test_pts.x.max(), 30),np.linspace(test_pts.y.min(), test_pts.y.max(), 30),indexing='ij');\n",
    "grid_pts = pd.DataFrame(dict(x=xx.ravel(), y=yy.ravel()))\n",
    "grid_pts['predicted_id'] = k_class.predict(grid_pts[['x', 'y']])\n",
    "\n",
    "fig, (ax1, ax2) = plt.subplots(1, 2, figsize=(12, 4))\n",
    "ax1.scatter(test_pts.x, test_pts.y, c=test_pts.group_id, cmap='viridis'); ax1.set_title('Training Data');\n",
    "ax2.scatter(grid_pts.x, grid_pts.y, c=grid_pts.predicted_id, cmap='viridis'); ax2.set_title('Testing Points');"
   ]
  },
  {
   "cell_type": "markdown",
   "metadata": {
    "slideshow": {
     "slide_type": "subslide"
    }
   },
   "source": [
    "## Stabilizing Results - Increase number of neighbors\n",
    "- We can see here that the result is thrown off by single points\n",
    "- Prediction can be improved by using more than the nearest neighbor"
   ]
  },
  {
   "cell_type": "code",
   "execution_count": null,
   "metadata": {
    "format": "tab",
    "slideshow": {
     "slide_type": "-"
    }
   },
   "outputs": [],
   "source": [
    "k_class = KNeighborsClassifier(4)\n",
    "k_class.fit(test_pts[['x', 'y']], test_pts['group_id'])\n",
    "xx, yy = np.meshgrid(np.linspace(test_pts.x.min(), test_pts.x.max(), 30),\n",
    "                     np.linspace(test_pts.y.min(), test_pts.y.max(), 30),\n",
    "                     indexing='ij'\n",
    "                     )\n",
    "grid_pts = pd.DataFrame(dict(x=xx.ravel(), y=yy.ravel()))\n",
    "grid_pts['predicted_id'] = k_class.predict(grid_pts[['x', 'y']])\n",
    "\n",
    "fig, (ax1, ax2) = plt.subplots(1, 2, figsize=(12, 4))\n",
    "ax1.scatter(test_pts.x, test_pts.y, c=test_pts.group_id, cmap='viridis'); ax1.set_title('Training Data');\n",
    "ax2.scatter(grid_pts.x, grid_pts.y, c=grid_pts.predicted_id, cmap='viridis');ax2.set_title('Testing Points with 4 neighbors');"
   ]
  },
  {
   "cell_type": "markdown",
   "metadata": {
    "slideshow": {
     "slide_type": "slide"
    }
   },
   "source": [
    "# Linear Regression\n",
    "- Linear regression is a fancy-name for linear curve fitting\n",
    "- Fitting a line through points (sometimes in more than one dimension). \n",
    "- It is a very basic method, \n",
    "    - is easy to understand, \n",
    "    - interpret \n",
    "    - and fast to compute"
   ]
  },
  {
   "cell_type": "markdown",
   "metadata": {
    "slideshow": {
     "slide_type": "subslide"
    }
   },
   "source": [
    "## We need data to fit..."
   ]
  },
  {
   "cell_type": "code",
   "execution_count": null,
   "metadata": {
    "slideshow": {
     "slide_type": "subslide"
    }
   },
   "outputs": [],
   "source": [
    "from sklearn.linear_model import LinearRegression\n",
    "import numpy as np\n",
    "x = np.array([0, 1, 2, 3])\n",
    "y = np.array([10, 20, 30, 40] )\n",
    "plt.plot(x,y,'o',color='cornflowerblue'); plt.title('Training data')\n",
    "l_reg = LinearRegression()\n",
    "l_reg.fit(X=np.reshape(x, (-1, 1)),y=y)\n",
    "print(\"slope: {0:0.4}, intercept: {1:0.4}\".format(l_reg.coef_[0], l_reg.intercept_))"
   ]
  },
  {
   "cell_type": "markdown",
   "metadata": {
    "slideshow": {
     "slide_type": "subslide"
    }
   },
   "source": [
    "## Let's try the model on some data points"
   ]
  },
  {
   "cell_type": "code",
   "execution_count": null,
   "metadata": {
    "format": "column",
    "slideshow": {
     "slide_type": "-"
    }
   },
   "outputs": [],
   "source": [
    "print('An array of values:',l_reg.predict(np.reshape([0, 1, 2, 3], (-1, 1))))\n",
    "print('x:',-100, '=>', l_reg.predict(np.reshape([-100], (1, 1))))\n",
    "print('x: ',500, '=>', l_reg.predict(np.reshape([500], (1, 1))))"
   ]
  },
  {
   "cell_type": "code",
   "execution_count": null,
   "metadata": {
    "format": "column",
    "slideshow": {
     "slide_type": "subslide"
    }
   },
   "outputs": [],
   "source": [
    "from sklearn.datasets import make_blobs\n",
    "import matplotlib.pyplot as plt\n",
    "\n",
    "import numpy as np\n",
    "import pandas as pd\n",
    "blob_data, blob_labels = make_blobs(centers=2, n_samples=100,\n",
    "                                    random_state=2018)\n",
    "test_pts = pd.DataFrame(blob_data, columns=['x', 'y'])\n",
    "test_pts['group_id'] = blob_labels\n",
    "plt.scatter(test_pts.x, test_pts.y, c=test_pts.group_id, cmap='viridis')\n",
    "test_pts.sample(5)"
   ]
  },
  {
   "cell_type": "code",
   "execution_count": null,
   "metadata": {
    "format": "column",
    "slideshow": {
     "slide_type": "subslide"
    }
   },
   "outputs": [],
   "source": [
    "l_reg = LinearRegression()\n",
    "l_reg.fit(test_pts[['x', 'y']], test_pts['group_id'])\n",
    "print('Slope', l_reg.coef_)\n",
    "print('Offset', l_reg.intercept_)"
   ]
  },
  {
   "cell_type": "code",
   "execution_count": null,
   "metadata": {
    "format": "tab",
    "slideshow": {
     "slide_type": "subslide"
    }
   },
   "outputs": [],
   "source": [
    "xx, yy = np.meshgrid(np.linspace(test_pts.x.min(), test_pts.x.max(), 20),\n",
    "                     np.linspace(test_pts.y.min(), test_pts.y.max(), 20),\n",
    "                     indexing='ij'\n",
    "                     )\n",
    "grid_pts = pd.DataFrame(dict(x=xx.ravel(), y=yy.ravel()))\n",
    "grid_pts['predicted_id'] = l_reg.predict(grid_pts[['x', 'y']])\n",
    "\n",
    "fig, (ax1, ax2, ax3) = plt.subplots(1, 3, figsize=(12, 4))\n",
    "ax1.scatter(test_pts.x, test_pts.y, c=test_pts.group_id, cmap='viridis')\n",
    "ax1.set_title('Training Data')\n",
    "ax2.scatter(grid_pts.x, grid_pts.y, c=grid_pts.predicted_id, cmap='viridis')\n",
    "ax2.set_title('Testing Points')\n",
    "ax3.imshow(grid_pts.predicted_id.values.reshape(\n",
    "    xx.shape).T[::-1], cmap='viridis')\n",
    "ax3.set_title('Test Image');"
   ]
  },
  {
   "cell_type": "markdown",
   "metadata": {
    "slideshow": {
     "slide_type": "slide"
    }
   },
   "source": [
    "## Trees\n",
    "\n",
    "[Hastie et al., Elements Of Statistical Learning, 2009](https://doi.org/10.1007/978-0-387-84858-7) Section 9.2 Trees."
   ]
  },
  {
   "cell_type": "code",
   "execution_count": null,
   "metadata": {
    "slideshow": {
     "slide_type": "skip"
    }
   },
   "outputs": [],
   "source": [
    "from sklearn.tree import export_graphviz\n",
    "import graphviz\n",
    "\n",
    "\n",
    "def show_tree(in_tree):\n",
    "    return graphviz.Source(export_graphviz(in_tree, out_file=None))"
   ]
  },
  {
   "cell_type": "code",
   "execution_count": null,
   "metadata": {
    "format": "column",
    "slideshow": {
     "slide_type": "subslide"
    }
   },
   "outputs": [],
   "source": [
    "from sklearn.tree import DecisionTreeClassifier\n",
    "import numpy as np\n",
    "d_tree = DecisionTreeClassifier()\n",
    "d_tree.fit(X=np.reshape([0, 1, 2, 3], (-1, 1)),\n",
    "           y=[0, 1, 0, 1])"
   ]
  },
  {
   "cell_type": "code",
   "execution_count": null,
   "metadata": {
    "slideshow": {
     "slide_type": "subslide"
    }
   },
   "outputs": [],
   "source": [
    "show_tree(d_tree)"
   ]
  },
  {
   "cell_type": "code",
   "execution_count": null,
   "metadata": {
    "format": "column",
    "slideshow": {
     "slide_type": "subslide"
    }
   },
   "outputs": [],
   "source": [
    "import pandas as pd\n",
    "import numpy as np\n",
    "import matplotlib.pyplot as plt\n",
    "from sklearn.datasets import make_blobs\n",
    "%matplotlib inline\n",
    "\n",
    "blob_data, blob_labels = make_blobs(n_samples=100,\n",
    "                                    random_state=2018)\n",
    "test_pts = pd.DataFrame(blob_data, columns=['x', 'y'])\n",
    "test_pts['group_id'] = blob_labels\n",
    "plt.figure(figsize=[15,4])\n",
    "plt.subplot(1,2,1)\n",
    "\n",
    "cell_text = []\n",
    "for row in range(5):\n",
    "    cell_text.append(test_pts.sample(5).iloc[row])\n",
    "\n",
    "plt.table(cellText=cell_text, colLabels=test_pts.columns, loc='center')\n",
    "plt.axis('off')\n",
    "\n",
    "plt.subplot(1,2,2)\n",
    "plt.scatter(test_pts.x, test_pts.y, c=test_pts.group_id, cmap='viridis')\n"
   ]
  },
  {
   "cell_type": "code",
   "execution_count": null,
   "metadata": {
    "format": "tab",
    "slideshow": {
     "slide_type": "subslide"
    }
   },
   "outputs": [],
   "source": [
    "d_tree = DecisionTreeClassifier()\n",
    "d_tree.fit(test_pts[['x', 'y']],\n",
    "           test_pts['group_id'])\n",
    "show_tree(d_tree)"
   ]
  },
  {
   "cell_type": "code",
   "execution_count": null,
   "metadata": {
    "format": "tab",
    "slideshow": {
     "slide_type": "subslide"
    }
   },
   "outputs": [],
   "source": [
    "xx, yy = np.meshgrid(np.linspace(test_pts.x.min(), test_pts.x.max(), 20),\n",
    "                     np.linspace(test_pts.y.min(), test_pts.y.max(), 20),\n",
    "                     indexing='ij'\n",
    "                     )\n",
    "grid_pts = pd.DataFrame(dict(x=xx.ravel(), y=yy.ravel()))\n",
    "grid_pts['predicted_id'] = d_tree.predict(grid_pts[['x', 'y']])\n",
    "\n",
    "fig, (ax1, ax2) = plt.subplots(1, 2, figsize=(12, 4))\n",
    "ax1.scatter(test_pts.x, test_pts.y, c=test_pts.group_id, cmap='viridis')\n",
    "ax1.set_title('Training Data')\n",
    "ax2.scatter(grid_pts.x, grid_pts.y, c=grid_pts.predicted_id, cmap='viridis')\n",
    "ax2.set_title('Testing Points')"
   ]
  },
  {
   "cell_type": "markdown",
   "metadata": {
    "slideshow": {
     "slide_type": "slide"
    }
   },
   "source": [
    "## Forests\n",
    "Forests are basically the idea of taking a number of trees and bringing them together. So rather than taking a single tree to do the classification, you divide the samples and the features to make different trees and then combine the results. One of the more successful approaches is called [Random Forests](https://en.wikipedia.org/wiki/Random_forest) or as a [video](https://www.youtube.com/watch?v=loNcrMjYh64)"
   ]
  },
  {
   "cell_type": "code",
   "execution_count": null,
   "metadata": {
    "format": "column",
    "slideshow": {
     "slide_type": "subslide"
    }
   },
   "outputs": [],
   "source": [
    "import pandas as pd\n",
    "import numpy as np\n",
    "import matplotlib.pyplot as plt\n",
    "from sklearn.datasets import make_blobs\n",
    "%matplotlib inline\n",
    "\n",
    "blob_data, blob_labels = make_blobs(n_samples=1000,\n",
    "                                    cluster_std=3,\n",
    "                                    random_state=2018)\n",
    "test_pts = pd.DataFrame(blob_data, columns=['x', 'y'])\n",
    "test_pts['group_id'] = blob_labels\n",
    "plt.scatter(test_pts.x, test_pts.y, c=test_pts.group_id, cmap='viridis')"
   ]
  },
  {
   "cell_type": "code",
   "execution_count": null,
   "metadata": {
    "format": "column",
    "slideshow": {
     "slide_type": "subslide"
    }
   },
   "outputs": [],
   "source": [
    "from sklearn.ensemble import RandomForestClassifier\n",
    "rf_class = RandomForestClassifier(n_estimators=5, random_state=2018)\n",
    "rf_class.fit(test_pts[['x', 'y']],\n",
    "             test_pts['group_id'])\n",
    "print('Build ', len(rf_class.estimators_), 'decision trees')"
   ]
  },
  {
   "cell_type": "code",
   "execution_count": null,
   "metadata": {
    "format": "tab",
    "slideshow": {
     "slide_type": "subslide"
    }
   },
   "outputs": [],
   "source": [
    "show_tree(rf_class.estimators_[0])"
   ]
  },
  {
   "cell_type": "code",
   "execution_count": null,
   "metadata": {
    "format": "tab",
    "slideshow": {
     "slide_type": "subslide"
    }
   },
   "outputs": [],
   "source": [
    "show_tree(rf_class.estimators_[1])"
   ]
  },
  {
   "cell_type": "code",
   "execution_count": null,
   "metadata": {
    "format": "tab",
    "scrolled": false,
    "slideshow": {
     "slide_type": "subslide"
    }
   },
   "outputs": [],
   "source": [
    "xx, yy = np.meshgrid(np.linspace(test_pts.x.min(), test_pts.x.max(), 20),\n",
    "                     np.linspace(test_pts.y.min(), test_pts.y.max(), 20),\n",
    "                     indexing='ij'\n",
    "                     )\n",
    "grid_pts = pd.DataFrame(dict(x=xx.ravel(), y=yy.ravel()))\n",
    "\n",
    "fig, (ax1, ax2, ax3, ax4) = plt.subplots(1, 4, figsize=(14, 3), dpi=150)\n",
    "ax1.scatter(test_pts.x, test_pts.y, c=test_pts.group_id, cmap='viridis')\n",
    "ax1.set_title('Training Data')\n",
    "ax2.scatter(grid_pts.x, grid_pts.y, c=rf_class.predict(\n",
    "    grid_pts[['x', 'y']]), cmap='viridis')\n",
    "ax2.set_title('Random Forest Classifier')\n",
    "\n",
    "ax3.scatter(grid_pts.x, grid_pts.y, c=rf_class.estimators_[\n",
    "            0].predict(grid_pts[['x', 'y']]), cmap='viridis')\n",
    "ax3.set_title('First Decision Tree')\n",
    "\n",
    "ax4.scatter(grid_pts.x, grid_pts.y, c=rf_class.estimators_[\n",
    "            1].predict(grid_pts[['x', 'y']]), cmap='viridis')\n",
    "ax4.set_title('Second Decision Tree')"
   ]
  },
  {
   "cell_type": "markdown",
   "metadata": {
    "slideshow": {
     "slide_type": "slide"
    }
   },
   "source": [
    "# Pipelines\n",
    "\n",
    "We will use the idea of pipelines generically here to refer to the combination of steps that need to be performed to solve a problem. "
   ]
  },
  {
   "cell_type": "code",
   "execution_count": null,
   "metadata": {
    "slideshow": {
     "slide_type": "skip"
    }
   },
   "outputs": [],
   "source": [
    "%%file pipe_utils.py\n",
    "from sklearn.preprocessing import FunctionTransformer\n",
    "import numpy as np\n",
    "from skimage.filters import laplace, gaussian, median\n",
    "from skimage.util import montage as montage2d\n",
    "import matplotlib.pyplot as plt\n",
    "\n",
    "\n",
    "\n",
    "def display_data(in_ax, raw_data, show_hist):\n",
    "    if (raw_data.shape[0] == 1) and (len(raw_data.shape) == 4):\n",
    "        # reformat channels first\n",
    "        in_data = raw_data[0].swapaxes(0, 2).swapaxes(1, 2)\n",
    "    else:\n",
    "        in_data = np.squeeze(raw_data)\n",
    "    if len(in_data.shape) == 1:\n",
    "        if show_hist:\n",
    "            in_ax.hist(in_data)\n",
    "        else:\n",
    "            in_ax.plot(in_data, 'r.')\n",
    "    elif len(in_data.shape) == 2:\n",
    "        if show_hist:\n",
    "            for i in range(in_data.shape[1]):\n",
    "                in_ax.hist(in_data[:, i], label='Dim:{}'.format(i), alpha=0.5)\n",
    "            in_ax.legend()\n",
    "        else:\n",
    "            if in_data.shape[1] == 2:\n",
    "                in_ax.plot(in_data[:, 0], in_data[:, 1], 'r.')\n",
    "            else:\n",
    "                in_ax.plot(in_data, '.')\n",
    "    elif len(in_data.shape) == 3:\n",
    "        if show_hist:\n",
    "            in_ax.hist(in_data.ravel())\n",
    "        else:\n",
    "            n_stack = np.stack([(x-x.mean())/x.std() for x in in_data], 0)\n",
    "            in_ax.imshow(montage2d(n_stack))\n",
    "\n",
    "\n",
    "def show_pipe(pipe, in_data, show_hist=False):\n",
    "    m_rows = np.ceil((len(pipe.steps)+1)/3).astype(int)\n",
    "    fig, t_axs = plt.subplots(m_rows, 3, figsize=(12, 5*m_rows))\n",
    "    m_axs = t_axs.flatten()\n",
    "    [c_ax.axis('off') for c_ax in m_axs]\n",
    "    last_data = in_data\n",
    "    for i, (c_ax, (step_name, step_op)) in enumerate(zip(m_axs, [('Input Data', None)]+pipe.steps), 1):\n",
    "        if step_op is not None:\n",
    "            try:\n",
    "                last_data = step_op.transform(last_data)\n",
    "            except AttributeError:\n",
    "                try:\n",
    "                    last_data = step_op.predict_proba(last_data)\n",
    "                except AttributeError:\n",
    "                    last_data = step_op.predict(last_data)\n",
    "\n",
    "        display_data(c_ax, last_data, show_hist)\n",
    "        c_ax.set_title('Step {} {}\\n{}'.format(i, last_data.shape, step_name))\n",
    "        c_ax.axis('on')\n",
    "\n",
    "\n",
    "def flatten_func(x): return np.reshape(x, (np.shape(x)[0], -1))\n",
    "\n",
    "\n",
    "flatten_step = FunctionTransformer(flatten_func, validate=False)\n",
    "\n",
    "\n",
    "def px_flatten_func(in_x):\n",
    "    if len(in_x.shape) == 2:\n",
    "        x = np.expand_dims(in_x, -1)\n",
    "    elif len(in_x.shape) == 3:\n",
    "        x = in_x\n",
    "    elif len(in_x.shape) == 4:\n",
    "        x = in_x\n",
    "    else:\n",
    "        raise ValueError(\n",
    "            'Cannot work with images with dimensions {}'.format(in_x.shape))\n",
    "    return np.reshape(x, (-1, np.shape(x)[-1]))\n",
    "\n",
    "\n",
    "px_flatten_step = FunctionTransformer(px_flatten_func, validate=False)\n",
    "\n",
    "\n",
    "def add_filters(in_x, filt_func=[lambda x: gaussian(x, sigma=2),\n",
    "                                 lambda x: gaussian(\n",
    "                                     x, sigma=5)-gaussian(x, sigma=2),\n",
    "                                 lambda x: gaussian(x, sigma=8)-gaussian(x, sigma=5)]):\n",
    "    if len(in_x.shape) == 2:\n",
    "        x = np.expand_dims(np.expand_dims(in_x, 0), -1)\n",
    "    elif len(in_x.shape) == 3:\n",
    "        x = np.expand_dims(in_x, -1)\n",
    "    elif len(in_x.shape) == 4:\n",
    "        x = in_x\n",
    "    else:\n",
    "        raise ValueError(\n",
    "            'Cannot work with images with dimensions {}'.format(in_x.shape))\n",
    "    n_img, x_dim, y_dim, c_dim = x.shape\n",
    "    out_imgs = [x]\n",
    "    for c_filt in filt_func:\n",
    "        out_imgs += [np.stack([np.stack([c_filt(x[i, :, :, j])\n",
    "                                         for i in range(n_img)], 0)\n",
    "                               for j in range(c_dim)], -1)]\n",
    "\n",
    "    return np.concatenate(out_imgs, -1)\n",
    "\n",
    "\n",
    "filter_step = FunctionTransformer(add_filters, validate=False)\n",
    "\n",
    "\n",
    "def add_xy_coord(in_x, polar=False):\n",
    "    if len(in_x.shape) == 2:\n",
    "        x = np.expand_dims(np.expand_dims(in_x, 0), -1)\n",
    "    elif len(in_x.shape) == 3:\n",
    "        x = np.expand_dims(in_x, -1)\n",
    "    elif len(in_x.shape) == 4:\n",
    "        x = in_x\n",
    "    else:\n",
    "        raise ValueError(\n",
    "            'Cannot work with images with dimensions {}'.format(in_x.shape))\n",
    "    n_img, x_dim, y_dim, c_dim = x.shape\n",
    "\n",
    "    _, xx, yy, _ = np.meshgrid(np.arange(n_img),\n",
    "                               np.arange(x_dim),\n",
    "                               np.arange(y_dim),\n",
    "                               [1],\n",
    "                               indexing='ij')\n",
    "    if polar:\n",
    "        rr = np.sqrt(np.square(xx-xx.mean())+np.square(yy-yy.mean()))\n",
    "        th = np.arctan2(yy-yy.mean(), xx-xx.mean())\n",
    "        return np.concatenate([x, rr, th], -1)\n",
    "    else:\n",
    "        return np.concatenate([x, xx, yy], -1)\n",
    "\n",
    "\n",
    "xy_step = FunctionTransformer(add_xy_coord, validate=False)\n",
    "polar_step = FunctionTransformer(\n",
    "    lambda x: add_xy_coord(x, polar=True), validate=False)\n",
    "\n",
    "\n",
    "def fit_img_pipe(in_pipe, in_x, in_y):\n",
    "    in_pipe.fit(in_x,\n",
    "                px_flatten_func(in_y)[:, 0])\n",
    "\n",
    "    def predict_func(new_x):\n",
    "        x_dim, y_dim = new_x.shape[0:2]\n",
    "        return in_pipe.predict(new_x).reshape((x_dim, y_dim, -1))\n",
    "    return predict_func"
   ]
  },
  {
   "cell_type": "code",
   "execution_count": null,
   "metadata": {
    "format": "column",
    "slideshow": {
     "slide_type": "subslide"
    }
   },
   "outputs": [],
   "source": [
    "import pandas as pd\n",
    "import numpy as np\n",
    "import matplotlib.pyplot as plt\n",
    "from sklearn.datasets import make_blobs\n",
    "%matplotlib inline\n",
    "\n",
    "\n",
    "blob_data, blob_labels = make_blobs(n_samples=100,\n",
    "                                    random_state=2018)\n",
    "test_pts = pd.DataFrame(blob_data, columns=['x', 'y'])\n",
    "test_pts['group_id'] = blob_labels\n",
    "\n",
    "fig, (ax1, ax2) = plt.subplots(1, 2, figsize=(15, 4))\n",
    "cell_text = []\n",
    "for row in range(5):\n",
    "    cell_text.append(test_pts.sample(5).iloc[row])\n",
    "\n",
    "ax1.table(cellText=cell_text, colLabels=test_pts.columns, loc='center')\n",
    "ax1.axis('off')\n",
    "\n",
    "ax2.scatter(test_pts.x, test_pts.y, c=test_pts.group_id, cmap='viridis')"
   ]
  },
  {
   "cell_type": "code",
   "execution_count": null,
   "metadata": {
    "format": "tab",
    "slideshow": {
     "slide_type": "subslide"
    }
   },
   "outputs": [],
   "source": [
    "from pipe_utils import show_pipe\n",
    "from sklearn.pipeline import Pipeline\n",
    "from sklearn.preprocessing import RobustScaler\n",
    "simple_pipe = Pipeline([('Normalize', RobustScaler())])\n",
    "simple_pipe.fit(test_pts)\n",
    "\n",
    "show_pipe(simple_pipe, test_pts.values)\n",
    "show_pipe(simple_pipe, test_pts.values, show_hist=True)"
   ]
  },
  {
   "cell_type": "code",
   "execution_count": null,
   "metadata": {
    "format": "tab",
    "slideshow": {
     "slide_type": "subslide"
    }
   },
   "outputs": [],
   "source": [
    "from sklearn.preprocessing import QuantileTransformer\n",
    "longer_pipe = Pipeline([('Quantile', QuantileTransformer(2)),\n",
    "                        ('Normalize', RobustScaler())\n",
    "                        ])\n",
    "longer_pipe.fit(test_pts)\n",
    "\n",
    "show_pipe(longer_pipe, test_pts.values)\n",
    "show_pipe(longer_pipe, test_pts.values, show_hist=True)"
   ]
  },
  {
   "cell_type": "code",
   "execution_count": null,
   "metadata": {
    "format": "tab",
    "slideshow": {
     "slide_type": "subslide"
    }
   },
   "outputs": [],
   "source": [
    "from sklearn.preprocessing import PolynomialFeatures\n",
    "messy_pipe = Pipeline([\n",
    "    ('Normalize', RobustScaler()),\n",
    "    ('PolynomialFeatures', PolynomialFeatures(2)),\n",
    "])\n",
    "messy_pipe.fit(test_pts)\n",
    "\n",
    "show_pipe(messy_pipe, test_pts.values)\n",
    "show_pipe(messy_pipe, test_pts.values, show_hist=True)"
   ]
  },
  {
   "cell_type": "markdown",
   "metadata": {
    "slideshow": {
     "slide_type": "slide"
    }
   },
   "source": [
    "# Classification\n",
    "\n",
    "A common problem of putting images into categories. \n",
    "- The standard problem for this is classifying digits between 0 and 9 (MNIST).\n",
    "- Fundamentally a classification problem is one where we are taking a large input (images, vectors, ...) and trying to put it into a category. \n",
    "    - Cats, Dogs\n",
    "    - Cars, boats\n",
    "    - etc.\n",
    "    \n",
    "\n"
   ]
  },
  {
   "cell_type": "markdown",
   "metadata": {
    "slideshow": {
     "slide_type": "slide"
    }
   },
   "source": [
    "# Lets load some images\n",
    "- Numbers 0 to 9\n",
    "- 8 $\\times$ 8 pixels\n",
    "- 50 Samples"
   ]
  },
  {
   "cell_type": "code",
   "execution_count": null,
   "metadata": {
    "format": "column",
    "slideshow": {
     "slide_type": "-"
    }
   },
   "outputs": [],
   "source": [
    "from sklearn.datasets import load_digits\n",
    "import pandas as pd\n",
    "import numpy as np\n",
    "import matplotlib.pyplot as plt\n",
    "from sklearn.datasets import make_blobs \n",
    "from pipe_utils import show_pipe\n",
    "%matplotlib inline\n",
    "digit_ds = load_digits(return_X_y=False)\n",
    "img_data = digit_ds.images[:50]\n",
    "digit_id = digit_ds.target[:50]\n",
    "print('Image Data', img_data.shape)"
   ]
  },
  {
   "cell_type": "markdown",
   "metadata": {
    "slideshow": {
     "slide_type": "subslide"
    }
   },
   "source": [
    "# Run a preprocessing pipline\n",
    "- Flatten images 8 $\\times$ 8 $\\rightarrow$ 1 $\\times$ 64\n",
    "- Normalize (robust scaling)"
   ]
  },
  {
   "cell_type": "code",
   "execution_count": null,
   "metadata": {
    "format": "tab",
    "slideshow": {
     "slide_type": "-"
    }
   },
   "outputs": [],
   "source": [
    "from pipe_utils import flatten_step\n",
    "from sklearn.pipeline import Pipeline\n",
    "from sklearn.preprocessing import RobustScaler\n",
    "digit_pipe = Pipeline([('Flatten', flatten_step),\n",
    "                       ('Normalize', RobustScaler())])\n",
    "digit_pipe.fit(img_data)\n",
    "\n",
    "show_pipe(digit_pipe, img_data)\n",
    "show_pipe(digit_pipe, img_data, show_hist=True)"
   ]
  },
  {
   "cell_type": "markdown",
   "metadata": {
    "slideshow": {
     "slide_type": "subslide"
    }
   },
   "source": [
    "# Add a classifier\n",
    "- Add a K Nearest Neighbours classifier to the pipeline (K=1)\n",
    "- Run the fit"
   ]
  },
  {
   "cell_type": "code",
   "execution_count": null,
   "metadata": {
    "format": "tab",
    "slideshow": {
     "slide_type": "-"
    }
   },
   "outputs": [],
   "source": [
    "from sklearn.neighbors import KNeighborsClassifier\n",
    "\n",
    "digit_class_pipe = Pipeline([('Flatten', flatten_step),\n",
    "                             ('Normalize', RobustScaler()),\n",
    "                             ('NearestNeighbor', KNeighborsClassifier(1))])\n",
    "digit_class_pipe.fit(img_data, digit_id)\n",
    "\n",
    "show_pipe(digit_class_pipe, img_data)"
   ]
  },
  {
   "cell_type": "markdown",
   "metadata": {
    "slideshow": {
     "slide_type": "subslide"
    }
   },
   "source": [
    "# Test classifier performance\n",
    "Let's test with traning data"
   ]
  },
  {
   "cell_type": "code",
   "execution_count": null,
   "metadata": {
    "slideshow": {
     "slide_type": "-"
    }
   },
   "outputs": [],
   "source": [
    "from sklearn.metrics import accuracy_score\n",
    "pred_digit = digit_class_pipe.predict(img_data)\n",
    "print('{0}% accuracy'.format(100*accuracy_score(digit_id, pred_digit)))"
   ]
  },
  {
   "cell_type": "markdown",
   "metadata": {
    "slideshow": {
     "slide_type": "subslide"
    }
   },
   "source": [
    "# How about the confusion matrix?"
   ]
  },
  {
   "cell_type": "code",
   "execution_count": null,
   "metadata": {
    "format": "tab",
    "slideshow": {
     "slide_type": "-"
    }
   },
   "outputs": [],
   "source": [
    "from sklearn.metrics import confusion_matrix\n",
    "import seaborn as sns\n",
    "fig, ax1 = plt.subplots(1, 1, figsize=(8, 8), dpi=100)\n",
    "sns.heatmap(\n",
    "    confusion_matrix(digit_id, pred_digit),\n",
    "    annot=True,\n",
    "    fmt='d',\n",
    "    ax=ax1)"
   ]
  },
  {
   "cell_type": "code",
   "execution_count": null,
   "metadata": {
    "format": "column",
    "slideshow": {
     "slide_type": "subslide"
    }
   },
   "outputs": [],
   "source": [
    "from sklearn.metrics import classification_report\n",
    "print(classification_report(digit_id, pred_digit))"
   ]
  },
  {
   "cell_type": "markdown",
   "metadata": {
    "slideshow": {
     "slide_type": "subslide"
    }
   },
   "source": [
    "# Wow! We've built an amazing algorithm!\n",
    "\n",
    "<img src=\"../common/figures/nailedit.png\" style=\"height:300px\">\n",
    "\n",
    "## Let's patent it! Call Google!"
   ]
  },
  {
   "cell_type": "markdown",
   "metadata": {
    "slideshow": {
     "slide_type": "slide"
    }
   },
   "source": [
    "# Let's try again\n",
    "Using new, unseen data"
   ]
  },
  {
   "cell_type": "code",
   "execution_count": null,
   "metadata": {
    "format": "column",
    "slideshow": {
     "slide_type": "-"
    }
   },
   "outputs": [],
   "source": [
    "test_digit = np.array([[[0.,  0.,  6., 12., 13.,  6.,  0.,  0.],\n",
    "                        [0.,  6., 16.,  9., 12., 16.,  2.,  0.],\n",
    "                        [0.,  7., 16.,  9., 15., 13.,  0.,  0.],\n",
    "                        [0.,  0., 11., 15., 16.,  4.,  0.,  0.],\n",
    "                        [0.,  0.,  0., 12., 10.,  0.,  0.,  0.],\n",
    "                        [0.,  0.,  3., 16.,  4.,  0.,  0.,  0.],\n",
    "                        [0.,  0.,  1., 16.,  2.,  0.,  0.,  0.],\n",
    "                        [0.,  0.,  6., 11.,  0.,  0.,  0.,  0.]]])\n",
    "plt.matshow(test_digit[0], cmap='bone')\n",
    "print('Prediction:', digit_class_pipe.predict(test_digit))\n",
    "print('Real Value:', 9)"
   ]
  },
  {
   "attachments": {
    "image.png": {
     "image/png": "[encoded data removed]"
    }
   },
   "cell_type": "markdown",
   "metadata": {
    "slideshow": {
     "slide_type": "slide"
    }
   },
   "source": [
    "# Training, Validation, and Testing\n",
    "\n",
    "## Avoid the training crime in ML\n",
    "<table>\n",
    "    <tr><td><img src=\"../common/figures/jail.png\" style=\"height:300px\"></td>\n",
    "<td>\n",
    "        \n",
    "![image.png](attachment:image.png)\n",
    "        \n",
    " </td></tr></table>\n",
    "\n",
    "https://www.kdnuggets.com/2017/08/dataiku-predictive-model-holdout-cross-validation.html"
   ]
  },
  {
   "cell_type": "markdown",
   "metadata": {
    "slideshow": {
     "slide_type": "slide"
    }
   },
   "source": [
    "# Regression\n",
    "For regression, we can see \n",
    "- it is very similarly to a classification \n",
    "    - Predicts the category\n",
    "    \n",
    "- instead of trying to output discrete classes we can output on a continuous scale. \n",
    "    - Predicts the __actual decimal number__.\n",
    "\n"
   ]
  },
  {
   "cell_type": "code",
   "execution_count": null,
   "metadata": {
    "slideshow": {
     "slide_type": "subslide"
    }
   },
   "outputs": [],
   "source": [
    "from sklearn.datasets import load_digits\n",
    "import pandas as pd\n",
    "import numpy as np\n",
    "import matplotlib.pyplot as plt\n",
    "from sklearn.datasets import make_blobs\n",
    "from pipe_utils import show_pipe, flatten_step\n",
    "%matplotlib inline\n",
    "digit_ds = load_digits(return_X_y=False)\n",
    "\n",
    "img_data = digit_ds.images[:50]\n",
    "digit_id = digit_ds.target[:50]\n",
    "\n",
    "valid_data = digit_ds.images[50:500]\n",
    "valid_id = digit_ds.target[50:500]"
   ]
  },
  {
   "cell_type": "code",
   "execution_count": null,
   "metadata": {
    "format": "tab",
    "slideshow": {
     "slide_type": "subslide"
    }
   },
   "outputs": [],
   "source": [
    "from sklearn.neighbors import KNeighborsRegressor\n",
    "\n",
    "digit_regress_pipe = Pipeline([('Flatten', flatten_step),\n",
    "                               ('Normalize', RobustScaler()),\n",
    "                               ('NearestNeighbor', KNeighborsRegressor(1))])\n",
    "digit_regress_pipe.fit(img_data, digit_id)\n",
    "\n",
    "show_pipe(digit_regress_pipe, img_data)"
   ]
  },
  {
   "cell_type": "markdown",
   "metadata": {
    "slideshow": {
     "slide_type": "subslide"
    }
   },
   "source": [
    "# Assessment\n",
    "We can't use accuracy, ROC, precision, recall or any of these factors anymore since we don't have binary / true-or-false conditions we are trying to predict. We know have to go back to some of the initial metrics we covered in the first lectures.\n",
    "\n",
    "$$ MSE = \\frac{1}{N}\\sum \\left(y_{predicted} - y_{actual}\\right)^2 $$\n",
    "$$ MAE = \\frac{1}{N}\\sum |y_{predicted} - y_{actual}| $$"
   ]
  },
  {
   "cell_type": "code",
   "execution_count": null,
   "metadata": {
    "format": "tab",
    "scrolled": false,
    "slideshow": {
     "slide_type": "subslide"
    }
   },
   "outputs": [],
   "source": [
    "import seaborn as sns\n",
    "fig, (ax1, ax2) = plt.subplots(1, 2, figsize=(12, 6), dpi=100)\n",
    "pred_train = digit_regress_pipe.predict(img_data)\n",
    "jitter = lambda x: x+0.25*np.random.uniform(-1, 1, size=x.shape)\n",
    "sns.swarmplot(digit_id, jitter(pred_train), ax=ax1)\n",
    "ax1.set_title('Predictions (Training)\\nMSE: %2.2f MAE: %2.2f' % (np.mean(np.square(pred_train-digit_id)),\n",
    "                                                                 np.mean(np.abs(pred_train-digit_id))))\n",
    "\n",
    "pred_valid = digit_regress_pipe.predict(valid_data)\n",
    "sns.swarmplot(valid_id, jitter(pred_valid), ax=ax2)\n",
    "ax2.set_title('Predictions (Validation)\\nMSE: %2.2f MAE: %2.2f' % (np.mean(np.square(pred_valid-valid_id)),\n",
    "                                                                   np.mean(np.abs(pred_valid-valid_id))))"
   ]
  },
  {
   "cell_type": "markdown",
   "metadata": {
    "slideshow": {
     "slide_type": "subslide"
    }
   },
   "source": [
    "## Increasing neighbor count"
   ]
  },
  {
   "cell_type": "code",
   "execution_count": null,
   "metadata": {
    "slideshow": {
     "slide_type": "fragment"
    }
   },
   "outputs": [],
   "source": [
    "digit_regress_pipe = Pipeline([('Flatten', flatten_step),\n",
    "                               ('Normalize', RobustScaler()),\n",
    "                               ('NearestNeighbor', KNeighborsRegressor(2))])\n",
    "digit_regress_pipe.fit(img_data, digit_id)\n",
    "\n",
    "show_pipe(digit_regress_pipe, img_data)"
   ]
  },
  {
   "cell_type": "code",
   "execution_count": null,
   "metadata": {
    "slideshow": {
     "slide_type": "fragment"
    }
   },
   "outputs": [],
   "source": [
    "import seaborn as sns\n",
    "fig, (ax1, ax2) = plt.subplots(1, 2, figsize=(12, 6), dpi=200)\n",
    "pred_train = digit_regress_pipe.predict(img_data)\n",
    "\n",
    "sns.swarmplot(digit_id, jitter(pred_train), ax=ax1)\n",
    "ax1.set_title('Predictions (Training)\\nMSE: %2.2f MAE: %2.2f' % (np.mean(np.square(pred_train-digit_id)),\n",
    "                                                                 np.mean(np.abs(pred_train-digit_id))))\n",
    "\n",
    "pred_valid = digit_regress_pipe.predict(valid_data)\n",
    "sns.swarmplot(valid_id, jitter(pred_valid), ax=ax2)\n",
    "ax2.set_title('Predictions (Validation)\\nMSE: %2.2f MAE: %2.2f' % (np.mean(np.square(pred_valid-valid_id)),\n",
    "                                                                   np.mean(np.abs(pred_valid-valid_id))));"
   ]
  },
  {
   "cell_type": "markdown",
   "metadata": {
    "slideshow": {
     "slide_type": "slide"
    }
   },
   "source": [
    "# Segmentation (Pixel Classification)\n",
    "\n",
    "### Previously\n",
    "Predict something based on the information in the image\n",
    "- Single class (classification)\n",
    "- Values (regression)\n",
    "\n",
    "### Segmentation\n",
    "Now we want to change problem:\n",
    "- instead of assigning a single class for each image, \n",
    "- we want a class or value for each pixel. \n",
    "\n",
    "This requires that we restructure the problem."
   ]
  },
  {
   "cell_type": "markdown",
   "metadata": {
    "slideshow": {
     "slide_type": "slide"
    }
   },
   "source": [
    "# Where segmentation fails: Mitochondria Segmentation in EM\n",
    "\n",
    "<img src=\"../common/data/em_image.png\" style=\"height:400px\" />\n",
    "\n",
    "- The mitocondria are visible and humans easily spot them\n",
    "- Other structures have same gray levels\n",
    "- SNR is not ideal\n",
    "\n",
    "*** \n",
    "\n",
    "- A simple threshold is insufficient to finding the mitocondria structures\n",
    "- Other filtering techniques are unlikely to magicially fix this problem\n"
   ]
  },
  {
   "cell_type": "markdown",
   "metadata": {
    "slideshow": {
     "slide_type": "subslide"
    }
   },
   "source": [
    "# Let's try some methods to segment the mitochondria image\n",
    "\n",
    "### Decision trees\n",
    "- DecisionTreeRegressor\n",
    "- DecisionTreeRegressor with position\n",
    "\n",
    "### Random forests\n",
    "* Random forest + KMeans\n",
    "* Random forest + polynomials\n",
    "* Random forest + Filters \n",
    "\n",
    "### Linear regression\n",
    "* Neighborhood\n",
    "\n",
    "### Nearest neighbor\n",
    "* KNeighborsRegressor\n",
    "\n",
    "### U-Net"
   ]
  },
  {
   "cell_type": "markdown",
   "metadata": {
    "slideshow": {
     "slide_type": "subslide"
    }
   },
   "source": [
    "# Loading the mitchondria image and mask\n",
    "First we need image data for:\n",
    "- Training\n",
    "- Validation"
   ]
  },
  {
   "cell_type": "code",
   "execution_count": null,
   "metadata": {
    "format": "column",
    "slideshow": {
     "slide_type": "-"
    }
   },
   "outputs": [],
   "source": [
    "import pandas as pd\n",
    "import numpy as np\n",
    "import matplotlib.pyplot as plt\n",
    "from skimage.io import imread\n",
    "%matplotlib inline\n",
    "cell_img = (imread(\"../common/data/em_image.png\")[::2, ::2])/255.0\n",
    "cell_seg = imread(\"../common/data/em_image_seg.png\",\n",
    "                  as_gray=True)[::2, ::2] > 0\n",
    "np.random.seed(2018)\n",
    "fig, (ax1, ax2) = plt.subplots(1, 2, figsize=(12, 8), dpi=72)\n",
    "ax1.imshow(cell_img, cmap='bone'); ax1.set_title(\"EM image ({0}x{1})\".format(cell_img.shape[0],cell_img.shape[1]))\n",
    "ax2.imshow(cell_seg, cmap='bone'); ax2.set_title(\"Mask image ({0}x{1})\".format(cell_seg.shape[0],cell_seg.shape[1]));"
   ]
  },
  {
   "cell_type": "markdown",
   "metadata": {
    "slideshow": {
     "slide_type": "subslide"
    }
   },
   "source": [
    "# Training and validation data\n",
    "We only have one image available...\n",
    "\n",
    "__Solution:__ Split it into two parts!"
   ]
  },
  {
   "cell_type": "code",
   "execution_count": null,
   "metadata": {
    "format": "column",
    "scrolled": true,
    "slideshow": {
     "slide_type": "-"
    }
   },
   "outputs": [],
   "source": [
    "train_img, valid_img = cell_img[:, :256], cell_img[:, 256:]\n",
    "train_mask, valid_mask = cell_seg[:, :256], cell_seg[:, 256:]\n",
    "\n",
    "fig, ((ax1, ax2,ax3, ax4)) = plt.subplots(1, 4, figsize=(15, 5), dpi=100)\n",
    "ax1.imshow(train_img, cmap='bone');  ax1.set_title('Train Image ({0}x{1})'.format(train_img.shape[0],train_img.shape[1]))\n",
    "ax2.imshow(train_mask, cmap='bone'); ax2.set_title('Train Mask ({0}x{1})'.format(train_mask.shape[0],train_mask.shape[1]))\n",
    "\n",
    "ax3.imshow(valid_img,  cmap='bone'); ax3.set_title('Validation Image ({0}x{1})'.format(valid_img.shape[0],valid_img.shape[1]))\n",
    "ax4.imshow(valid_mask, cmap='bone'); ax4.set_title('Validation Mask ({0}x{1})'.format(valid_mask.shape[0],valid_mask.shape[1]))"
   ]
  },
  {
   "cell_type": "markdown",
   "metadata": {
    "slideshow": {
     "slide_type": "subslide"
    }
   },
   "source": [
    "# Try a Regression tree"
   ]
  },
  {
   "cell_type": "code",
   "execution_count": null,
   "metadata": {
    "format": "tab",
    "scrolled": false,
    "slideshow": {
     "slide_type": "-"
    }
   },
   "outputs": [],
   "source": [
    "from pipe_utils import px_flatten_step, show_pipe, fit_img_pipe\n",
    "from sklearn.pipeline import Pipeline\n",
    "from sklearn.preprocessing import RobustScaler\n",
    "from sklearn.cluster import KMeans\n",
    "from sklearn.ensemble import RandomForestRegressor\n",
    "from sklearn.tree import DecisionTreeRegressor\n",
    "\n",
    "rf_seg_model = Pipeline([('Pixel Flatten', px_flatten_step),\n",
    "                         ('Robust Scaling', RobustScaler()),\n",
    "                         ('Decision Tree', DecisionTreeRegressor())\n",
    "                         ])\n",
    "\n",
    "pred_func = fit_img_pipe(rf_seg_model, train_img, train_mask)\n",
    "show_pipe(rf_seg_model, train_img)\n",
    "show_tree(rf_seg_model.steps[-1][1])"
   ]
  },
  {
   "cell_type": "code",
   "execution_count": null,
   "metadata": {
    "format": "column",
    "slideshow": {
     "slide_type": "subslide"
    }
   },
   "outputs": [],
   "source": [
    "fig, ((ax1, ax5, ax2), (ax3, ax6, ax4)) = plt.subplots(\n",
    "    2, 3, figsize=(12, 8), dpi=72)\n",
    "ax1.imshow(train_img, cmap='bone')\n",
    "ax1.set_title('Train Image')\n",
    "\n",
    "ax5.imshow(train_mask, cmap='viridis')\n",
    "ax5.set_title('Train Mask')\n",
    "\n",
    "ax2.imshow(pred_func(train_img)[:, :, 0],\n",
    "           cmap='viridis', vmin=0, vmax=1)\n",
    "ax2.set_title('Prediction Mask')\n",
    "\n",
    "ax3.imshow(cell_img, cmap='bone')\n",
    "ax3.set_title('Full Image')\n",
    "\n",
    "ax6.imshow(cell_seg, cmap='viridis')\n",
    "ax6.set_title('Full Mask')\n",
    "\n",
    "ax4.imshow(pred_func(cell_img)[:, :, 0],\n",
    "           cmap='viridis', vmin=0, vmax=1)\n",
    "ax4.set_title('Prediction Mask')"
   ]
  },
  {
   "cell_type": "markdown",
   "metadata": {
    "slideshow": {
     "slide_type": "subslide"
    }
   },
   "source": [
    "# Regression tree with _position information_"
   ]
  },
  {
   "cell_type": "code",
   "execution_count": null,
   "metadata": {
    "format": "tab",
    "scrolled": false,
    "slideshow": {
     "slide_type": "subslide"
    }
   },
   "outputs": [],
   "source": [
    "from pipe_utils import xy_step\n",
    "\n",
    "rf_xyseg_model = Pipeline([('Add XY', xy_step),\n",
    "                           ('Pixel Flatten', px_flatten_step),\n",
    "                           ('Normalize', RobustScaler()),\n",
    "                           ('DecisionTree', DecisionTreeRegressor(\n",
    "                               min_samples_split=1000))\n",
    "                           ])\n",
    "\n",
    "pred_func = fit_img_pipe(rf_xyseg_model, train_img, train_mask)\n",
    "show_pipe(rf_xyseg_model, train_img)\n",
    "show_tree(rf_xyseg_model.steps[-1][1])"
   ]
  },
  {
   "cell_type": "markdown",
   "metadata": {
    "slideshow": {
     "slide_type": "subslide"
    }
   },
   "source": [
    "# Did we improve the segmentation performance?"
   ]
  },
  {
   "cell_type": "code",
   "execution_count": null,
   "metadata": {
    "format": "tab",
    "scrolled": true,
    "slideshow": {
     "slide_type": "-"
    }
   },
   "outputs": [],
   "source": [
    "fig, ((ax1, ax5, ax2), (ax3, ax6, ax4)) = plt.subplots(2, 3, figsize=(12, 8), dpi=72)\n",
    "ax1.imshow(train_img, cmap='bone');ax1.set_title('Train Image')\n",
    "ax5.imshow(train_mask, cmap='viridis'); ax5.set_title('Train Mask')\n",
    "ax2.imshow(pred_func(train_img)[:, :, 0], cmap='viridis', vmin=0, vmax=1); ax2.set_title('Prediction Mask')\n",
    "ax3.imshow(cell_img, cmap='bone'); ax3.set_title('Full Image')\n",
    "ax6.imshow(cell_seg, cmap='viridis'); ax6.set_title('Full Mask')\n",
    "ax4.imshow(pred_func(cell_img)[:, :, 0], cmap='viridis', vmin=0, vmax=1);ax4.set_title('Prediction Mask');"
   ]
  },
  {
   "cell_type": "markdown",
   "metadata": {
    "slideshow": {
     "slide_type": "subslide"
    }
   },
   "source": [
    "# Combine K-Means and Random Forest Regression "
   ]
  },
  {
   "cell_type": "code",
   "execution_count": null,
   "metadata": {
    "format": "tab",
    "slideshow": {
     "slide_type": "-"
    }
   },
   "outputs": [],
   "source": [
    "from sklearn.cluster import KMeans\n",
    "rf_xyseg_k_model = Pipeline([('Add XY', xy_step),\n",
    "                             ('Pixel Flatten', px_flatten_step),\n",
    "                             ('Normalize', RobustScaler()),\n",
    "                             ('KMeans', KMeans(4)),\n",
    "                             ('RandomForest', RandomForestRegressor(n_estimators=25))\n",
    "                             ])\n",
    "\n",
    "pred_func = fit_img_pipe(rf_xyseg_k_model, train_img, train_mask)\n",
    "show_pipe(rf_xyseg_k_model, train_img)"
   ]
  },
  {
   "cell_type": "code",
   "execution_count": null,
   "metadata": {
    "format": "tab",
    "scrolled": false,
    "slideshow": {
     "slide_type": "subslide"
    }
   },
   "outputs": [],
   "source": [
    "fig, ((ax1, ax5, ax2), (ax3, ax6, ax4)) = plt.subplots(\n",
    "    2, 3, figsize=(12, 8), dpi=72)\n",
    "ax1.imshow(train_img, cmap='bone'); ax1.set_title('Train Image')\n",
    "ax5.imshow(train_mask, cmap='viridis'); ax5.set_title('Train Mask')\n",
    "ax2.imshow(pred_func(train_img)[:, :, 0], cmap='viridis', vmin=0, vmax=1); ax2.set_title('Prediction Mask')\n",
    "ax3.imshow(cell_img, cmap='bone'); ax3.set_title('Full Image')\n",
    "ax6.imshow(cell_seg, cmap='viridis'); ax6.set_title('Full Mask')\n",
    "ax4.imshow(pred_func(cell_img)[:, :, 0], cmap='viridis', vmin=0, vmax=1); ax4.set_title('Prediction Mask');"
   ]
  },
  {
   "cell_type": "code",
   "execution_count": null,
   "metadata": {
    "format": "tab",
    "slideshow": {
     "slide_type": "subslide"
    }
   },
   "outputs": [],
   "source": [
    "from sklearn.preprocessing import PolynomialFeatures\n",
    "rf_xyseg_py_model = Pipeline([('Add XY', xy_step),\n",
    "                              ('Pixel Flatten', px_flatten_step),\n",
    "                              ('Normalize', RobustScaler()),\n",
    "                              ('Polynomial Features', PolynomialFeatures(2)),\n",
    "                              ('RandomForest', RandomForestRegressor(n_estimators=25))\n",
    "                              ])\n",
    "\n",
    "pred_func = fit_img_pipe(rf_xyseg_py_model, train_img, train_mask)\n",
    "show_pipe(rf_xyseg_py_model, train_img)"
   ]
  },
  {
   "cell_type": "code",
   "execution_count": null,
   "metadata": {
    "format": "tab",
    "slideshow": {
     "slide_type": "subslide"
    }
   },
   "outputs": [],
   "source": [
    "fig, ((ax1, ax5, ax2), (ax3, ax6, ax4)) = plt.subplots(\n",
    "    2, 3, figsize=(12, 8), dpi=72)\n",
    "ax1.imshow(train_img, cmap='bone')\n",
    "ax1.set_title('Train Image')\n",
    "\n",
    "ax5.imshow(train_mask, cmap='viridis')\n",
    "ax5.set_title('Train Mask')\n",
    "\n",
    "ax2.imshow(pred_func(train_img)[:, :, 0],\n",
    "           cmap='viridis', vmin=0, vmax=1)\n",
    "ax2.set_title('Prediction Mask')\n",
    "\n",
    "ax3.imshow(cell_img, cmap='bone')\n",
    "ax3.set_title('Full Image')\n",
    "\n",
    "ax6.imshow(cell_seg, cmap='viridis')\n",
    "ax6.set_title('Full Mask')\n",
    "\n",
    "ax4.imshow(pred_func(cell_img)[:, :, 0],\n",
    "           cmap='viridis', vmin=0, vmax=1)\n",
    "ax4.set_title('Prediction Mask')"
   ]
  },
  {
   "cell_type": "markdown",
   "metadata": {
    "slideshow": {
     "slide_type": "subslide"
    }
   },
   "source": [
    "# Adding Smarter Features\n",
    "Here we add images with filters based on Gaussians"
   ]
  },
  {
   "cell_type": "code",
   "execution_count": null,
   "metadata": {
    "slideshow": {
     "slide_type": "-"
    }
   },
   "outputs": [],
   "source": [
    "import scipy.stats as stats \n",
    "x=np.linspace(-25,25,200)\n",
    "fig,(ax1,ax2,ax3) = plt.subplots(1,3,figsize=[15,4])\n",
    "ax1.plot(x,stats.norm.pdf(x,0,2)); ax1.set_title(\"Gaussian $\\sigma$=2\");\n",
    "ax2.plot(x,stats.norm.pdf(x,0,5)-stats.norm.pdf(x,0,2)), ax2.set_title(\"Gaussian $\\sigma$=5 - Gaussian $\\sigma$=2\");\n",
    "ax3.plot(x,stats.norm.pdf(x,0,8)-stats.norm.pdf(x,0,5)), ax3.set_title(\"Gaussian $\\sigma$=8 - Gaussian $\\sigma$=5\");"
   ]
  },
  {
   "cell_type": "markdown",
   "metadata": {
    "slideshow": {
     "slide_type": "subslide"
    }
   },
   "source": [
    "## Pipeline with filters"
   ]
  },
  {
   "cell_type": "code",
   "execution_count": null,
   "metadata": {
    "format": "tab",
    "slideshow": {
     "slide_type": "-"
    }
   },
   "outputs": [],
   "source": [
    "from pipe_utils import filter_step\n",
    "rf_filterseg_model = Pipeline([('Filters', filter_step),\n",
    "                               ('Pixel Flatten', px_flatten_step),\n",
    "                               ('Normalize', RobustScaler()),\n",
    "                               ('RandomForest', RandomForestRegressor(n_estimators=25))\n",
    "                               ])\n",
    "\n",
    "pred_func = fit_img_pipe(rf_filterseg_model, train_img, train_mask)\n",
    "show_pipe(rf_filterseg_model, train_img)"
   ]
  },
  {
   "cell_type": "code",
   "execution_count": null,
   "metadata": {
    "format": "tab",
    "slideshow": {
     "slide_type": "subslide"
    }
   },
   "outputs": [],
   "source": [
    "fig, ((ax1, ax5, ax2), (ax3, ax6, ax4)) = plt.subplots(\n",
    "    2, 3, figsize=(12, 8), dpi=72)\n",
    "ax1.imshow(train_img, cmap='bone')\n",
    "ax1.set_title('Train Image')\n",
    "\n",
    "ax5.imshow(train_mask, cmap='viridis')\n",
    "ax5.set_title('Train Mask')\n",
    "\n",
    "ax2.imshow(pred_func(train_img)[:, :, 0],\n",
    "           cmap='viridis', vmin=0, vmax=1)\n",
    "ax2.set_title('Prediction Mask')\n",
    "\n",
    "ax3.imshow(cell_img, cmap='bone')\n",
    "ax3.set_title('Full Image')\n",
    "\n",
    "ax6.imshow(cell_seg, cmap='viridis')\n",
    "ax6.set_title('Full Mask')\n",
    "\n",
    "ax4.imshow(pred_func(cell_img)[:, :, 0],\n",
    "           cmap='viridis', vmin=0, vmax=1)\n",
    "ax4.set_title('Prediction Mask')"
   ]
  },
  {
   "cell_type": "markdown",
   "metadata": {
    "slideshow": {
     "slide_type": "slide"
    }
   },
   "source": [
    "## Using the Neighborhood\n",
    "We can also include the whole neighborhood \n",
    "- shifting the image in x and y by $\\pm$1 pixel. \n",
    "- Gives nine feature images\n",
    "\n",
    "For the first example we will then use __linear regression__ so we can see the exact coefficients that result."
   ]
  },
  {
   "cell_type": "code",
   "execution_count": null,
   "metadata": {
    "slideshow": {
     "slide_type": "subslide"
    }
   },
   "outputs": [],
   "source": [
    "from sklearn.preprocessing import FunctionTransformer\n",
    "\n",
    "\n",
    "def add_neighborhood(in_x, x_steps=3, y_steps=3):\n",
    "    if len(in_x.shape) == 2:\n",
    "        x = np.expand_dims(np.expand_dims(in_x, 0), -1)\n",
    "    elif len(in_x.shape) == 3:\n",
    "        x = np.expand_dims(in_x, -1)\n",
    "    elif len(in_x.shape) == 4:\n",
    "        x = in_x\n",
    "    else:\n",
    "        raise ValueError(\n",
    "            'Cannot work with images with dimensions {}'.format(in_x.shape))\n",
    "    n_img, x_dim, y_dim, c_dim = x.shape\n",
    "    out_imgs = []\n",
    "    for i in range(-x_steps, x_steps+1):\n",
    "        for j in range(-y_steps, y_steps+1):\n",
    "            out_imgs += [np.roll(np.roll(x,\n",
    "                                         axis=1, shift=i),\n",
    "                                 axis=2,\n",
    "                                 shift=j)]\n",
    "    return np.concatenate(out_imgs, -1)\n",
    "\n",
    "\n",
    "def neighbor_step(x_steps=3, y_steps=3):\n",
    "    return FunctionTransformer(\n",
    "        lambda x: add_neighborhood(x, x_steps, y_steps),\n",
    "        validate=False)"
   ]
  },
  {
   "cell_type": "code",
   "execution_count": null,
   "metadata": {
    "slideshow": {
     "slide_type": "subslide"
    }
   },
   "outputs": [],
   "source": [
    "from sklearn.linear_model import LinearRegression\n",
    "linreg_neighborseg_model = Pipeline([('Neighbors', neighbor_step(1, 1)),\n",
    "                               ('Pixel Flatten', px_flatten_step),\n",
    "                               ('Linear Regression', LinearRegression())\n",
    "                               ])\n",
    "\n",
    "pred_func = fit_img_pipe(linreg_neighborseg_model, train_img, train_mask)\n",
    "show_pipe(linreg_neighborseg_model, train_img)"
   ]
  },
  {
   "cell_type": "code",
   "execution_count": null,
   "metadata": {
    "slideshow": {
     "slide_type": "subslide"
    }
   },
   "outputs": [],
   "source": [
    "fig, ((ax1, ax5, ax2), (ax3, ax6, ax4)) = plt.subplots(\n",
    "    2, 3, figsize=(12, 8), dpi=72)\n",
    "ax1.imshow(train_img, cmap='bone')\n",
    "ax1.set_title('Train Image')\n",
    "\n",
    "ax5.imshow(train_mask, cmap='viridis')\n",
    "ax5.set_title('Train Mask')\n",
    "\n",
    "ax2.imshow(pred_func(train_img)[:, :, 0],\n",
    "           cmap='viridis', vmin=0, vmax=1)\n",
    "ax2.set_title('Prediction Mask')\n",
    "\n",
    "ax3.imshow(cell_img, cmap='bone')\n",
    "ax3.set_title('Full Image')\n",
    "\n",
    "ax6.imshow(cell_seg, cmap='viridis')\n",
    "ax6.set_title('Full Mask')\n",
    "\n",
    "ax4.imshow(pred_func(cell_img)[:, :, 0],\n",
    "           cmap='viridis', vmin=0, vmax=1)\n",
    "ax4.set_title('Prediction Mask')"
   ]
  },
  {
   "cell_type": "markdown",
   "metadata": {
    "slideshow": {
     "slide_type": "subslide"
    }
   },
   "source": [
    "## Why Linear Regression?\n",
    "We choose linear regression so we could get easily understood coefficients. \n",
    "\n",
    "The model fits $\\vec{m}$ and $b$ to the $\\vec{x}_{i,j}$ points in the image $I(i,j)$ to match the $y_{i,j}$ output in the segmentation as closely as possible\n",
    "$$ y_{i,j} = \\vec{m}\\cdot\\vec{x_{i,j}}+b $$\n",
    "For a 3x3 cases this looks like\n",
    "$$ \\vec{x}_{i,j} = \\left[I(i-1,j-1), I(i-1, j), I(i-1, j+1) \\dots I(i+1,j-1), I(i+1, j), I(i+1, j+1)\\right] $$"
   ]
  },
  {
   "cell_type": "code",
   "execution_count": null,
   "metadata": {
    "slideshow": {
     "slide_type": "-"
    }
   },
   "outputs": [],
   "source": [
    "m = linreg_neighborseg_model.steps[-1][1].coef_\n",
    "b = linreg_neighborseg_model.steps[-1][1].intercept_\n",
    "print('M: [{:0.4}, {:0.4}, {:0.4}, {:0.4}, \\033[1m{:0.4}\\033[0m, {:0.4}, {:0.4}, {:0.4}, {:0.4}]'.format(m[0],m[1],m[2],m[3],m[4],m[5],m[6],m[7],m[8]))\n",
    "print('b: {:0.4}'.format(b))"
   ]
  },
  {
   "cell_type": "markdown",
   "metadata": {
    "slideshow": {
     "slide_type": "subslide"
    }
   },
   "source": [
    "## Convolution\n",
    "The steps we have here make up a convolution and so what we have effectively done is use linear regression to learn which coefficients we should use in a convolutional kernel to get the best results"
   ]
  },
  {
   "cell_type": "code",
   "execution_count": null,
   "metadata": {
    "slideshow": {
     "slide_type": "subslide"
    }
   },
   "outputs": [],
   "source": [
    "from scipy.ndimage import convolve\n",
    "m_mat = m.reshape((3, 3)).T\n",
    "fig, (ax1, ax2, ax3, ax4) = plt.subplots(1, 4, figsize=(16, 4))\n",
    "sns.heatmap(m_mat,\n",
    "            annot=True,\n",
    "            ax=ax1, fmt='2.2f',\n",
    "            vmin=-m_mat.std(),\n",
    "            vmax=m_mat.std())\n",
    "ax1.set_title(r'Kernel $\\vec{m}$')\n",
    "ax2.imshow(cell_img)\n",
    "ax2.set_title('Input Image')\n",
    "ax2.axis('off')\n",
    "\n",
    "ax3.imshow(convolve(cell_img, m_mat)+b,\n",
    "           vmin=0,\n",
    "           vmax=1,\n",
    "           cmap='viridis')\n",
    "ax3.set_title('Post Convolution Image')\n",
    "ax3.axis('off')\n",
    "\n",
    "ax4.imshow(pred_func(cell_img)[:, :, 0],\n",
    "           cmap='viridis', vmin=0, vmax=1)\n",
    "ax4.set_title('Predicted from Linear Model')\n",
    "ax4.axis('off')"
   ]
  },
  {
   "cell_type": "markdown",
   "metadata": {
    "slideshow": {
     "slide_type": "subslide"
    }
   },
   "source": [
    "## Nearest Neighbor\n",
    "We can also use the neighborhood and nearest neighbor, this means for each pixel and its surrounds we find the pixel in the training set that looks most similar"
   ]
  },
  {
   "cell_type": "code",
   "execution_count": null,
   "metadata": {
    "slideshow": {
     "slide_type": "subslide"
    }
   },
   "outputs": [],
   "source": [
    "nn_neighborseg_model = Pipeline([('Neighbors', neighbor_step(1, 1)),\n",
    "                               ('Pixel Flatten', px_flatten_step),\n",
    "                               ('Normalize', RobustScaler()),\n",
    "                               ('NearestNeighbor', KNeighborsRegressor(n_neighbors=1))\n",
    "                               ])\n",
    "\n",
    "pred_func = fit_img_pipe(nn_neighborseg_model, train_img, train_mask)\n",
    "show_pipe(nn_neighborseg_model, train_img)"
   ]
  },
  {
   "cell_type": "code",
   "execution_count": null,
   "metadata": {
    "slideshow": {
     "slide_type": "subslide"
    }
   },
   "outputs": [],
   "source": [
    "fig, ((ax1, ax5, ax2), (ax3, ax6, ax4)) = plt.subplots(\n",
    "    2, 3, figsize=(12, 8), dpi=72)\n",
    "ax1.imshow(train_img, cmap='bone')\n",
    "ax1.set_title('Train Image')\n",
    "\n",
    "ax5.imshow(train_mask, cmap='viridis')\n",
    "ax5.set_title('Train Mask')\n",
    "\n",
    "ax2.imshow(pred_func(train_img)[:, :, 0],\n",
    "           cmap='viridis', vmin=0, vmax=1)\n",
    "ax2.set_title('Prediction Mask')\n",
    "\n",
    "ax3.imshow(cell_img, cmap='bone')\n",
    "ax3.set_title('Full Image')\n",
    "\n",
    "ax6.imshow(cell_seg, cmap='viridis')\n",
    "ax6.set_title('Full Mask')\n",
    "\n",
    "ax4.imshow(pred_func(cell_img)[:, :, 0],\n",
    "           cmap='viridis', vmin=0, vmax=1)\n",
    "ax4.set_title('Prediction Mask')"
   ]
  },
  {
   "cell_type": "markdown",
   "metadata": {
    "slideshow": {
     "slide_type": "slide"
    }
   },
   "source": [
    "# U-Net\n",
    "\n",
    "The last approach we will briefly cover is the idea of [U-Net](https://arxiv.org/abs/1505.04597) a landmark paper from 2015 that dominates MICCAI submissions and contest winners today. A nice overview of the techniques is presented by [Vladimir Iglovikov](https://youtu.be/g6oIQ5MXBE4) a winner of a recent Kaggle competition on masking images of cars [slides](http://slides.com/vladimiriglovikov/kaggle-deep-learning-to-create-a-model-for-binary-segmentation-of-car-images)\n",
    "\n",
    "![U-Net Diagram](https://lmb.informatik.uni-freiburg.de/people/ronneber/u-net/u-net-architecture.png)"
   ]
  },
  {
   "cell_type": "code",
   "execution_count": null,
   "metadata": {
    "scrolled": false,
    "slideshow": {
     "slide_type": "subslide"
    }
   },
   "outputs": [],
   "source": [
    "from keras.models import Model\n",
    "from keras.layers import Input, Conv2D, MaxPool2D, UpSampling2D, concatenate\n",
    "from IPython.display import SVG\n",
    "from keras.utils.vis_utils import model_to_dot\n",
    "base_depth = 32\n",
    "in_img = Input((None, None, 1), name='Image_Input')\n",
    "lay_1 = Conv2D(base_depth, kernel_size=(3, 3), padding='same')(in_img)\n",
    "lay_2 = Conv2D(base_depth, kernel_size=(3, 3), padding='same')(lay_1)\n",
    "lay_3 = MaxPool2D((2, 2))(lay_2)\n",
    "lay_4 = Conv2D(base_depth*2, kernel_size=(3, 3), padding='same')(lay_3)\n",
    "lay_5 = Conv2D(base_depth*2, kernel_size=(3, 3), padding='same')(lay_4)\n",
    "lay_6 = MaxPool2D((2, 2))(lay_5)\n",
    "lay_7 = Conv2D(base_depth*4, kernel_size=(3, 3), padding='same')(lay_6)\n",
    "lay_8 = Conv2D(base_depth*4, kernel_size=(3, 3), padding='same')(lay_7)\n",
    "lay_9 = UpSampling2D((2, 2))(lay_8)\n",
    "lay_10 = concatenate([lay_5, lay_9])\n",
    "lay_11 = Conv2D(base_depth*2, kernel_size=(3, 3), padding='same')(lay_10)\n",
    "lay_12 = Conv2D(base_depth*2, kernel_size=(3, 3), padding='same')(lay_11)\n",
    "lay_13 = UpSampling2D((2, 2))(lay_12)\n",
    "lay_14 = concatenate([lay_2, lay_13])\n",
    "lay_15 = Conv2D(base_depth, kernel_size=(3, 3), padding='same')(lay_14)\n",
    "lay_16 = Conv2D(base_depth, kernel_size=(3, 3), padding='same')(lay_15)\n",
    "lay_17 = Conv2D(1, kernel_size=(1, 1), padding='same',\n",
    "                activation='sigmoid')(lay_16)\n",
    "t_unet = Model(inputs=[in_img], outputs=[lay_17], name='SmallUNET')\n",
    "dot_mod = model_to_dot(t_unet, show_shapes=True, show_layer_names=False)\n",
    "dot_mod.set_rankdir('UD')\n",
    "SVG(dot_mod.create_svg())"
   ]
  },
  {
   "cell_type": "code",
   "execution_count": null,
   "metadata": {},
   "outputs": [],
   "source": [
    "dot_mod = model_to_dot(t_unet)\n",
    "dot_mod.set_rankdir('UD')\n",
    "SVG(dot_mod.create_svg())"
   ]
  },
  {
   "cell_type": "code",
   "execution_count": null,
   "metadata": {
    "format": "tab",
    "scrolled": true,
    "slideshow": {
     "slide_type": "subslide"
    }
   },
   "outputs": [],
   "source": [
    "t_unet.summary()"
   ]
  },
  {
   "cell_type": "markdown",
   "metadata": {
    "slideshow": {
     "slide_type": "subslide"
    }
   },
   "source": [
    "# New training data\n",
    "- Smaller training image (to save time)"
   ]
  },
  {
   "cell_type": "code",
   "execution_count": null,
   "metadata": {
    "format": "column",
    "slideshow": {
     "slide_type": "-"
    }
   },
   "outputs": [],
   "source": [
    "import pandas as pd\n",
    "import numpy as np\n",
    "import matplotlib.pyplot as plt\n",
    "from skimage.io import imread\n",
    "%matplotlib inline\n",
    "cell_img = (imread(\"../common/data/em_image.png\")[::2, ::2])/255.0\n",
    "cell_seg = imread(\"../common/data/em_image_seg.png\",\n",
    "                  as_gray=True)[::2, ::2] > 0\n",
    "train_img, valid_img = cell_img[:256, 50:250], cell_img[:, 256:]\n",
    "train_mask, valid_mask = cell_seg[:256, 50:250], cell_seg[:, 256:]\n",
    "# add channels and sample dimensions\n",
    "def prep_img(x, n=1): return (\n",
    "    prep_mask(x, n=n)-train_img.mean())/train_img.std()\n",
    "\n",
    "\n",
    "def prep_mask(x, n=1): return np.stack([np.expand_dims(x, -1)]*n, 0)\n",
    "\n",
    "\n",
    "print('Training', train_img.shape, train_mask.shape)\n",
    "print('Validation Data', valid_img.shape, valid_mask.shape)\n",
    "fig, ((ax1, ax2), (ax3, ax4)) = plt.subplots(2, 2, figsize=(8, 8), dpi=72)\n",
    "ax1.imshow(train_img, cmap='bone')\n",
    "ax1.set_title('Train Image')\n",
    "ax2.imshow(train_mask, cmap='bone')\n",
    "ax2.set_title('Train Mask')\n",
    "\n",
    "ax3.imshow(valid_img, cmap='bone')\n",
    "ax3.set_title('Validation Image')\n",
    "ax4.imshow(valid_mask, cmap='bone')\n",
    "ax4.set_title('Validation Mask')"
   ]
  },
  {
   "cell_type": "markdown",
   "metadata": {
    "slideshow": {
     "slide_type": "subslide"
    }
   },
   "source": [
    "# Results from Untrained Model\n",
    "- We can make predictions with an untrained model (default parameters)\n",
    "- but we clearly do not expect them to be very good"
   ]
  },
  {
   "cell_type": "code",
   "execution_count": null,
   "metadata": {
    "format": "tab",
    "slideshow": {
     "slide_type": "subslide"
    }
   },
   "outputs": [],
   "source": [
    "fig, m_axs = plt.subplots(2, 3,\n",
    "                          figsize=(18, 8), dpi=150)\n",
    "for c_ax in m_axs.flatten():\n",
    "    c_ax.axis('off')\n",
    "((ax1, ax2, _), (ax3, ax4, ax5)) = m_axs\n",
    "ax1.imshow(train_img, cmap='bone')\n",
    "ax1.set_title('Train Image')\n",
    "ax2.imshow(train_mask, cmap='viridis')\n",
    "ax2.set_title('Train Mask')\n",
    "\n",
    "ax3.imshow(cell_seg, cmap='bone')\n",
    "ax3.set_title('Full Image')\n",
    "\n",
    "unet_pred = t_unet.predict(prep_img(cell_img))[0, :, :, 0]\n",
    "ax4.imshow(unet_pred,\n",
    "           cmap='viridis', vmin=0, vmax=1)\n",
    "ax4.set_title('Predicted Segmentation')\n",
    "\n",
    "ax5.imshow(cell_seg,\n",
    "           cmap='viridis')\n",
    "ax5.set_title('Ground Truth')"
   ]
  },
  {
   "cell_type": "markdown",
   "metadata": {
    "slideshow": {
     "slide_type": "subslide"
    }
   },
   "source": [
    "# A general note on the following demo\n",
    "This is a very bad way to train a model;\n",
    "- the loss function is poorly chosen, \n",
    "- the optimizer can be improved the learning rate can be changed, \n",
    "- the training and validation data **should not** come from the same sample (and **definitely** not the same measurement). \n",
    "\n",
    "The goal is to be aware of these techniques and have a feeling for how they can work for complex problems "
   ]
  },
  {
   "cell_type": "markdown",
   "metadata": {
    "slideshow": {
     "slide_type": "subslide"
    }
   },
   "source": [
    "# Training conditions\n",
    "- [Loss function](https://en.wikipedia.org/wiki/Loss_function) - mae\n",
    "- Optimizer - [Stochastic Gradient Decent](https://en.wikipedia.org/wiki/Stochastic_gradient_descent)\n",
    "- 20 Epochs (training iterations)\n",
    "- Metrics \n",
    "    1. Binary accuracy\n",
    "    2. Mean absulute error\n",
    "    \n",
    "### Let's train the model"
   ]
  },
  {
   "cell_type": "code",
   "execution_count": null,
   "metadata": {
    "slideshow": {
     "slide_type": "-"
    }
   },
   "outputs": [],
   "source": [
    "from keras.optimizers import SGD\n",
    "t_unet.compile(\n",
    "    # we use a simple loss metric of mean-squared error to optimize\n",
    "    loss='mse',\n",
    "    # we use stochastic gradient descent to optimize\n",
    "    optimizer=SGD(lr=0.05),\n",
    "    # we keep track of the number of pixels correctly classified and the mean absolute error as well\n",
    "    metrics=['binary_accuracy', 'mae']\n",
    ")\n",
    "\n",
    "loss_history = t_unet.fit(prep_img(train_img, n=5),\n",
    "                          prep_mask(train_mask, n=5),\n",
    "                          validation_data=(prep_img(valid_img),\n",
    "                                           prep_mask(valid_mask)),\n",
    "                          epochs=20)"
   ]
  },
  {
   "cell_type": "code",
   "execution_count": null,
   "metadata": {
    "format": "tab",
    "slideshow": {
     "slide_type": "subslide"
    }
   },
   "outputs": [],
   "source": [
    "fig, (ax1, ax2) = plt.subplots(1, 2,\n",
    "                               figsize=(20, 7))\n",
    "ax1.plot(loss_history.epoch,\n",
    "         loss_history.history['mae'], 'r-', label='Training')\n",
    "ax1.plot(loss_history.epoch,\n",
    "         loss_history.history['val_mae'], 'b-', label='Validation')\n",
    "ax1.set_title('Mean Absolute Error')\n",
    "ax1.legend()\n",
    "\n",
    "ax2.plot(loss_history.epoch,\n",
    "         100*np.array(loss_history.history['binary_accuracy']), 'r-', label='Training')\n",
    "ax2.plot(loss_history.epoch,\n",
    "         100*np.array(loss_history.history['val_binary_accuracy']), 'b-', label='Validation')\n",
    "ax2.set_title('Classification Accuracy (%)')\n",
    "ax2.legend()"
   ]
  },
  {
   "cell_type": "code",
   "execution_count": null,
   "metadata": {
    "format": "tab",
    "slideshow": {
     "slide_type": "subslide"
    }
   },
   "outputs": [],
   "source": [
    "fig, m_axs = plt.subplots(2, 3,\n",
    "                          figsize=(18, 8), dpi=150)\n",
    "for c_ax in m_axs.flatten():\n",
    "    c_ax.axis('off')\n",
    "((ax1, ax15, ax2), (ax3, ax4, ax5)) = m_axs\n",
    "ax1.imshow(train_img, cmap='bone')\n",
    "ax1.set_title('Train Image')\n",
    "ax15.imshow(t_unet.predict(prep_img(train_img))[0, :, :, 0],\n",
    "            cmap='viridis', vmin=0, vmax=1)\n",
    "ax15.set_title('Predicted Training')\n",
    "ax2.imshow(train_mask, cmap='viridis')\n",
    "ax2.set_title('Train Mask')\n",
    "\n",
    "ax3.imshow(cell_img, cmap='bone')\n",
    "ax3.set_title('Full Image')\n",
    "unet_pred = t_unet.predict(prep_img(cell_img))[0, :, :, 0]\n",
    "ax4.imshow(unet_pred,\n",
    "           cmap='viridis', vmin=0, vmax=1)\n",
    "ax4.set_title('Predicted Segmentation')\n",
    "\n",
    "ax5.imshow(cell_seg,\n",
    "           cmap='viridis')\n",
    "ax5.set_title('Ground Truth')"
   ]
  },
  {
   "cell_type": "markdown",
   "metadata": {
    "slideshow": {
     "slide_type": "subslide"
    }
   },
   "source": [
    "## Overfitting\n",
    "\n",
    "Having a model with 470,000 free parameters means that it is quite easy to overfit the model by training for too long. \n",
    "\n",
    "Overfitting is when:\n",
    "- The model has gotten very good at the training data \n",
    "- but hasn't generalized to other kinds of problems \n",
    "\n",
    "__Consequence:__ The model starts to perform worse on regions that aren't exactly the same as the training."
   ]
  },
  {
   "cell_type": "code",
   "execution_count": null,
   "metadata": {
    "slideshow": {
     "slide_type": "subslide"
    }
   },
   "outputs": [],
   "source": [
    "t_unet.compile(\n",
    "    # we use a simple loss metric of mean-squared error to optimize\n",
    "    loss='mse',\n",
    "    # we use stochastic gradient descent to optimize\n",
    "    optimizer=SGD(lr=0.3),\n",
    "    # we keep track of the number of pixels correctly classified and the mean absolute error as well\n",
    "    metrics=['binary_accuracy', 'mae']\n",
    ")\n",
    "\n",
    "loss_history = t_unet.fit(prep_img(train_img),\n",
    "                          prep_mask(train_mask),\n",
    "                          validation_data=(prep_img(valid_img),\n",
    "                                           prep_mask(valid_mask)),\n",
    "                          epochs=5)"
   ]
  },
  {
   "cell_type": "code",
   "execution_count": null,
   "metadata": {
    "slideshow": {
     "slide_type": "subslide"
    }
   },
   "outputs": [],
   "source": [
    "fig, (ax1, ax2) = plt.subplots(1, 2,\n",
    "                               figsize=(20, 7))\n",
    "ax1.plot(loss_history.epoch,\n",
    "         loss_history.history['mae'], 'r-', label='Training')\n",
    "ax1.plot(loss_history.epoch,\n",
    "         loss_history.history['val_mae'], 'b-', label='Validation')\n",
    "ax1.set_title('Mean Absolute Error')\n",
    "ax1.legend()\n",
    "\n",
    "ax2.plot(loss_history.epoch,\n",
    "         100*np.array(loss_history.history['binary_accuracy']), 'r-', label='Training')\n",
    "ax2.plot(loss_history.epoch,\n",
    "         100*np.array(loss_history.history['val_binary_accuracy']), 'b-', label='Validation')\n",
    "ax2.set_title('Classification Accuracy (%)')\n",
    "ax2.legend()"
   ]
  },
  {
   "cell_type": "code",
   "execution_count": null,
   "metadata": {
    "slideshow": {
     "slide_type": "subslide"
    }
   },
   "outputs": [],
   "source": [
    "fig, m_axs = plt.subplots(2, 3,\n",
    "                          figsize=(18, 8), dpi=150)\n",
    "for c_ax in m_axs.flatten():\n",
    "    c_ax.axis('off')\n",
    "((ax1, ax15, ax2), (ax3, ax4, ax5)) = m_axs\n",
    "ax1.imshow(train_img, cmap='bone')\n",
    "ax1.set_title('Train Image')\n",
    "ax15.imshow(t_unet.predict(prep_img(train_img))[0, :, :, 0],\n",
    "            cmap='viridis', vmin=0, vmax=1)\n",
    "ax15.set_title('Predicted Training')\n",
    "ax2.imshow(train_mask, cmap='viridis')\n",
    "ax2.set_title('Train Mask')\n",
    "\n",
    "ax3.imshow(cell_img, cmap='bone')\n",
    "ax3.set_title('Full Image')\n",
    "unet_pred = t_unet.predict(prep_img(cell_img))[0, :, :, 0]\n",
    "ax4.imshow(unet_pred,\n",
    "           cmap='viridis', vmin=0, vmax=1)\n",
    "ax4.set_title('Predicted Segmentation')\n",
    "\n",
    "ax5.imshow(cell_seg,\n",
    "           cmap='viridis')\n",
    "ax5.set_title('Ground Truth');"
   ]
  },
  {
   "cell_type": "markdown",
   "metadata": {
    "slideshow": {
     "slide_type": "slide"
    }
   },
   "source": [
    "# Summary \n",
    "* Concepts of supervised segmentation\n",
    "* Supervised Classification\n",
    "* Classification vs. Segmentation\n",
    "    * Nearest neighbour\n",
    "    * Trees \n",
    "    * Random Forests\n",
    "* Regression vs Classification\n",
    "* Training, vali\n",
    "* Deep learning\n"
   ]
  },
  {
   "cell_type": "code",
   "execution_count": null,
   "metadata": {},
   "outputs": [],
   "source": []
  }
 ],
 "metadata": {
  "celltoolbar": "Slideshow",
  "hide_input": false,
  "kernelspec": {
   "display_name": "Python 3",
   "language": "python",
   "name": "python3"
  },
  "language_info": {
   "codemirror_mode": {
    "name": "ipython",
    "version": 3
   },
   "file_extension": ".py",
   "mimetype": "text/x-python",
   "name": "python",
   "nbconvert_exporter": "python",
   "pygments_lexer": "ipython3",
   "version": "3.7.6"
  },
  "livereveal": {
   "autolaunch": true,
   "enable_chalkboard": true,
   "footer": "March 19, 2020 - ETH 227-0966-00L: Quantitative Big Imaging/Supervised segmentation",
   "header": "<table width='100%' style='margin: 0px;'><tr><td align='left'><img src='../common/figures/eth_logo_kurz_pos.svg' style='height:30px;'></td><td align='right'><img src='../common/figures/PSI-Logo.svg' style='height:50px;'></td></tr></table>",
   "scroll": true
  }
 },
 "nbformat": 4,
 "nbformat_minor": 2
}
