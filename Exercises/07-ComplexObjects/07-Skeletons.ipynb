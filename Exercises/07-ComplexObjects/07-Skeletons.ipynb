{
 "cells": [
  {
   "cell_type": "markdown",
   "metadata": {},
   "source": [
    "# Exercise for lecture 7"
   ]
  },
  {
   "cell_type": "code",
   "execution_count": 2,
   "metadata": {},
   "outputs": [],
   "source": [
    "import numpy as np\n",
    "import matplotlib.pyplot as plt\n",
    "import skimage as image"
   ]
  },
  {
   "cell_type": "markdown",
   "metadata": {},
   "source": [
    "# Working with skeletons in 2D\n",
    "Analyse the street skeleton using the binary code kernels from the lecture.\n",
    "\n",
    "Mainly copying from the lecture:\n",
    "1. Load image and segment it\n",
    "2. Create the skeleton\n",
    "2. Prune it using the width criterion\n",
    "3. Convolve skeleton by 4- and 8-connected masks.\n",
    "4. Extract skeleton from resulting image\n",
    "\n",
    "Task\n",
    "1. Identify directions of end points\n",
    "2. Count how many different junction points there are.\n",
    "3. What happens to the codes at the loop in the lower end when you use different connectivities.\n"
   ]
  },
  {
   "cell_type": "code",
   "execution_count": null,
   "metadata": {},
   "outputs": [],
   "source": []
  },
  {
   "cell_type": "markdown",
   "metadata": {},
   "source": [
    "# Working with skeletons in 3D\n",
    "Analyse the root network in terms of \n",
    "- Distance between branches\n",
    "- Turtosity\n",
    "- Root segment position\n",
    "- Root segment angle in the vertical direction.\n",
    "\n",
    "\n",
    "### Recommended steps\n",
    "1. Load the root image (you have to unpack the zip file before starting)\n",
    "2. Clean the segmented image from disconnected fragments\n",
    "    - Label, measure volume => extract the largest item\n",
    "3. Compute skeleton\n",
    "4. Break it apart (use convolution with 3x3x3)\n",
    "5. Label segments\n",
    "6. Run analysis for each segment\n",
    "    - Angle of a 2D object:\n",
    "$$ \\theta = \\frac{1}{2} tan^{-1}\\left( \\frac{2\\cdot\\mu_{1,1}}{\\mu_{2,0}-\\mu_{0,2}}\\right)$$\n",
    "      where the moments are described by\n",
    "$$\\mu_{m,n}=\\sum_{i,j}x_i^m\\,y_j^n\\,v_{i,j}$$\n",
    "      see\n",
    "```\n",
    "skimage.measure.moments_central(image, center=None, order=3, **kwargs)\n",
    "```\n",
    "7. Use pair plot to see if there are any interesting correlations \n",
    "``` \n",
    "import seaborn as sns\n",
    "sns.pairplot(out_df,\n",
    "             hue='positive_score',\n",
    "             kind=\"reg\")\n",
    "             ```"
   ]
  },
  {
   "cell_type": "code",
   "execution_count": null,
   "metadata": {},
   "outputs": [],
   "source": []
  }
 ],
 "metadata": {
  "hide_input": false,
  "kernelspec": {
   "display_name": "Python 3",
   "language": "python",
   "name": "python3"
  },
  "language_info": {
   "codemirror_mode": {
    "name": "ipython",
    "version": 3
   },
   "file_extension": ".py",
   "mimetype": "text/x-python",
   "name": "python",
   "nbconvert_exporter": "python",
   "pygments_lexer": "ipython3",
   "version": "3.7.4"
  }
 },
 "nbformat": 4,
 "nbformat_minor": 2
}
