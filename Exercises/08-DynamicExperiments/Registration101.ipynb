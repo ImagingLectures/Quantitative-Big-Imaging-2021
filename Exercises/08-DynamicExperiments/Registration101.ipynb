{
 "cells": [
  {
   "cell_type": "markdown",
   "metadata": {
    "slideshow": {
     "slide_type": "slide"
    }
   },
   "source": [
    "# Registration 101\n",
    "\n",
    "Image registration is a critical tool in longitudinal monitoring:\n",
    "\n",
    "- Estimation of local changes\n",
    "- Comparison to same animal (less variance)\n",
    "- [3R's](https://www.nc3rs.org.uk/the-3rs)\n",
    "\n",
    "\n"
   ]
  },
  {
   "cell_type": "markdown",
   "metadata": {
    "slideshow": {
     "slide_type": "slide"
    }
   },
   "source": [
    "## Goal of tutorial:\n",
    "- Introduce the concept of aligning images\n",
    "- Demonstrate the use of numerical comparison between images\n",
    "- Introduce concept of optimisation\n",
    "- Registering images within framework (Thesis: Matthias Grass & Nicholas Ohs)"
   ]
  },
  {
   "cell_type": "markdown",
   "metadata": {
    "slideshow": {
     "slide_type": "slide"
    }
   },
   "source": [
    "## setting up a responsive enviroment"
   ]
  },
  {
   "cell_type": "code",
   "execution_count": null,
   "metadata": {
    "slideshow": {
     "slide_type": "-"
    }
   },
   "outputs": [],
   "source": [
    "# Please do not edit this code, it is important for choosing a compatible rendered for images\n",
    "\n",
    "# libraries for viewing images\n",
    "import sys\n",
    "sys.path.append('reg101_files')\n",
    "from image_viewing import horizontal_pane, overlay_RGB, overlay_RGB_cost\n",
    "import matplotlib\n",
    "import matplotlib.pyplot as plt\n",
    "import matplotlib.image as mpimg\n",
    "import skimage.io as io\n",
    "# numpy as always\n",
    "import numpy as np"
   ]
  },
  {
   "cell_type": "code",
   "execution_count": null,
   "metadata": {
    "slideshow": {
     "slide_type": "-"
    }
   },
   "outputs": [],
   "source": [
    "# this is a way of finding the fastest image display on your platform\n",
    "print(\"Using:\", matplotlib.get_backend())\n",
    "gui_env = ['WXAgg', 'TKAgg', 'QT5Agg', 'GTKAgg', 'Qt4Agg']\n",
    "for gui in gui_env:\n",
    "    try:\n",
    "        print(\"testing\", gui)\n",
    "        matplotlib.use(gui, warn=False, force=True)\n",
    "        from matplotlib import pyplot as plt\n",
    "        break\n",
    "    except:\n",
    "        continue\n",
    "print(\"Using:\", matplotlib.get_backend())"
   ]
  },
  {
   "cell_type": "markdown",
   "metadata": {
    "slideshow": {
     "slide_type": "slide"
    }
   },
   "source": [
    "## What does registration actually do?\n",
    "\n",
    "In the example bellow there are images from 2 weeks.\n",
    "\n",
    "The position of the animal in the scanner was different each.\n"
   ]
  },
  {
   "cell_type": "code",
   "execution_count": null,
   "metadata": {
    "scrolled": false,
    "slideshow": {
     "slide_type": "slide"
    }
   },
   "outputs": [],
   "source": [
    "%matplotlib notebook\n",
    "# this allows the image to be viewed in the notebook with edge\n",
    "matplotlib.rcParams['figure.figsize'] = (8, 7)\n",
    "a=io.imread('reg101_files/week2.tiff')\n",
    "b=io.imread('reg101_files/week3.tiff')\n",
    "images = [a, b]\n",
    "\n",
    "horizontal_pane(images)  # shows images side by side"
   ]
  },
  {
   "cell_type": "markdown",
   "metadata": {
    "slideshow": {
     "slide_type": "slide"
    }
   },
   "source": [
    "How can we interpret these images?\n",
    "\n",
    "In in vivo studies, it is still common to *dynamic histomorphometry*, where markers are given to the mice at different intervals over the course if a study. These are built into the bone matrix and afterwards can be labeled and visualised in histological sections.\n",
    "\n",
    "![alt text](osteoid.jpg)\n",
    "\n",
    "In the above image above the green strain was used to mark the surface where bone formed. While the red is marking Osteoid (newly formed un minerlaised bone). The method is limited to purely observation of anabolic events. Resorption of bone removes material and therefore there is nothing which can be stained.\n",
    "\n",
    "Inspired by these histological images we can create a virtual histology image. In these images we will \"stain\" the change of mineralisation between the two weeks. Both images are grey-scale (1 -color) , we can emulate the histology by using colour channels. Here we put the *Later* week in *green* and the *Former* week in *red*, both weeks are averaged in the blue channel.\n",
    "\n",
    "When the images are aligned we see white (R+G+B) when the *Former* week is brighter we see *green* and when the  *later* week is brighter we see *red*. This is essentially formation == green and resorption == red. The function bellow does this for use automically.\n"
   ]
  },
  {
   "cell_type": "code",
   "execution_count": null,
   "metadata": {
    "slideshow": {
     "slide_type": "slide"
    }
   },
   "outputs": [],
   "source": [
    "# puts the images into the Red(week1) and G(week2) channel of an image\n",
    "overlay_RGB(images)"
   ]
  },
  {
   "cell_type": "markdown",
   "metadata": {
    "slideshow": {
     "slide_type": "fragment"
    }
   },
   "source": [
    "These images are clearly not well aligned. We will now discuss how to align the images."
   ]
  },
  {
   "cell_type": "markdown",
   "metadata": {
    "collapsed": true,
    "slideshow": {
     "slide_type": "slide"
    }
   },
   "source": [
    "## Overlaying an image\n",
    "\n",
    "Registration involves finding the best set of transormation paramters for overlaying an image.\n",
    "\n",
    "Run the following cell and try to find the best x,y,theta for aligning the images. "
   ]
  },
  {
   "cell_type": "code",
   "execution_count": null,
   "metadata": {
    "scrolled": false
   },
   "outputs": [],
   "source": [
    "# manual transform\n",
    "from ipywidgets import interact, interactive, fixed, interact_manual\n",
    "import ipywidgets as widgets\n",
    "from IPython.display import clear_output, display\n",
    "from scipy.ndimage import affine_transform\n",
    "\n",
    "\n",
    "def move_overlay(image1, image2, dx, dy):\n",
    "    T = np.identity(3)\n",
    "    T[0, 2] = dy\n",
    "    T[1, 2] = dx\n",
    "    images = [image1, affine_transform(image2, T)]\n",
    "    overlay_RGB(images)\n",
    "    clear_output(True)"
   ]
  },
  {
   "cell_type": "code",
   "execution_count": null,
   "metadata": {
    "scrolled": false,
    "slideshow": {
     "slide_type": "slide"
    }
   },
   "outputs": [],
   "source": [
    "interactive(move_overlay, image1=fixed(images[0]), image2=fixed(\n",
    "    images[1]), dx=(-50, 50, 0.25), dy=(-50, 50, 0.25))"
   ]
  },
  {
   "cell_type": "code",
   "execution_count": null,
   "metadata": {
    "slideshow": {
     "slide_type": "fragment"
    }
   },
   "outputs": [],
   "source": [
    "class_x = [-4.5, -6.5, -5.0, -4.25, -4, -5, -4.7]\n",
    "class_y = [-18.5, -22, -20.5, -20, -19, -19, -19.5]\n",
    "\n",
    "print(\"Class variance in X: \", np.mean(class_x))\n",
    "print(\"Class variance in Y: \", np.mean(class_y))"
   ]
  },
  {
   "cell_type": "markdown",
   "metadata": {
    "slideshow": {
     "slide_type": "slide"
    }
   },
   "source": [
    "## Cost functions\n",
    "\n",
    "We have now demonstrated the use of a powerful neural network (you) on finding the best fit. In realitiy the computer is not aware of what the images look like. The registration algorithm needs to numerically determine the goodness of fit, it can then optimize until the correct paramters are found. \n",
    "\n",
    "Image we have two images X and Y. The lease squared difference would be as follows:\n",
    "\n",
    "\\begin{equation*}\n",
    " C^{LS} = \\sum \\left( X - Y  \\right)^2  \n",
    "\\end{equation*}\n",
    "\n",
    "Where this is the pixel-wise sum of both images. In Python it looks like this:\n",
    "\n",
    "\n",
    "```python\n",
    "def least_squared(X,Y):\n",
    "    delta = X-Y\n",
    "    square_delta = delta**2\n",
    "    return np.sum(square_delta)\n",
    "\n",
    "```\n"
   ]
  },
  {
   "cell_type": "markdown",
   "metadata": {
    "slideshow": {
     "slide_type": "slide"
    }
   },
   "source": [
    "Another meausure of similarity is the correlations function:\n",
    "\\begin{equation*}\n",
    " C^{cor} = \\frac{\\sum \\left( X \\cdot Y  \\right) }{\\sqrt{\\sum X^2}.\\sqrt{\\sum Y^2}}\n",
    "\\end{equation*}\n",
    "\n",
    "In python it looks like this:\n",
    "```python \n",
    "def correlation(Image1,Image2):\n",
    "    corr = np.corrcoef(Image1,y=Image2)\n",
    "    return(corr[0,1])\n",
    " ```\n"
   ]
  },
  {
   "cell_type": "markdown",
   "metadata": {
    "slideshow": {
     "slide_type": "fragment"
    }
   },
   "source": [
    "### excercise 2:\n",
    "Align the images again, this time try and use the cost function to determine your next move.\n"
   ]
  },
  {
   "cell_type": "code",
   "execution_count": null,
   "metadata": {
    "slideshow": {
     "slide_type": "slide"
    }
   },
   "outputs": [],
   "source": [
    "# abs diference cost\n",
    "def least_squared(Image1, Image2):\n",
    "    delta = (Image1 - Image2)\n",
    "    return(np.sum(delta**2))"
   ]
  },
  {
   "cell_type": "code",
   "execution_count": null,
   "metadata": {
    "slideshow": {
     "slide_type": "-"
    }
   },
   "outputs": [],
   "source": [
    "def correlation(Image1, Image2):\n",
    "    return(-1*np.corrcoef(Image1.flatten(), y=Image2.flatten())[0, 1])"
   ]
  },
  {
   "cell_type": "code",
   "execution_count": null,
   "metadata": {
    "slideshow": {
     "slide_type": "-"
    }
   },
   "outputs": [],
   "source": [
    "c_funs = {\"correlation\": correlation, \"least_squared\": least_squared}"
   ]
  },
  {
   "cell_type": "code",
   "execution_count": null,
   "metadata": {
    "slideshow": {
     "slide_type": "-"
    }
   },
   "outputs": [],
   "source": [
    "cost = {c: [] for c in c_funs}\n",
    "cost_function_names = [n for n in c_funs]\n",
    "\n",
    "\n",
    "def move_overlay(image1, image2, dx, dy, cost_history, cost_function, cfuncs):\n",
    "    T = np.identity(3)\n",
    "    T[0, 2] = dy\n",
    "    T[1, 2] = dx\n",
    "    images = [image1, affine_transform(image2, T)]\n",
    "    overlay_RGB_cost(images, cost_history, cost_function, cfuncs, dx, dy)\n",
    "    clear_output(True)"
   ]
  },
  {
   "cell_type": "code",
   "execution_count": null,
   "metadata": {
    "scrolled": false,
    "slideshow": {
     "slide_type": "slide"
    }
   },
   "outputs": [],
   "source": [
    "interactive(move_overlay, image1=fixed(images[0]), image2=fixed(images[1]), dx=(-60, 60, 0.5), dy=(\n",
    "    -60, 60, 0.5), cost_history=fixed(cost), cost_function=cost_function_names, cfuncs=fixed(c_funs))"
   ]
  },
  {
   "cell_type": "code",
   "execution_count": null,
   "metadata": {
    "slideshow": {
     "slide_type": "subslide"
    }
   },
   "outputs": [],
   "source": [
    "comutational_cost = {\"correlation\": 0,\n",
    "                     \"least_squared\": 0, \"abs_squared_difference\": 0}\n",
    "for function, v in cost.items():\n",
    "\n",
    "    for pix in v:\n",
    "\n",
    "        comutational_cost[function] += pix[3]\n",
    "\n",
    "print(\"The total pixel cost was:\", comutational_cost)"
   ]
  },
  {
   "cell_type": "markdown",
   "metadata": {
    "collapsed": true,
    "slideshow": {
     "slide_type": "slide"
    }
   },
   "source": [
    "This is quite an intenive task. For each movmement you made every pixel was evaluated to determine the cost function. Ideally we should align the images close so that they need less transformations. This can be done through two ways:\n",
    "\n",
    "1. An initial guess\n",
    "\n",
    "2. A multi-resolution scheme\n",
    "\n",
    "A good initial guess is a holy grail in image registration, these could involve calcuating principle axes and centerms of mass. However during fracture healing the changes in the bone are large, the formation of new material can cause priciple axes to flip or swap.\n",
    "\n",
    "A multi-resolution scheme on the other hand reduces the problem size, progressivly increasing it until the images are comapred at the native resoltuion. This system is \"easy\" to implement and has an inherent strength over the naive aproach.\n",
    "\n",
    "Images contain different frequencies. In general flat areas are low frequency whilke edges (and noise) are high frequency. The lower resolution images are predominatnly low frequency information and have comparatively less noise. A pyramid approach is effectivly using a smoothed cost function, avoiding local minima, while the progressive increasing of the resolution adds high frequency correction to the solution.\n"
   ]
  },
  {
   "cell_type": "code",
   "execution_count": null,
   "metadata": {
    "slideshow": {
     "slide_type": "slide"
    }
   },
   "outputs": [],
   "source": [
    "def split_frequency(frequency, image):\n",
    "    f = np.fft.fft2(image)  # forward fft\n",
    "    fshift = np.fft.fftshift(f)  # shift to center frequencies\n",
    "    hff = np.copy(fshift)\n",
    "    origin = np.array(hff.shape)*0.5\n",
    "    y, x = np.ogrid[-origin[0]:origin[0], -origin[1]:origin[1]]\n",
    "    mask = x*x + y*y <= frequency*frequency  # mask for high and low pass filtering\n",
    "    hff[mask] = 0  # high pass filter\n",
    "    lff = np.copy(fshift)\n",
    "    lff[mask != 1] = 0  # low pass filter\n",
    "    hff_ishift = np.fft.ifftshift(hff)  # inverse shift\n",
    "    lff_ishift = np.fft.ifftshift(lff)  # inverse shift\n",
    "    lff_back = np.fft.ifft2(lff_ishift)  # inverse fft\n",
    "    hff_back = np.fft.ifft2(hff_ishift)  # inverse fft\n",
    "    hff_back = np.abs(hff_back)\n",
    "    lff_back = np.abs(lff_back)\n",
    "    # contrast adjustment for viewing image\n",
    "    hff_back /= np.percentile(hff_back, 99)\n",
    "    hff_back[hff_back > 1] = 1.0\n",
    "\n",
    "    horizontal_pane([image, (lff_back), hff_back])"
   ]
  },
  {
   "cell_type": "code",
   "execution_count": null,
   "metadata": {
    "slideshow": {
     "slide_type": "slide"
    }
   },
   "outputs": [],
   "source": [
    "interactive(split_frequency, frequency=(0, 204, 1), image=fixed(images[0]))"
   ]
  },
  {
   "cell_type": "markdown",
   "metadata": {
    "slideshow": {
     "slide_type": "slide"
    }
   },
   "source": [
    "## Pyrmaid registration\n",
    "\n",
    "- Frequencies are dependent on the image resolution\n",
    "- Easiest way to create a pyramid is to create a stack of rescaled images"
   ]
  },
  {
   "cell_type": "code",
   "execution_count": null,
   "metadata": {
    "slideshow": {
     "slide_type": "slide"
    }
   },
   "outputs": [],
   "source": [
    "# manual transform\n",
    "\n",
    "from scipy.ndimage.interpolation import zoom\n",
    "\n",
    "\n",
    "cost_pyramid = {c: [] for c in c_funs}\n",
    "\n",
    "\n",
    "def move_overlay_pyramid(image1, image2, dx, dy, cost_history, cost_function, cfuncs, level, history):\n",
    "    level = int(level)\n",
    "    level = 2**(level-1)\n",
    "    if level != 1:\n",
    "        i1 = zoom(image1, 1/level, order=0)\n",
    "        i2 = zoom(image2, 1/level, order=0)\n",
    "    else:\n",
    "        i1 = image1\n",
    "        i2 = image2\n",
    "    T = np.identity(3)\n",
    "    T[0, 2] = dy*1/level\n",
    "    T[1, 2] = dx*1/level\n",
    "    if level != 1:\n",
    "        images = [i1, affine_transform(i2, T, order=0)]\n",
    "    else:\n",
    "        images = [i1, affine_transform(i2, T)]\n",
    "    if len(cost_history)>0:\n",
    "        overlay_RGB_cost(images, cost_history, cost_function,\n",
    "                     cfuncs, dx, dy, history)\n",
    "    else:\n",
    "        print('Move around to make some history')\n",
    "    clear_output(True)"
   ]
  },
  {
   "cell_type": "code",
   "execution_count": null,
   "metadata": {
    "scrolled": false,
    "slideshow": {
     "slide_type": "slide"
    }
   },
   "outputs": [],
   "source": [
    "interactive(move_overlay_pyramid, image1=fixed(images[0]), image2=fixed(images[1]), dx=(-60, 60, 0.5), dy=(-60, 60, 0.5), cost_history=fixed(\n",
    "    cost_pyramid), cost_function=cost_function_names, cfuncs=fixed(c_funs), level=[5, 4, 3, 2, 1], history=[None, 10, 20, 100])"
   ]
  },
  {
   "cell_type": "code",
   "execution_count": null,
   "metadata": {
    "slideshow": {
     "slide_type": "slide"
    }
   },
   "outputs": [],
   "source": [
    "comutational_cost_pyramid = {\"correlation\": 0, \"least_squared\": 0}\n",
    "for function, v in cost_pyramid.items():\n",
    "\n",
    "    for pix in v:\n",
    "\n",
    "        comutational_cost_pyramid[function] += pix[3]\n",
    "\n",
    "print(\"The total pixel cost was:\", comutational_cost_pyramid)"
   ]
  },
  {
   "cell_type": "markdown",
   "metadata": {
    "slideshow": {
     "slide_type": "slide"
    }
   },
   "source": [
    "# Automated registration\n",
    "\n",
    "This is cleary a difficult problem to do by hand. As we have these functions it should be easy to minimise them. Actualy there is a whole field of mathematics and computer science devoted towards this: Optimisation. It is not really \"easy\" to do.\n",
    "\n",
    "There are several course at the ETH which can give actually useful information on this:\n",
    "- 401-0647-00L  Introduction to Mathematical Optimization\n",
    "- 227-0707-00L  Optimization Methods for Engineers (good for Graeme)\n",
    "- 261-5110-00L  Optimization for Data Science (Machine learning)\n",
    "- 401-3904-00L  Convex Optimization (Applied to specific problems where the only minima is the global minimum)\n",
    "\n",
    "In the bellow example the registration is performed using a [Evolutionary Algorithm](https://en.wikipedia.org/wiki/Evolutionary_algorithm). Simply put a random population of initial guesses are used, the cost function is determined for each and only the fittest X% are mated to create a new set of guesses.\n",
    "\n",
    "To avoid being captured in local minima *mutations* are introduced, which introduce new paramters values to the increasingly homogenus population."
   ]
  },
  {
   "cell_type": "code",
   "execution_count": null,
   "metadata": {
    "slideshow": {
     "slide_type": "slide"
    }
   },
   "outputs": [],
   "source": [
    "# opitimizer with least squared\n",
    "\n",
    "from scipy.optimize import minimize as ls\n",
    "from scipy.optimize import differential_evolution\n",
    "\n",
    "\n",
    "def correlation(x, i1, i2, path):\n",
    "    x = np.array(x)\n",
    "    T = np.identity(3)\n",
    "    T[0, 2] = x[1]\n",
    "    T[1, 2] = x[0]\n",
    "    images = [i1.flatten(), affine_transform(i2, T).flatten()]\n",
    "    delta = -1*np.corrcoef(images[0], y=images[1])[0, 1]\n",
    "    path.append((x[0], x[1], delta))\n",
    "    return(delta)\n",
    "\n",
    "\n",
    "def least_squared(x, i1, i2, path):\n",
    "    x = np.array(x)\n",
    "    T = np.identity(3)\n",
    "    T[0, 2] = x[1]\n",
    "    T[1, 2] = x[0]\n",
    "    images = [i1, affine_transform(i2, T)]\n",
    "    delta = np.sum((images[0]-images[1])**2)\n",
    "    path.append((x[0], x[1], delta))\n",
    "    return(delta)\n",
    "\n",
    "\n",
    "path_corralation = []\n",
    "optimum_c = differential_evolution(correlation, [(-60, 30), (-60, 30)], args=(\n",
    "    images[0], images[1], path_corralation), tol=0.00125)  # ,method='Powell',options={'eps':0.5})\n",
    "\n",
    "path_least_squared = []\n",
    "optimum_ls = differential_evolution(least_squared, [(-60, 30), (-60, 30)], args=(\n",
    "    images[0], images[1], path_least_squared), tol=0.00125)  # ,method='Powell',options={'eps':0.5})"
   ]
  },
  {
   "cell_type": "markdown",
   "metadata": {
    "slideshow": {
     "slide_type": "fragment"
    }
   },
   "source": [
    "We have now searched for the best transform using both cost functions. What do they look like?"
   ]
  },
  {
   "cell_type": "code",
   "execution_count": null,
   "metadata": {
    "slideshow": {
     "slide_type": "slide"
    }
   },
   "outputs": [],
   "source": [
    "# Using the correlation cost function\n",
    "\n",
    "x = optimum_c['x']\n",
    "T = np.identity(3)\n",
    "T[0, 2] = x[1]\n",
    "T[1, 2] = x[0]\n",
    "overlay_RGB([images[0], affine_transform(images[1], T)])"
   ]
  },
  {
   "cell_type": "code",
   "execution_count": null,
   "metadata": {
    "slideshow": {
     "slide_type": "slide"
    }
   },
   "outputs": [],
   "source": [
    "# Using the Least squared cost function\n",
    "x = optimum_ls['x']\n",
    "T = np.identity(3)\n",
    "T[0, 2] = x[1]\n",
    "T[1, 2] = x[0]\n",
    "overlay_RGB([images[0], affine_transform(images[1], T)])"
   ]
  },
  {
   "cell_type": "code",
   "execution_count": null,
   "metadata": {
    "slideshow": {
     "slide_type": "slide"
    }
   },
   "outputs": [],
   "source": [
    "# difference in the images\n",
    "diff = []\n",
    "x = optimum_ls['x']\n",
    "T = np.identity(3)\n",
    "T[0, 2] = x[1]\n",
    "T[1, 2] = x[0]\n",
    "diff.append(affine_transform(images[1], T))\n",
    "x = optimum_c['x']\n",
    "T = np.identity(3)\n",
    "T[0, 2] = x[1]\n",
    "T[1, 2] = x[0]\n",
    "diff.append(affine_transform(images[1], T))\n",
    "overlay_RGB(diff)"
   ]
  },
  {
   "cell_type": "code",
   "execution_count": null,
   "metadata": {
    "slideshow": {
     "slide_type": "slide"
    }
   },
   "outputs": [],
   "source": [
    "print(\"Difference in the transformation\", optimum_ls['x']-optimum_c['x'])"
   ]
  },
  {
   "cell_type": "markdown",
   "metadata": {
    "slideshow": {
     "slide_type": "slide"
    }
   },
   "source": [
    "In the cell bellow the cost functions are plotted. This can be done as the optimization we used search an entire range of parameters.\n"
   ]
  },
  {
   "cell_type": "code",
   "execution_count": null,
   "metadata": {
    "slideshow": {
     "slide_type": "slide"
    }
   },
   "outputs": [],
   "source": [
    "p_c = np.array(path_corralation)\n",
    "p_ls = np.array(path_least_squared)\n",
    "\n",
    "\n",
    "import matplotlib.tri as mtri\n",
    "fig = plt.figure()\n",
    "matplotlib.rcParams['figure.figsize'] = (9, 10)\n",
    "'''\n",
    "ax = fig.add_subplot(111, projection='3d')\n",
    "ax.plot_trisurf(p_c[:,0],p_c[:,1],p_c[:,2],cmap=plt.cm.jet)\n",
    "ax.set_title(\"Correlation\")\n",
    "ax.set_xlabel(\"dx\")\n",
    "ax.set_ylabel(\"dy\")\n",
    "ax.set_zlabel(\"cost (-)\")\n",
    "'''\n",
    "\n",
    "ax = fig.add_subplot(111, projection='3d')\n",
    "ax.set_title(\"Least Squared\")\n",
    "ax.set_xlabel(\"dx\")\n",
    "ax.set_ylabel(\"dy\")\n",
    "ax.set_zlabel(\"cost (-)\")\n",
    "ax.plot_trisurf(p_ls[:, 0], p_ls[:, 1], p_ls[:, 2], cmap=plt.cm.jet)"
   ]
  },
  {
   "cell_type": "markdown",
   "metadata": {
    "slideshow": {
     "slide_type": "slide"
    }
   },
   "source": [
    "# Conclusion to part 1\n",
    "\n",
    "- Image registration is not black magic\n",
    "    - It is repetitive but simple maths\n",
    "- Algorithms are fallible:\n",
    "    - Local minima in solution\n",
    "    - Orientation of images\n",
    "    - Qualitiy of images\n",
    "- Understanding your chosen cost function crucial for:\n",
    "    - Choosing an algorithm\n",
    "    - Knowing if your data is sufficient"
   ]
  },
  {
   "cell_type": "code",
   "execution_count": null,
   "metadata": {},
   "outputs": [],
   "source": []
  }
 ],
 "metadata": {
  "celltoolbar": "Slideshow",
  "kernelspec": {
   "display_name": "Python 3",
   "language": "python",
   "name": "python3"
  },
  "language_info": {
   "codemirror_mode": {
    "name": "ipython",
    "version": 3
   },
   "file_extension": ".py",
   "mimetype": "text/x-python",
   "name": "python",
   "nbconvert_exporter": "python",
   "pygments_lexer": "ipython3",
   "version": "3.7.6"
  }
 },
 "nbformat": 4,
 "nbformat_minor": 2
}
