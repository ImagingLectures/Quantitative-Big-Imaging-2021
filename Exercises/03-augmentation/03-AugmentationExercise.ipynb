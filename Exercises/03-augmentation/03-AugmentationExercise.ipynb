{
 "cells": [
  {
   "cell_type": "markdown",
   "metadata": {},
   "source": [
    "# Exercise 3: Data set, augmentation, and baseline\n",
    "In this exercise we are going to explore how augmented data can be used in training and testing.\n",
    "\n",
    "The code used in the exercise is based on the code already shown during the lecture. In this notebook you get the main code blocks to do the exercise. It helps to look at the code to get inspiration to solve the exercise. "
   ]
  },
  {
   "cell_type": "code",
   "execution_count": null,
   "metadata": {},
   "outputs": [],
   "source": [
    "import numpy as np\n",
    "import pandas as dp\n",
    "import skimage.io as io\n",
    "import matplotlib.pyplot as plt\n"
   ]
  },
  {
   "cell_type": "markdown",
   "metadata": {},
   "source": [
    "## Load data\n",
    "In this execercise we will be working with a CT data set from lungs which are acompanied by a list of labels to tell if the image is healthy or malign. The image slices are stored in a (3D) numpy array and the labels in a pandas data frame. [Pandas](https://pandas.pydata.org/docs/) is a libray that helps you to store tables of data that are searchable and slicable depending on different criteria.\n",
    "\n",
    "__Note:__ Please uncompress the file ```ct_tiles.tif.zip``` before starting."
   ]
  },
  {
   "cell_type": "code",
   "execution_count": null,
   "metadata": {},
   "outputs": [],
   "source": [
    "img = io.imread('ct_tiles.tif')\n",
    "labels = dp.read_csv('malignancy.csv')\n",
    "print('Image size: {0},{1},{2}'.format(img.shape[0],img.shape[1],img.shape[2]))\n",
    "print('Labels {0}'.format(labels.malignancy.count() ))"
   ]
  },
  {
   "cell_type": "markdown",
   "metadata": {},
   "source": [
    "### Look at the first five labels"
   ]
  },
  {
   "cell_type": "code",
   "execution_count": null,
   "metadata": {},
   "outputs": [],
   "source": [
    "labels.head()"
   ]
  },
  {
   "cell_type": "markdown",
   "metadata": {},
   "source": [
    "### Look at the first five slices"
   ]
  },
  {
   "cell_type": "code",
   "execution_count": null,
   "metadata": {},
   "outputs": [],
   "source": [
    "plt.figure(figsize=[15,5])\n",
    "for idx,tile in enumerate(img[0:5]) :\n",
    "    plt.subplot(1,5,idx+1)\n",
    "    plt.imshow(tile) ;\n",
    "    plt.title('Malignancy = {0}'.format(labels.malignancy[idx]))"
   ]
  },
  {
   "cell_type": "code",
   "execution_count": null,
   "metadata": {},
   "outputs": [],
   "source": []
  },
  {
   "cell_type": "markdown",
   "metadata": {},
   "source": [
    "### Look at the two cases\n",
    "In our exercise we will work with images of healthy (imgA) and malign sample (imgB). "
   ]
  },
  {
   "cell_type": "code",
   "execution_count": null,
   "metadata": {},
   "outputs": [],
   "source": [
    "imgA=img[labels[labels.malignancy==0.0].idx.iloc[3]]\n",
    "imgB=img[labels[labels.malignancy==1.0].idx.iloc[3]]\n",
    "plt.figure(figsize=[12,7])\n",
    "plt.subplot(1,2,1)\n",
    "plt.imshow(imgA)\n",
    "plt.title('Healthy')\n",
    "\n",
    "plt.subplot(1,2,2)\n",
    "plt.imshow(imgB)\n",
    "plt.title('Malign');"
   ]
  },
  {
   "cell_type": "markdown",
   "metadata": {},
   "source": [
    "## Augmenting the data\n",
    "Let's create a data augmentator. Here, the values from the lecture are used, but you can play with different settings for parameters like:\n",
    "- rotation\n",
    "- translation\n",
    "- scaling\n",
    "- etc."
   ]
  },
  {
   "cell_type": "code",
   "execution_count": null,
   "metadata": {},
   "outputs": [],
   "source": [
    "from keras.preprocessing.image import ImageDataGenerator\n",
    "img_aug = ImageDataGenerator(\n",
    "    featurewise_center=False,\n",
    "    samplewise_center=False,\n",
    "    zca_whitening=False,\n",
    "    zca_epsilon=1e-06,\n",
    "    rotation_range=30.0,\n",
    "    width_shift_range=0.25,\n",
    "    height_shift_range=0.25,\n",
    "    shear_range=0.25,\n",
    "    zoom_range=0.5,\n",
    "    fill_mode='nearest',\n",
    "    horizontal_flip=False,\n",
    "    vertical_flip=False\n",
    ")"
   ]
  },
  {
   "cell_type": "markdown",
   "metadata": {},
   "source": [
    "This is an example using the lecture code with the lung data."
   ]
  },
  {
   "cell_type": "code",
   "execution_count": null,
   "metadata": {},
   "outputs": [],
   "source": [
    "import numpy as np\n",
    "import matplotlib.pyplot as plt\n",
    "from keras.datasets import mnist\n",
    "%matplotlib inline\n",
    "\n",
    "tiles = np.expand_dims(img[0:6500:450], -1)\n",
    "tileLabels = labels.malignancy[0:6500:450]\n",
    "fig, m_axs = plt.subplots(4, 10, figsize=(14, 9))\n",
    "# setup augmentation\n",
    "img_aug.fit(tiles)\n",
    "real_aug = img_aug.flow(tiles[:10], tileLabels[:10], shuffle=False)\n",
    "for c_axs, do_augmentation in zip(m_axs, [False, True, True, True]):\n",
    "    if do_augmentation:\n",
    "        img_batch, label_batch = next(real_aug)\n",
    "    else:\n",
    "        img_batch, label_batch = tiles, tileLabels\n",
    "    for c_ax, c_img, c_label in zip(c_axs, img_batch, label_batch):\n",
    "        c_ax.imshow(c_img[:, :, 0], cmap='viridis', vmin=0, vmax=255)\n",
    "        c_ax.set_title('{}\\n{}'.format(\n",
    "            c_label, 'aug' if do_augmentation else ''))\n",
    "        c_ax.axis('off')"
   ]
  },
  {
   "cell_type": "markdown",
   "metadata": {},
   "source": [
    "## Testing baselines with augmented data\n",
    "From the lectures you learned that in order to compare the performance of an algorithm, you need a baseline algorithm. Previously, you heard about two algorithms:\n",
    "- Dummy classifier which uses the majority as prediction for any input data.\n",
    "- Nearest neighbor that uses the nearest feature as prediction.\n",
    "\n",
    "Below you get examples on the lung data."
   ]
  },
  {
   "cell_type": "markdown",
   "metadata": {},
   "source": [
    "### Dummy classifier"
   ]
  },
  {
   "cell_type": "code",
   "execution_count": null,
   "metadata": {},
   "outputs": [],
   "source": [
    "from sklearn.dummy import DummyClassifier\n",
    "dc = DummyClassifier(strategy='most_frequent')\n",
    "dc.fit(tiles, tileLabels)"
   ]
  },
  {
   "cell_type": "code",
   "execution_count": null,
   "metadata": {},
   "outputs": [],
   "source": [
    "dc.predict(img[1:6000:1000])"
   ]
  },
  {
   "cell_type": "markdown",
   "metadata": {},
   "source": [
    "### Nearest neighbor"
   ]
  },
  {
   "cell_type": "code",
   "execution_count": null,
   "metadata": {},
   "outputs": [],
   "source": [
    "from sklearn.neighbors import KNeighborsClassifier\n",
    "neigh_class = KNeighborsClassifier(n_neighbors=1)\n",
    "neigh_class.fit(tiles.reshape((15, -1)), tileLabels)"
   ]
  },
  {
   "cell_type": "code",
   "execution_count": null,
   "metadata": {},
   "outputs": [],
   "source": [
    "# predict on a few images\n",
    "neigh_class.predict(tiles.reshape((15, -1)))"
   ]
  },
  {
   "cell_type": "markdown",
   "metadata": {},
   "source": [
    "### Confusion matrix"
   ]
  },
  {
   "cell_type": "code",
   "execution_count": null,
   "metadata": {},
   "outputs": [],
   "source": [
    "import seaborn as sns\n",
    "import pandas as pd\n",
    "from sklearn.metrics import accuracy_score, confusion_matrix\n",
    "def print_confusion_matrix(confusion_matrix, class_names, figsize = (10,7), fontsize=14):\n",
    "    \"\"\"Prints a confusion matrix, as returned by sklearn.metrics.confusion_matrix, as a heatmap.\n",
    "    \n",
    "    Stolen from: https://gist.github.com/shaypal5/94c53d765083101efc0240d776a23823\n",
    "    \n",
    "    Arguments\n",
    "    ---------\n",
    "    confusion_matrix: numpy.ndarray\n",
    "        The numpy.ndarray object returned from a call to sklearn.metrics.confusion_matrix. \n",
    "        Similarly constructed ndarrays can also be used.\n",
    "    class_names: list\n",
    "        An ordered list of class names, in the order they index the given confusion matrix.\n",
    "    figsize: tuple\n",
    "        A 2-long tuple, the first value determining the horizontal size of the ouputted figure,\n",
    "        the second determining the vertical size. Defaults to (10,7).\n",
    "    fontsize: int\n",
    "        Font size for axes labels. Defaults to 14.\n",
    "        \n",
    "    Returns\n",
    "    -------\n",
    "    matplotlib.figure.Figure\n",
    "        The resulting confusion matrix figure\n",
    "    \"\"\"\n",
    "    df_cm = pd.DataFrame(\n",
    "        confusion_matrix, index=class_names, columns=class_names, \n",
    "    )\n",
    "    fig, ax1 = plt.subplots(1, 1, figsize=figsize)\n",
    "    try:\n",
    "        heatmap = sns.heatmap(df_cm, annot=True, fmt=\"d\")\n",
    "    except ValueError:\n",
    "        raise ValueError(\"Confusion matrix values must be integers.\")\n",
    "    heatmap.yaxis.set_ticklabels(heatmap.yaxis.get_ticklabels(), rotation=0, ha='right', fontsize=fontsize)\n",
    "    heatmap.xaxis.set_ticklabels(heatmap.xaxis.get_ticklabels(), rotation=45, ha='right', fontsize=fontsize)\n",
    "    plt.ylabel('True label')\n",
    "    plt.xlabel('Predicted label')\n",
    "    return ax1"
   ]
  },
  {
   "cell_type": "code",
   "execution_count": null,
   "metadata": {},
   "outputs": [],
   "source": [
    "pred_values = neigh_class.predict(tiles.reshape((15, -1)))\n",
    "ax1 = print_confusion_matrix(confusion_matrix(tileLabels, pred_values), class_names=range(2))\n",
    "ax1.set_title('Accuracy: {:2.2%}'.format(accuracy_score(tileLabels, pred_values)));"
   ]
  },
  {
   "cell_type": "markdown",
   "metadata": {},
   "source": [
    "## Exercise\n",
    "1. Create an augmented data set with 110 images based on 11 images. Pay attention to obtaining a representative balance between healthy and malign samples.\n",
    "2. Train the baseline algorithms using \n",
    "    1. the original data of the same size as the augmented data set.\n",
    "    2. the augmented data.\n",
    "3. Compare the performance using the confusion matrix."
   ]
  },
  {
   "cell_type": "code",
   "execution_count": null,
   "metadata": {},
   "outputs": [],
   "source": []
  }
 ],
 "metadata": {
  "hide_input": false,
  "kernelspec": {
   "display_name": "Python 3",
   "language": "python",
   "name": "python3"
  },
  "language_info": {
   "codemirror_mode": {
    "name": "ipython",
    "version": 3
   },
   "file_extension": ".py",
   "mimetype": "text/x-python",
   "name": "python",
   "nbconvert_exporter": "python",
   "pygments_lexer": "ipython3",
   "version": "3.7.4"
  }
 },
 "nbformat": 4,
 "nbformat_minor": 4
}
