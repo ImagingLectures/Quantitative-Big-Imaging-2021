{
 "cells": [
  {
   "cell_type": "markdown",
   "metadata": {},
   "source": [
    "# Exercise 9 - Statistics"
   ]
  },
  {
   "cell_type": "code",
   "execution_count": 2,
   "metadata": {},
   "outputs": [],
   "source": [
    "import numpy as np\n",
    "import pandas as pd\n",
    "import matplotlib.pyplot as plt\n",
    "import seaborn as sns"
   ]
  },
  {
   "cell_type": "markdown",
   "metadata": {},
   "source": [
    "# 1. Data preparation\n",
    "![Workflow](workflow_ComparingSample.svg)\n",
    "## 1.1 Load data into frames"
   ]
  },
  {
   "cell_type": "code",
   "execution_count": 3,
   "metadata": {
    "scrolled": true
   },
   "outputs": [],
   "source": [
    "pheno = pd.read_csv('phenoTable.csv')\n",
    "geno  = pd.read_csv('genoTable.csv')"
   ]
  },
  {
   "cell_type": "markdown",
   "metadata": {},
   "source": [
    "## 1.2 [Merge data frames](https://pandas.pydata.org/pandas-docs/stable/reference/api/pandas.merge.html)"
   ]
  },
  {
   "cell_type": "code",
   "execution_count": null,
   "metadata": {},
   "outputs": [],
   "source": []
  },
  {
   "cell_type": "markdown",
   "metadata": {},
   "source": [
    "# 2. Tasks\n",
    "![Workflow](workflow_StatisticalSignificanceHunter.svg)\n",
    "## 2.1 Running basic statistical analysis\n",
    "For this example we will start with a fairly complicated dataset from a genetics analysis done at the Institute of Biomechanics, ETHZ."
   ]
  },
  {
   "cell_type": "markdown",
   "metadata": {},
   "source": [
    "### 2.2.1. Introduction\n",
    "There are 1000 mouse femur bones which have been measured at high resolution and a number of shape analyses run on each sample. - Phenotypical Information - Each column represents a metric which was assessed in the images - CORT_DTO__C_TH for example is the mean thickness of the cortical bone."
   ]
  },
  {
   "cell_type": "code",
   "execution_count": 4,
   "metadata": {},
   "outputs": [
    {
     "data": {
      "text/html": [
       "<div>\n",
       "<style scoped>\n",
       "    .dataframe tbody tr th:only-of-type {\n",
       "        vertical-align: middle;\n",
       "    }\n",
       "\n",
       "    .dataframe tbody tr th {\n",
       "        vertical-align: top;\n",
       "    }\n",
       "\n",
       "    .dataframe thead th {\n",
       "        text-align: right;\n",
       "    }\n",
       "</style>\n",
       "<table border=\"1\" class=\"dataframe\">\n",
       "  <thead>\n",
       "    <tr style=\"text-align: right;\">\n",
       "      <th></th>\n",
       "      <th>BMD</th>\n",
       "      <th>MECHANICS_STIFFNESS</th>\n",
       "      <th>CORT_DTO__C_TH</th>\n",
       "      <th>CORT_DTO__C_TH_SD</th>\n",
       "      <th>CORT_MOM__J</th>\n",
       "      <th>CT_TH_RAD</th>\n",
       "      <th>CT_TH_RAD_STD</th>\n",
       "      <th>CANAL_VOLUME</th>\n",
       "      <th>CANAL_COUNT</th>\n",
       "      <th>CANAL_DENSITY</th>\n",
       "      <th>...</th>\n",
       "      <th>CANAL_THETA</th>\n",
       "      <th>CANAL_THETA_CV</th>\n",
       "      <th>CANAL_PCA1</th>\n",
       "      <th>CANAL_PCA1_CV</th>\n",
       "      <th>CANAL_PCA2</th>\n",
       "      <th>CANAL_PCA2_CV</th>\n",
       "      <th>CANAL_PCA3</th>\n",
       "      <th>CANAL_PCA3_CV</th>\n",
       "      <th>FEMALE</th>\n",
       "      <th>ID</th>\n",
       "    </tr>\n",
       "  </thead>\n",
       "  <tbody>\n",
       "    <tr>\n",
       "      <th>0</th>\n",
       "      <td>0.030221</td>\n",
       "      <td>57.163181</td>\n",
       "      <td>0.186455</td>\n",
       "      <td>0.019785</td>\n",
       "      <td>0.103288</td>\n",
       "      <td>78.558303</td>\n",
       "      <td>17.440679</td>\n",
       "      <td>18351.469264</td>\n",
       "      <td>31.0</td>\n",
       "      <td>72.458800</td>\n",
       "      <td>...</td>\n",
       "      <td>59.576428</td>\n",
       "      <td>0.281042</td>\n",
       "      <td>443.537228</td>\n",
       "      <td>1.326217</td>\n",
       "      <td>120.150958</td>\n",
       "      <td>1.677884</td>\n",
       "      <td>30.294477</td>\n",
       "      <td>0.700402</td>\n",
       "      <td>0</td>\n",
       "      <td>351</td>\n",
       "    </tr>\n",
       "    <tr>\n",
       "      <th>1</th>\n",
       "      <td>0.032788</td>\n",
       "      <td>54.972011</td>\n",
       "      <td>0.183007</td>\n",
       "      <td>0.015696</td>\n",
       "      <td>0.126947</td>\n",
       "      <td>88.691516</td>\n",
       "      <td>22.238608</td>\n",
       "      <td>27002.217716</td>\n",
       "      <td>137.0</td>\n",
       "      <td>206.113056</td>\n",
       "      <td>...</td>\n",
       "      <td>54.487601</td>\n",
       "      <td>0.401896</td>\n",
       "      <td>293.627859</td>\n",
       "      <td>1.272190</td>\n",
       "      <td>84.416139</td>\n",
       "      <td>1.541258</td>\n",
       "      <td>34.940901</td>\n",
       "      <td>0.804821</td>\n",
       "      <td>0</td>\n",
       "      <td>356</td>\n",
       "    </tr>\n",
       "    <tr>\n",
       "      <th>2</th>\n",
       "      <td>0.036075</td>\n",
       "      <td>73.590881</td>\n",
       "      <td>0.216930</td>\n",
       "      <td>0.028019</td>\n",
       "      <td>0.171012</td>\n",
       "      <td>79.973567</td>\n",
       "      <td>8.862339</td>\n",
       "      <td>18464.688139</td>\n",
       "      <td>128.0</td>\n",
       "      <td>177.921019</td>\n",
       "      <td>...</td>\n",
       "      <td>56.120693</td>\n",
       "      <td>0.356876</td>\n",
       "      <td>326.470697</td>\n",
       "      <td>1.155693</td>\n",
       "      <td>87.714578</td>\n",
       "      <td>1.051160</td>\n",
       "      <td>32.911487</td>\n",
       "      <td>0.754326</td>\n",
       "      <td>0</td>\n",
       "      <td>357</td>\n",
       "    </tr>\n",
       "    <tr>\n",
       "      <th>3</th>\n",
       "      <td>0.031145</td>\n",
       "      <td>49.854823</td>\n",
       "      <td>0.193758</td>\n",
       "      <td>0.024087</td>\n",
       "      <td>0.099639</td>\n",
       "      <td>88.215056</td>\n",
       "      <td>23.288367</td>\n",
       "      <td>42840.614369</td>\n",
       "      <td>147.0</td>\n",
       "      <td>247.019809</td>\n",
       "      <td>...</td>\n",
       "      <td>50.206993</td>\n",
       "      <td>0.445938</td>\n",
       "      <td>243.130372</td>\n",
       "      <td>1.014527</td>\n",
       "      <td>81.448541</td>\n",
       "      <td>1.162161</td>\n",
       "      <td>37.690527</td>\n",
       "      <td>0.944862</td>\n",
       "      <td>0</td>\n",
       "      <td>359</td>\n",
       "    </tr>\n",
       "    <tr>\n",
       "      <th>4</th>\n",
       "      <td>0.034226</td>\n",
       "      <td>66.578296</td>\n",
       "      <td>0.175598</td>\n",
       "      <td>0.018144</td>\n",
       "      <td>0.176490</td>\n",
       "      <td>79.330125</td>\n",
       "      <td>15.968669</td>\n",
       "      <td>25474.883270</td>\n",
       "      <td>271.0</td>\n",
       "      <td>349.344731</td>\n",
       "      <td>...</td>\n",
       "      <td>53.561597</td>\n",
       "      <td>0.441762</td>\n",
       "      <td>243.212520</td>\n",
       "      <td>1.041145</td>\n",
       "      <td>80.598173</td>\n",
       "      <td>1.394151</td>\n",
       "      <td>39.716728</td>\n",
       "      <td>1.075045</td>\n",
       "      <td>1</td>\n",
       "      <td>360</td>\n",
       "    </tr>\n",
       "  </tbody>\n",
       "</table>\n",
       "<p>5 rows × 35 columns</p>\n",
       "</div>"
      ],
      "text/plain": [
       "        BMD  MECHANICS_STIFFNESS  CORT_DTO__C_TH  CORT_DTO__C_TH_SD  \\\n",
       "0  0.030221            57.163181        0.186455           0.019785   \n",
       "1  0.032788            54.972011        0.183007           0.015696   \n",
       "2  0.036075            73.590881        0.216930           0.028019   \n",
       "3  0.031145            49.854823        0.193758           0.024087   \n",
       "4  0.034226            66.578296        0.175598           0.018144   \n",
       "\n",
       "   CORT_MOM__J  CT_TH_RAD  CT_TH_RAD_STD  CANAL_VOLUME  CANAL_COUNT  \\\n",
       "0     0.103288  78.558303      17.440679  18351.469264         31.0   \n",
       "1     0.126947  88.691516      22.238608  27002.217716        137.0   \n",
       "2     0.171012  79.973567       8.862339  18464.688139        128.0   \n",
       "3     0.099639  88.215056      23.288367  42840.614369        147.0   \n",
       "4     0.176490  79.330125      15.968669  25474.883270        271.0   \n",
       "\n",
       "   CANAL_DENSITY  ...  CANAL_THETA  CANAL_THETA_CV  CANAL_PCA1  CANAL_PCA1_CV  \\\n",
       "0      72.458800  ...    59.576428        0.281042  443.537228       1.326217   \n",
       "1     206.113056  ...    54.487601        0.401896  293.627859       1.272190   \n",
       "2     177.921019  ...    56.120693        0.356876  326.470697       1.155693   \n",
       "3     247.019809  ...    50.206993        0.445938  243.130372       1.014527   \n",
       "4     349.344731  ...    53.561597        0.441762  243.212520       1.041145   \n",
       "\n",
       "   CANAL_PCA2  CANAL_PCA2_CV  CANAL_PCA3  CANAL_PCA3_CV  FEMALE   ID  \n",
       "0  120.150958       1.677884   30.294477       0.700402       0  351  \n",
       "1   84.416139       1.541258   34.940901       0.804821       0  356  \n",
       "2   87.714578       1.051160   32.911487       0.754326       0  357  \n",
       "3   81.448541       1.162161   37.690527       0.944862       0  359  \n",
       "4   80.598173       1.394151   39.716728       1.075045       1  360  \n",
       "\n",
       "[5 rows x 35 columns]"
      ]
     },
     "execution_count": 4,
     "metadata": {},
     "output_type": "execute_result"
    }
   ],
   "source": [
    "pheno.head(5)"
   ]
  },
  {
   "cell_type": "markdown",
   "metadata": {},
   "source": [
    "Genetic Information (genoTable.csv)\n",
    "Each animal has been tagged at a number of different regions of the genome (called markers: D1Mit236)\n",
    "- At each marker there are 3 (actually 4) possibilities\n",
    "- A is homozygous (the same from both parents) from the A strain\n",
    "- B is homozygous from the B strain\n",
    "- H is heterozygous (one from A, one from B)\n",
    "- ‘-’ is missing or erronous measurements"
   ]
  },
  {
   "cell_type": "code",
   "execution_count": 5,
   "metadata": {
    "scrolled": true
   },
   "outputs": [
    {
     "data": {
      "text/html": [
       "<div>\n",
       "<style scoped>\n",
       "    .dataframe tbody tr th:only-of-type {\n",
       "        vertical-align: middle;\n",
       "    }\n",
       "\n",
       "    .dataframe tbody tr th {\n",
       "        vertical-align: top;\n",
       "    }\n",
       "\n",
       "    .dataframe thead th {\n",
       "        text-align: right;\n",
       "    }\n",
       "</style>\n",
       "<table border=\"1\" class=\"dataframe\">\n",
       "  <thead>\n",
       "    <tr style=\"text-align: right;\">\n",
       "      <th></th>\n",
       "      <th>ID</th>\n",
       "      <th>D1Mit64</th>\n",
       "      <th>D1Mit236</th>\n",
       "      <th>D1Mit7</th>\n",
       "      <th>D1Mit386</th>\n",
       "      <th>D1Mit14</th>\n",
       "      <th>D1Mit540</th>\n",
       "      <th>D1Mit17</th>\n",
       "      <th>D2Mit365</th>\n",
       "      <th>D2Mit323</th>\n",
       "      <th>...</th>\n",
       "      <th>D18Mit64</th>\n",
       "      <th>D18Mit147</th>\n",
       "      <th>D18Mit123</th>\n",
       "      <th>D18Mit9</th>\n",
       "      <th>D18Mit4</th>\n",
       "      <th>D19Mit68</th>\n",
       "      <th>D19Mit40</th>\n",
       "      <th>D19MIT88</th>\n",
       "      <th>D19MIT17</th>\n",
       "      <th>D19MIT108</th>\n",
       "    </tr>\n",
       "  </thead>\n",
       "  <tbody>\n",
       "    <tr>\n",
       "      <th>0</th>\n",
       "      <td>351</td>\n",
       "      <td>H</td>\n",
       "      <td>H</td>\n",
       "      <td>H</td>\n",
       "      <td>H</td>\n",
       "      <td>H</td>\n",
       "      <td>H</td>\n",
       "      <td>H</td>\n",
       "      <td>H</td>\n",
       "      <td>H</td>\n",
       "      <td>...</td>\n",
       "      <td>H</td>\n",
       "      <td>H</td>\n",
       "      <td>H</td>\n",
       "      <td>H</td>\n",
       "      <td>H</td>\n",
       "      <td>H</td>\n",
       "      <td>H</td>\n",
       "      <td>H</td>\n",
       "      <td>H</td>\n",
       "      <td>H</td>\n",
       "    </tr>\n",
       "    <tr>\n",
       "      <th>1</th>\n",
       "      <td>353</td>\n",
       "      <td>B</td>\n",
       "      <td>B</td>\n",
       "      <td>B</td>\n",
       "      <td>B</td>\n",
       "      <td>H</td>\n",
       "      <td>H</td>\n",
       "      <td>H</td>\n",
       "      <td>H</td>\n",
       "      <td>A</td>\n",
       "      <td>...</td>\n",
       "      <td>H</td>\n",
       "      <td>A</td>\n",
       "      <td>A</td>\n",
       "      <td>A</td>\n",
       "      <td>H</td>\n",
       "      <td>H</td>\n",
       "      <td>H</td>\n",
       "      <td>H</td>\n",
       "      <td>H</td>\n",
       "      <td>H</td>\n",
       "    </tr>\n",
       "    <tr>\n",
       "      <th>2</th>\n",
       "      <td>354</td>\n",
       "      <td>H</td>\n",
       "      <td>A</td>\n",
       "      <td>A</td>\n",
       "      <td>A</td>\n",
       "      <td>A</td>\n",
       "      <td>H</td>\n",
       "      <td>H</td>\n",
       "      <td>H</td>\n",
       "      <td>H</td>\n",
       "      <td>...</td>\n",
       "      <td>H</td>\n",
       "      <td>-</td>\n",
       "      <td>H</td>\n",
       "      <td>H</td>\n",
       "      <td>A</td>\n",
       "      <td>H</td>\n",
       "      <td>H</td>\n",
       "      <td>A</td>\n",
       "      <td>H</td>\n",
       "      <td>H</td>\n",
       "    </tr>\n",
       "    <tr>\n",
       "      <th>3</th>\n",
       "      <td>355</td>\n",
       "      <td>A</td>\n",
       "      <td>A</td>\n",
       "      <td>H</td>\n",
       "      <td>H</td>\n",
       "      <td>-</td>\n",
       "      <td>H</td>\n",
       "      <td>H</td>\n",
       "      <td>A</td>\n",
       "      <td>A</td>\n",
       "      <td>...</td>\n",
       "      <td>H</td>\n",
       "      <td>H</td>\n",
       "      <td>A</td>\n",
       "      <td>A</td>\n",
       "      <td>A</td>\n",
       "      <td>A</td>\n",
       "      <td>A</td>\n",
       "      <td>-</td>\n",
       "      <td>A</td>\n",
       "      <td>A</td>\n",
       "    </tr>\n",
       "    <tr>\n",
       "      <th>4</th>\n",
       "      <td>356</td>\n",
       "      <td>H</td>\n",
       "      <td>A</td>\n",
       "      <td>A</td>\n",
       "      <td>A</td>\n",
       "      <td>A</td>\n",
       "      <td>A</td>\n",
       "      <td>H</td>\n",
       "      <td>H</td>\n",
       "      <td>-</td>\n",
       "      <td>...</td>\n",
       "      <td>B</td>\n",
       "      <td>H</td>\n",
       "      <td>B</td>\n",
       "      <td>B</td>\n",
       "      <td>H</td>\n",
       "      <td>B</td>\n",
       "      <td>B</td>\n",
       "      <td>B</td>\n",
       "      <td>-</td>\n",
       "      <td>H</td>\n",
       "    </tr>\n",
       "  </tbody>\n",
       "</table>\n",
       "<p>5 rows × 99 columns</p>\n",
       "</div>"
      ],
      "text/plain": [
       "    ID D1Mit64 D1Mit236 D1Mit7 D1Mit386 D1Mit14 D1Mit540 D1Mit17 D2Mit365  \\\n",
       "0  351       H        H      H        H       H        H       H        H   \n",
       "1  353       B        B      B        B       H        H       H        H   \n",
       "2  354       H        A      A        A       A        H       H        H   \n",
       "3  355       A        A      H        H       -        H       H        A   \n",
       "4  356       H        A      A        A       A        A       H        H   \n",
       "\n",
       "  D2Mit323  ... D18Mit64 D18Mit147 D18Mit123 D18Mit9 D18Mit4 D19Mit68  \\\n",
       "0        H  ...        H         H         H       H       H        H   \n",
       "1        A  ...        H         A         A       A       H        H   \n",
       "2        H  ...        H         -         H       H       A        H   \n",
       "3        A  ...        H         H         A       A       A        A   \n",
       "4        -  ...        B         H         B       B       H        B   \n",
       "\n",
       "  D19Mit40 D19MIT88 D19MIT17 D19MIT108  \n",
       "0        H        H        H         H  \n",
       "1        H        H        H         H  \n",
       "2        H        A        H         H  \n",
       "3        A        -        A         A  \n",
       "4        B        B        -         H  \n",
       "\n",
       "[5 rows x 99 columns]"
      ]
     },
     "execution_count": 5,
     "metadata": {},
     "output_type": "execute_result"
    }
   ],
   "source": [
    "geno.head(5)"
   ]
  },
  {
   "cell_type": "markdown",
   "metadata": {},
   "source": [
    "### 2.1.2 Tasks\n",
    "1. Look at the histograms of the available variables"
   ]
  },
  {
   "cell_type": "code",
   "execution_count": 7,
   "metadata": {},
   "outputs": [
    {
     "name": "stderr",
     "output_type": "stream",
     "text": [
      "/Users/kaestner/opt/anaconda3/lib/python3.7/site-packages/ipykernel_launcher.py:2: UserWarning: To output multiple subplots, the figure containing the passed axes is being cleared\n",
      "  \n"
     ]
    },
    {
     "data": {
      "image/png": "[encoded data removed]",
      "text/plain": [
       "<Figure size 1080x1080 with 36 Axes>"
      ]
     },
     "metadata": {
      "needs_background": "light"
     },
     "output_type": "display_data"
    }
   ],
   "source": [
    "fig,ax=plt.subplots(1,1,figsize=(15,15));\n",
    "pheno.hist(ax=ax,bins=50);"
   ]
  },
  {
   "cell_type": "markdown",
   "metadata": {},
   "source": [
    "These are far too many variables to work with. At least for a start. We have to focus on some few e.g.\n",
    "- Bone mineral desnity (BMD)\n",
    "- Cortical bone thickness (CORT_DTO_TH)\n",
    "- Cortical bone Microstructural thickness (CORT_DTO_TH_SD)"
   ]
  },
  {
   "cell_type": "markdown",
   "metadata": {},
   "source": [
    "### 2.1.2.2 Look at the pair plot\n",
    "Explore the data and correlations between various metrics by using the ‘pairplot’ plotting component. Change the components to examine different variables."
   ]
  },
  {
   "cell_type": "code",
   "execution_count": null,
   "metadata": {},
   "outputs": [],
   "source": [
    "sns.pairplot(pheno, vars = ['BMD', 'CORT_DTO__C_TH', 'CORT_DTO__C_TH_SD'])"
   ]
  },
  {
   "cell_type": "markdown",
   "metadata": {},
   "source": [
    "3. For the rest of the analysis you can connect the various components to the ‘Column Filter’ node since that is the last step in the processing\n",
    "4. Use one of the T-Test nodes in the Statistics -> Hypothesis Testing section to see if there is a statistically significant difference between Gender’s when examining Cortical Bone Microstructural Thickness (Mean)\n",
    "    - Which value is the p-value?\n",
    "    - What does the p-value mean, is it significant, by what criterion?\n",
    "5. Use another node from the Hypothesis Testing section to evaluate the effect on the D16Mit5 on the Lacuna Distribution Anisotropy? Is it significant?"
   ]
  },
  {
   "cell_type": "markdown",
   "metadata": {},
   "source": [
    "## 2.1.3. Questions\n",
    "1. In the ‘Independent Groups T-Test’ node we can run a t-test against all of the columns at the same time, why SHOULDN’T we do this?\n",
    "2. If we do, how do we need to interpret this in the results\n",
    "3. Is p<0.05 a sufficient signifance criteria?"
   ]
  },
  {
   "cell_type": "markdown",
   "metadata": {},
   "source": [
    "## 2.2 Comparing two real bone samples\n",
    "For this example we will compare two real cortical bone samples taken from mice. The data will be downloaded in KNIME from the course website (KNIME can also download / upload to FTP servers making sharing results and data easier). - If you are using your own computer you will need to change the Target Folder in both of the “Download” nodes to something reasonable (just click Browse)\n",
    "\n",
    "For the purpose of the analysis and keeping the data sizes small, we will use Kevin’s Crazy Camera again for simulating the noisy detection process. The assignment aims to be more integrative and you will combine a number of different lectures to get to the final answer."
   ]
  },
  {
   "cell_type": "markdown",
   "metadata": {},
   "source": [
    "\n",
    "![Workflow](workflow_TwoSampleOneCamera.svg)\n"
   ]
  },
  {
   "cell_type": "markdown",
   "metadata": {},
   "source": [
    "### 2.2.1 Questions\n",
    "1. We want to know if there is a statistically significant difference in\n",
    "    - cell volume\n",
    "    - cell shape\n",
    "    - cell density\n",
    "    - between the two samples given the variation in the detector\n",
    "    - which metric do we need here? why?\n",
    "2. We see in the volume comparison a very skewed representation of the data Volume/Num Pixels\n",
    "    - why is this? (Hint check the segmented images)\n",
    "    - What might be done to alleviate it (hint Row Filter)"
   ]
  },
  {
   "cell_type": "markdown",
   "metadata": {},
   "source": [
    "### 2.2.2 Hints\n",
    "1. Look at the kind of noise (you can peek inside the Crappy Camera) to choose the proper filter\n",
    "2. Use an automated thresholding technique for finding the bone automatic-methods\n",
    "3. To do this we will need to enhance the image, segment out the bone (dense) tissue, find the mask so that we can look at the\n",
    "4. We then need to label the cells, and analyze their volume and shape: labeling\n",
    "5. Use a Chunk Loop for the Segmenting Features node to prevent all of the features being dumped into the same output (they can afterwards be recombined with the original images using the Join node)\n",
    "6. The final join should combine the output of the feature analysis (the end loop in this case) and the original crappy camera images. Since the Chunk Loop outputs iterations, we simply use that as the key for joining\n",
    "7. Use Morphology and strongy filter parameters it might be possible to maximize the differences in the groups\n",
    "8. You can make the plots in R (sometimes easier than KNIME) using the R View (Table) node and the following code (for volume)\n",
    "\n",
    "``` R\n",
    "library(ggplot2)\n",
    "cur.df<-data.frame(\n",
    "  sample=as.factor(knime.in$\"Image Number\"),\n",
    "    measurement=knime.in$\"Measurement_Number\",\n",
    "    volume=knime.in$\"Num Pix\"\n",
    "    )\n",
    "    \n",
    "ggplot(cur.df,aes(x=volume))+\n",
    "    geom_density(aes(color=sample,group=measurement))+\n",
    "    theme_bw(25)\n",
    "```"
   ]
  },
  {
   "cell_type": "code",
   "execution_count": null,
   "metadata": {},
   "outputs": [],
   "source": []
  }
 ],
 "metadata": {
  "hide_input": false,
  "kernelspec": {
   "display_name": "Python 3",
   "language": "python",
   "name": "python3"
  },
  "language_info": {
   "codemirror_mode": {
    "name": "ipython",
    "version": 3
   },
   "file_extension": ".py",
   "mimetype": "text/x-python",
   "name": "python",
   "nbconvert_exporter": "python",
   "pygments_lexer": "ipython3",
   "version": "3.7.6"
  }
 },
 "nbformat": 4,
 "nbformat_minor": 4
}
