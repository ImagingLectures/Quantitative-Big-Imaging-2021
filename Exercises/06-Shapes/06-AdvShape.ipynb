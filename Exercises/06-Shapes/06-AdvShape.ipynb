{
 "cells": [
  {
   "cell_type": "code",
   "execution_count": null,
   "metadata": {},
   "outputs": [],
   "source": [
    "import numpy as np\n",
    "import skimage.transform\n",
    "import scipy\n",
    "from scipy import ndimage\n",
    "import matplotlib.pyplot as plt\n",
    "from skimage.morphology import medial_axis, watershed\n",
    "create_dist_map = lambda img, mask=None: medial_axis(img,mask, return_distance = True)[1]\n",
    "import os\n",
    "from skimage.measure import block_reduce\n",
    "plt_settings = {'interpolation':'none'}\n",
    "%matplotlib inline"
   ]
  },
  {
   "cell_type": "markdown",
   "metadata": {},
   "source": [
    "# Distance Maps\n",
    "Here we calculate distance maps with the ```ndimage.distance_transform_``` family of functions. Initially we focus on test images since it is easier to see what is happening with these images."
   ]
  },
  {
   "cell_type": "code",
   "execution_count": null,
   "metadata": {},
   "outputs": [],
   "source": [
    "def generate_dot_image(size = 100, cutoff = 0.15):\n",
    "    \"\"\"\n",
    "    Create a simple  synthetic image with a repeating pattern\n",
    "    Keyword arguments:\n",
    "    size -- the size of the image on one size, final size is size x size (default 100)\n",
    "    imag -- the cutoff between 0 and 1, higher means less connected objects (default 0.15)\n",
    "    \"\"\"\n",
    "    xx,yy = np.meshgrid(range(size),range(size))\n",
    "    return np.sin(6*np.pi*xx/(100)-1)+1.25*np.cos(5*np.pi*yy/(100)-2)>cutoff"
   ]
  },
  {
   "cell_type": "code",
   "execution_count": null,
   "metadata": {},
   "outputs": [],
   "source": [
    "%matplotlib inline\n",
    "img_bw = generate_dot_image(28,0.50)\n",
    "plt.imshow(img_bw,cmap='gray', **plt_settings)"
   ]
  },
  {
   "cell_type": "code",
   "execution_count": null,
   "metadata": {},
   "outputs": [],
   "source": [
    "%matplotlib inline\n",
    "img_dist = ndimage.distance_transform_edt(img_bw)\n",
    "plt.imshow(img_dist, **plt_settings)\n"
   ]
  },
  {
   "cell_type": "markdown",
   "metadata": {},
   "source": [
    "## Comparing \n",
    "There are a number of different methods for ```distance_transform``` inside the ```ndimage``` package of ```scipy``` compare the results of the different approaches for this and other images.\n",
    "- What are the main differences?\n",
    "- Quantitatively (histogram) show what situations each one might be best suited for?"
   ]
  },
  {
   "cell_type": "code",
   "execution_count": null,
   "metadata": {},
   "outputs": [],
   "source": [
    "%matplotlib inline\n",
    "# calculate new distance transforms\n",
    "img_dist = ndimage.distance_transform_edt(img_bw)\n",
    "img_dist_cityblock = ndimage.distance_transform_cdt(img_bw,metric = 'taxicab')\n",
    "img_dist_chess = ndimage.distance_transform_cdt(img_bw,metric = 'chessboard')\n",
    "\n",
    "fig, (ax1,ax2,ax3,ax4) = plt.subplots(1,4, figsize = (30,10))\n",
    "ax1.imshow(img_bw,cmap = 'gray', **plt_settings)\n",
    "ax1.set_title('Mask Image')\n",
    "dmap_im = ax2.imshow(img_dist,vmax = img_dist.max(), **plt_settings)\n",
    "ax2.set_title('Euclidean')\n",
    "ax3.imshow(img_dist_cityblock,vmax = img_dist.max(), **plt_settings)\n",
    "ax3.set_title('Cityblock')\n",
    "ax4.imshow(img_dist_chess,vmax = img_dist.max(), **plt_settings)\n",
    "ax4.set_title('Chess')\n",
    "fig.subplots_adjust(right=0.8)\n",
    "cbar_ax = fig.add_axes([0.85, 0.15, 0.05, 0.7])\n",
    "cbar = fig.colorbar(dmap_im,cax=cbar_ax)\n",
    "cbar_ax.set_title('Distance\\n(px)')\n"
   ]
  },
  {
   "cell_type": "markdown",
   "metadata": {},
   "source": [
    "## More Complicated Objects\n",
    "We now make the image bigger (changing the ```size``` parameter) and connect them together (the ```cutoff``` parameter)"
   ]
  },
  {
   "cell_type": "code",
   "execution_count": null,
   "metadata": {
    "scrolled": true
   },
   "outputs": [],
   "source": [
    "%matplotlib inline\n",
    "# use a bigger base image\n",
    "img_bw = generate_dot_image(100,0.15)\n",
    "img_dist = ndimage.distance_transform_edt(img_bw)\n",
    "img_dist_cityblock = ndimage.distance_transform_cdt(img_bw,metric = 'taxicab')\n",
    "img_dist_chess = ndimage.distance_transform_cdt(img_bw,metric = 'chessboard')\n",
    "\n",
    "fig, (ax1,ax2,ax3,ax4) = plt.subplots(1,4, figsize = (30,10))\n",
    "ax1.imshow(img_bw,cmap = 'gray', **plt_settings)\n",
    "ax1.set_title('Mask Image')\n",
    "dmap_im = ax2.imshow(img_dist,vmax = img_dist.max(), **plt_settings)\n",
    "ax2.set_title('Euclidean')\n",
    "ax3.imshow(img_dist_cityblock,vmax = img_dist.max(), **plt_settings)\n",
    "ax3.set_title('Cityblock')\n",
    "ax4.imshow(img_dist_chess,vmax = img_dist.max(), **plt_settings)\n",
    "ax4.set_title('Chess')\n",
    "fig.subplots_adjust(right=0.8)\n",
    "cbar_ax = fig.add_axes([0.85, 0.15, 0.05, 0.7])\n",
    "cbar = fig.colorbar(dmap_im,cax=cbar_ax)\n",
    "cbar_ax.set_title('Distance\\n(px)')\n"
   ]
  },
  {
   "cell_type": "markdown",
   "metadata": {},
   "source": [
    "# Watershed\n",
    "We can use the watershed transform to segment closely connected objects. We see in the first image that the standard connected component labeling ```ndimage.label``` shows only 3 when we see 9"
   ]
  },
  {
   "cell_type": "code",
   "execution_count": null,
   "metadata": {},
   "outputs": [],
   "source": [
    "cc_img = ndimage.label(img_bw)[0]\n",
    "\n",
    "%matplotlib inline\n",
    "fig, (ax1,ax2) = plt.subplots(1,2, figsize = (30,10))\n",
    "ax1.imshow(img_bw,cmap = 'gray', **plt_settings)\n",
    "ax1.set_title('Mask Image')\n",
    "dmap_im = ax2.imshow(cc_img, **plt_settings)\n",
    "ax2.set_title('Connected Component Analysis');"
   ]
  },
  {
   "cell_type": "code",
   "execution_count": null,
   "metadata": {},
   "outputs": [],
   "source": [
    "from skimage.feature import peak_local_max\n",
    "def simple_watershed(img_dist, img_bw):\n",
    "    \"\"\"\n",
    "    Calculate the watershed transform on an image and its distance map \n",
    "    by finding the troughs and expanding from these points\n",
    "    \"\"\"\n",
    "    local_maxi = peak_local_max(img_dist, labels=img_bw,\n",
    "                                footprint=np.ones((3, 3)),\n",
    "                                indices=False)\n",
    "    markers = ndimage.label(local_maxi)[0]\n",
    "    return watershed(-img_dist,markers,mask = img_bw)"
   ]
  },
  {
   "cell_type": "markdown",
   "metadata": {},
   "source": [
    "## Applying Watershed\n",
    "We can apply watershed to the following image. \n",
    "- Why do the bottom row of objects not show up?\n",
    "- How can the results be improved"
   ]
  },
  {
   "cell_type": "code",
   "execution_count": null,
   "metadata": {},
   "outputs": [],
   "source": [
    "ws_img = simple_watershed(img_dist,img_bw)\n",
    "%matplotlib inline\n",
    "fig, (ax1,ax2,ax3) = plt.subplots(1,3, figsize = (30,10))\n",
    "ax1.imshow(img_bw,cmap = 'gray', **plt_settings)\n",
    "ax1.set_title('Mask Image')\n",
    "ax2.imshow(cc_img, cmap=\"tab20\",**plt_settings)\n",
    "ax2.set_title('Connected Component Analysis')\n",
    "ax3.imshow(ws_img, cmap=\"tab20\",**plt_settings)\n",
    "ax3.set_title('Watershed Analysis')"
   ]
  },
  {
   "cell_type": "code",
   "execution_count": null,
   "metadata": {},
   "outputs": [],
   "source": []
  }
 ],
 "metadata": {
  "hide_input": false,
  "kernelspec": {
   "display_name": "Python 3",
   "language": "python",
   "name": "python3"
  },
  "language_info": {
   "codemirror_mode": {
    "name": "ipython",
    "version": 3
   },
   "file_extension": ".py",
   "mimetype": "text/x-python",
   "name": "python",
   "nbconvert_exporter": "python",
   "pygments_lexer": "ipython3",
   "version": "3.7.6"
  }
 },
 "nbformat": 4,
 "nbformat_minor": 1
}
